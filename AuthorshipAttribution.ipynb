{
 "cells": [
  {
   "cell_type": "markdown",
   "metadata": {},
   "source": [
    "<a href=\"https://www.nvidia.com/dli\"> <img src=\"../images/DLI_Header.png\" alt=\"Header\" style=\"width: 400px;\"/> </a>"
   ]
  },
  {
   "cell_type": "markdown",
   "metadata": {},
   "source": [
    "# Authorship Attribution"
   ]
  },
  {
   "cell_type": "markdown",
   "metadata": {},
   "source": [
    "Authorship attribution is a type of text classification problem.  Instead of categorizing text by _topic_, as we did in the disease text classification problem, the objective is to classify the text by _author_.  \n",
    "\n",
    "The inherent assumption in trying to solve a problem like this is that there is *some difference between the styles* of the authors in question, *which can be discerned by a model*.  Is that the case for BERT et al?  Is a language model able to \"understand\" written style? "
   ]
  },
  {
   "cell_type": "markdown",
   "metadata": {},
   "source": [
    "# The Problem\n",
    "### The Federalist Papers - History Mystery!\n",
    "\n",
    "The [Federalist Papers](https://en.wikipedia.org/wiki/The_Federalist_Papers) are a set of essays written between 1787 and 1788 by Alexander Hamilton, James Madison and John Jay.  Initially published under the pseudonym 'Publius', their intent was to encourage the ratification of the then-new Constitution of the United States of America.  In later years, a list emerged where the author of each one of the 85 papers was identified.  Nevertheless, for a subset of these papers the author is still in question.  The problem of the Federalist Papers authorship attribution has been a subject of much research in statistical NLP in the past.   Now we will try to solve this question with our own BERT-based project model.\n",
    "                                                                                                           \n",
    "In concrete terms, the problem is identifying, for each one of the disputed papers, whether Alexander Hamilton or James Madison are the authors.  For this exercise, we can assume that each paper has a single author, i.e., that no collaboration took place (though *that* is not 100% certain!), and that each author has a well-defined writing style that is displayed across all the identified papers. \n",
    "\n",
    "### This Project\n",
    "we are provided with labeled `train.tsv` and `dev.tsv` datasets for the project.  There are 10 test sets, one for each of the disputed papers.  All datasets are contained in the `data/federalist_papers_HM` directory.  \n",
    "\n",
    "Each \"sentence\" is actually a group of sentences of approximately 256 words.  The labels are '0' for HAMILTON and '1' for MADISON.  There are more papers by Hamilton in the example files than by Madison.  The validation set has been created with approximately the same distribution of the two labels as in the training set.\n",
    "\n",
    "our task is to build neural networks using NeMo, as we did in Lab 2.  we'll train our model and test it.  Then we'll use provided collation code to see what answers our model gives to the \"history mystery\"!"
   ]
  },
  {
   "cell_type": "markdown",
   "metadata": {},
   "source": [
    "# Preparing the Data"
   ]
  },
  {
   "cell_type": "code",
   "execution_count": 1,
   "metadata": {},
   "outputs": [
    {
     "name": "stderr",
     "output_type": "stream",
     "text": [
      "[NeMo W 2021-06-21 18:49:13 audio_preprocessing:56] Could not import torchaudio. Some features might not work.\n"
     ]
    }
   ],
   "source": [
    "# Import useful math and utility libraries\n",
    "import os\n",
    "import json\n",
    "import math\n",
    "import json\n",
    "import pickle\n",
    "import numpy as np\n",
    "import pandas as pd\n",
    "pd.options.display.max_colwidth = -1\n",
    "import torch\n",
    "\n",
    "# Import the nemo toolkit and NLP libraries\n",
    "import nemo\n",
    "import nemo.collections.nlp as nemo_nlp\n",
    "\n",
    "# Import the specific neural modules we need\n",
    "from nemo.collections.nlp.nm.data_layers import BertTextClassificationDataLayer\n",
    "from nemo.collections.nlp.nm.trainables import get_pretrained_lm_model, SequenceClassifier\n",
    "from nemo.backends.pytorch.common.losses import CrossEntropyLossNM\n",
    "    \n",
    "# Import helpers for fetching the learning rate and tokenizer functions\n",
    "from nemo.utils.lr_policies import get_lr_policy\n",
    "from nemo.collections.nlp.data.tokenizers import get_tokenizer\n",
    "\n",
    "# Import callbacks and callback functions\n",
    "from nemo.core import SimpleLogger, TensorboardLogger, EvaluatorCallback, CheckpointCallback\n",
    "from nemo.collections.nlp.callbacks.text_classification_callback import eval_iter_callback, eval_epochs_done_callback\n",
    "\n",
    "# Identify the input data location.\n",
    "DATA_DIR = '/dli/task/data/federalist_papers_HM/'"
   ]
  },
  {
   "cell_type": "code",
   "execution_count": 2,
   "metadata": {},
   "outputs": [],
   "source": [
    "# Identify the pretrained model \n",
    "# and where information and checkpoints will be logged\n",
    "\n",
    "# PRETRAINED_MODEL_NAME = 'bert-base-uncased'\n",
    "# WORK_DIR = '/dli/task/data/logs-bbu/'\n",
    "\n",
    "PRETRAINED_MODEL_NAME = 'bert-base-cased'\n",
    "WORK_DIR = '/dli/task/data/logs-bbc/'\n",
    "\n",
    "# PRETRAINED_MODEL_NAME = 'megatron-bert-345m-uncased'\n",
    "# WORK_DIR = '/dli/task/data/logs-m345u/'\n",
    "\n",
    "# PRETRAINED_MODEL_NAME = 'bert-large-uncased'\n",
    "# WORK_DIR = '/dli/task/data/logs-blu/'"
   ]
  },
  {
   "cell_type": "markdown",
   "metadata": {},
   "source": [
    "### Setting sizing parameters"
   ]
  },
  {
   "cell_type": "code",
   "execution_count": 3,
   "metadata": {},
   "outputs": [],
   "source": [
    "# Set the number of words in the sequences\n",
    "# Set the number of classes for the classifier\n",
    "# Set the batch size for processing\n",
    "MAX_SEQ_LEN = 128 #FIXME \n",
    "NUM_CLASSES = 2 #FIXME\n",
    "BATCH_SIZE = 64#FIXME\n",
    "# To use mixed precision, set AMP_OPTIMIZATION_LEVEL to 'O1' or 'O2',\n",
    "# to train without mixed precision, set it to 'O0'.\n",
    "AMP_OPTIMIZATION_LEVEL = 'O1'"
   ]
  },
  {
   "cell_type": "code",
   "execution_count": 4,
   "metadata": {},
   "outputs": [],
   "source": [
    "# Run to save for assessment- DO NOT CHANGE\n",
    "with open(\"my_assessment/step1.json\", \"w\") as outfile: \n",
    "    json.dump([MAX_SEQ_LEN, NUM_CLASSES, BATCH_SIZE], outfile) "
   ]
  },
  {
   "cell_type": "markdown",
   "metadata": {},
   "source": [
    "# Preparing the Training Pipeline"
   ]
  },
  {
   "cell_type": "markdown",
   "metadata": {},
   "source": [
    "### NeuralModuleFactory"
   ]
  },
  {
   "cell_type": "code",
   "execution_count": 5,
   "metadata": {},
   "outputs": [],
   "source": [
    "# Instantiate the neural module factory\n",
    "nf = nemo.core.NeuralModuleFactory(log_dir=WORK_DIR,\n",
    "                                   create_tb_writer=True,\n",
    "                                   add_time_to_log_dir=False,\n",
    "                                   optimization_level=AMP_OPTIMIZATION_LEVEL)"
   ]
  },
  {
   "cell_type": "markdown",
   "metadata": {},
   "source": [
    "### Creating the Training Neural Modules"
   ]
  },
  {
   "cell_type": "code",
   "execution_count": 10,
   "metadata": {
    "scrolled": true
   },
   "outputs": [
    {
     "name": "stdout",
     "output_type": "stream",
     "text": [
      "[NeMo I 2021-06-21 19:14:40 bert_tokenizer:78] Deriving bert model type from pretrained model name.\n",
      "[NeMo I 2021-06-21 19:14:40 text_classification_dataset:217] features restored from /dli/task/data/federalist_papers_HM/cached_train_BertTokenizer_128_28996\n",
      "dl_train features include batchsize of 64 and shuffle = True\n"
     ]
    }
   ],
   "source": [
    "# Instantiate the data Layer neural module for training.\n",
    "#     Include the input file locations, tokenizer, max_seq_length, and batch size.\n",
    "#     Set the shuffle and use_cache to True for training  \n",
    "USE_CACHE = True\n",
    "tokenizer = get_tokenizer(tokenizer_name='nemobert', pretrained_model_name=PRETRAINED_MODEL_NAME)\n",
    "dl_train = BertTextClassificationDataLayer(input_file=(DATA_DIR+'train.tsv'),\n",
    "                                          tokenizer=tokenizer,\n",
    "                                          max_seq_length=MAX_SEQ_LEN,\n",
    "                                          batch_size=BATCH_SIZE,\n",
    "                                          use_cache=USE_CACHE,\n",
    "                                          shuffle=True) #FIXME\n",
    "\n",
    "# Sanity check\n",
    "print('dl_train features include batchsize of {} and shuffle = {}'.format(dl_train._batch_size, dl_train._shuffle))"
   ]
  },
  {
   "cell_type": "code",
   "execution_count": 11,
   "metadata": {},
   "outputs": [
    {
     "data": {
      "application/vnd.jupyter.widget-view+json": {
       "model_id": "44dba3fd3c2e4d3d8b517e01fd7de6b6",
       "version_major": 2,
       "version_minor": 0
      },
      "text/plain": [
       "HBox(children=(IntProgress(value=0, description='Downloading', max=433, style=ProgressStyle(description_width=…"
      ]
     },
     "metadata": {},
     "output_type": "display_data"
    },
    {
     "name": "stdout",
     "output_type": "stream",
     "text": [
      "\n"
     ]
    },
    {
     "data": {
      "application/vnd.jupyter.widget-view+json": {
       "model_id": "bb4227d54c10421aa30ddb8040175289",
       "version_major": 2,
       "version_minor": 0
      },
      "text/plain": [
       "HBox(children=(IntProgress(value=0, description='Downloading', max=435779157, style=ProgressStyle(description_…"
      ]
     },
     "metadata": {},
     "output_type": "display_data"
    },
    {
     "name": "stdout",
     "output_type": "stream",
     "text": [
      "\n",
      "bert-base-cased has 108310272 weights\n"
     ]
    }
   ],
   "source": [
    "# Instantiate the Language Model with the get_pretrained_lm_model function\n",
    "#    Include the pretrained_model_name as the parameter\n",
    "lm = get_pretrained_lm_model(pretrained_model_name=PRETRAINED_MODEL_NAME) \n",
    "\n",
    "# Sanity check the number of weight parameters\n",
    "print(f'{PRETRAINED_MODEL_NAME} has {lm.num_weights} weights')"
   ]
  },
  {
   "cell_type": "code",
   "execution_count": 12,
   "metadata": {},
   "outputs": [
    {
     "name": "stdout",
     "output_type": "stream",
     "text": [
      "Classifier has 592130 weights\n"
     ]
    }
   ],
   "source": [
    "# Instantiate the SequenceClassifier\n",
    "#    Include the hidden_size, num_classes (which is NUM_CLASSES), num_layers (set to 2), \n",
    "#    and a dropout rate of 0.1\n",
    "lm_hidden_size = lm.hidden_size\n",
    "classifier = SequenceClassifier(hidden_size=lm_hidden_size,\n",
    "                                num_classes=NUM_CLASSES,\n",
    "                                num_layers=2,\n",
    "                                dropout=0.1) #FIXME\n",
    "\n",
    "# Sanity check the number of weight parameters\n",
    "print(f'Classifier has {classifier.num_weights} weights')"
   ]
  },
  {
   "cell_type": "code",
   "execution_count": 13,
   "metadata": {},
   "outputs": [
    {
     "name": "stdout",
     "output_type": "stream",
     "text": [
      "ModuleType.loss\n"
     ]
    }
   ],
   "source": [
    "# Instantiate the CrossEntropyLossNM Loss Function (no parameters required)\n",
    "loss = CrossEntropyLossNM() #FIXME\n",
    "\n",
    "# Sanity check the loss - it should be ModuleType \"loss\"\n",
    "print(loss._type)"
   ]
  },
  {
   "cell_type": "code",
   "execution_count": 14,
   "metadata": {},
   "outputs": [],
   "source": [
    "# Run to save for assessment- DO NOT CHANGE\n",
    "with open(\"my_assessment/step2.json\", \"w\") as outfile: \n",
    "    json.dump([str(dl_train()), str(lm), str(classifier), str(loss)], outfile)"
   ]
  },
  {
   "cell_type": "markdown",
   "metadata": {},
   "source": [
    "### Training Graph"
   ]
  },
  {
   "cell_type": "code",
   "execution_count": 15,
   "metadata": {},
   "outputs": [
    {
     "name": "stdout",
     "output_type": "stream",
     "text": [
      "Types are:\n",
      "BertTextClassificationDataLayerOutput(input_ids=<nemo.core.neural_types.neural_type.NmTensor object at 0x7f91194b8e80>, input_type_ids=<nemo.core.neural_types.neural_type.NmTensor object at 0x7f9119971898>, input_mask=<nemo.core.neural_types.neural_type.NmTensor object at 0x7f91199cdb70>, labels=<nemo.core.neural_types.neural_type.NmTensor object at 0x7f9119971d30>)\n",
      "hidden_states\n",
      "logits\n",
      "loss\n"
     ]
    }
   ],
   "source": [
    "# Define the data output from the data layer\n",
    "train_data = dl_train()\n",
    "\n",
    "# Define train_embeddings from the language model, based on inputs from the data layer  \n",
    "train_embeddings = lm(input_ids=train_data.input_ids,\n",
    "                      token_type_ids=train_data.input_type_ids,\n",
    "                      attention_mask=train_data.input_mask)\n",
    "\n",
    "# Define the train_logits from the clasifier, based on the embeddings from the language model\n",
    "train_logits = classifier(hidden_states=train_embeddings)\n",
    "\n",
    "# Define the train_loss based on the classifier logits and data layer labels\n",
    "train_loss = loss(logits=train_logits, labels=train_data.labels)\n",
    "\n",
    "# Sanity check the outputs\n",
    "print('Types are:\\n{}\\n{}\\n{}\\n{}'.format(train_data, train_embeddings, train_logits, train_loss))"
   ]
  },
  {
   "cell_type": "markdown",
   "metadata": {},
   "source": [
    "# Validation Pipeline"
   ]
  },
  {
   "cell_type": "markdown",
   "metadata": {},
   "source": [
    "### Create the Validataion Data Layer Neural Module"
   ]
  },
  {
   "cell_type": "code",
   "execution_count": 17,
   "metadata": {
    "scrolled": true
   },
   "outputs": [
    {
     "name": "stdout",
     "output_type": "stream",
     "text": [
      "[NeMo I 2021-06-21 19:21:51 text_classification_dataset:217] features restored from /dli/task/data/federalist_papers_HM/cached_dev_BertTokenizer_128_28996\n",
      "dl_val features include batchsize of 64 and shuffle = False\n"
     ]
    }
   ],
   "source": [
    "# Instantiate the data Layer neural module for validation. \n",
    "dl_val = BertTextClassificationDataLayer(input_file=os.path.join(DATA_DIR, 'dev.tsv'),\n",
    "                                             tokenizer=tokenizer,\n",
    "                                             max_seq_length=MAX_SEQ_LEN,\n",
    "                                             batch_size=BATCH_SIZE,\n",
    "                                             use_cache=USE_CACHE)\n",
    "\n",
    "# Sanity check\n",
    "print('dl_val features include batchsize of {} and shuffle = {}'.format(dl_val._batch_size, dl_val._shuffle))"
   ]
  },
  {
   "cell_type": "markdown",
   "metadata": {},
   "source": [
    "### Validation Graph"
   ]
  },
  {
   "cell_type": "code",
   "execution_count": 18,
   "metadata": {},
   "outputs": [
    {
     "name": "stdout",
     "output_type": "stream",
     "text": [
      "Types are:\n",
      "BertTextClassificationDataLayerOutput(input_ids=<nemo.core.neural_types.neural_type.NmTensor object at 0x7f911822dd68>, input_type_ids=<nemo.core.neural_types.neural_type.NmTensor object at 0x7f911822def0>, input_mask=<nemo.core.neural_types.neural_type.NmTensor object at 0x7f911822de80>, labels=<nemo.core.neural_types.neural_type.NmTensor object at 0x7f911822dba8>)\n",
      "hidden_states\n",
      "logits\n",
      "loss\n"
     ]
    }
   ],
   "source": [
    "# Define the data output from the data layer\n",
    "val_data = dl_val() #FIXME\n",
    "\n",
    "# Define val_embeddings from the language model, based on inputs from the data layer  \n",
    "val_embeddings = lm(input_ids=val_data.input_ids,\n",
    "                    token_type_ids=val_data.input_type_ids,\n",
    "                    attention_mask=val_data.input_mask) #FIXME\n",
    "\n",
    "# Define val_logits from the clasifier, based on the embeddings from the language model\n",
    "val_logits = classifier(hidden_states=val_embeddings) #FIXME\n",
    "\n",
    "# Define val_loss based on the classifier logits and data layer labels\n",
    "val_loss = loss(logits=val_logits, labels=val_data.labels) #FIXME\n",
    "\n",
    "# Sanity check the types - they should be the same as for the training graph (not None!)\n",
    "print('Types are:\\n{}\\n{}\\n{}\\n{}'.format(val_data, val_embeddings, val_logits, val_loss))"
   ]
  },
  {
   "cell_type": "markdown",
   "metadata": {},
   "source": [
    "# Training"
   ]
  },
  {
   "cell_type": "markdown",
   "metadata": {},
   "source": [
    "### Calculating steps"
   ]
  },
  {
   "cell_type": "code",
   "execution_count": 20,
   "metadata": {},
   "outputs": [],
   "source": [
    "NUM_EPOCHS = 15\n",
    "NUM_GPUS = 1  # always should be 1 for these labs\n",
    "\n",
    "train_data_size = len(dl_train)\n",
    "steps_per_epoch = math.ceil(train_data_size / (BATCH_SIZE * NUM_GPUS))"
   ]
  },
  {
   "cell_type": "markdown",
   "metadata": {},
   "source": [
    "### Setting optimizer and learning rate"
   ]
  },
  {
   "cell_type": "code",
   "execution_count": 21,
   "metadata": {},
   "outputs": [],
   "source": [
    "OPTIMIZER = 'adam'\n",
    "LEARNING_RATE = 1e-4\n",
    "WARMUP_RATIO = 0.1\n",
    "\n",
    "lr_policy_fn = get_lr_policy(\"WarmupAnnealing\", \n",
    "                             total_steps=NUM_EPOCHS * steps_per_epoch, \n",
    "                             warmup_ratio=WARMUP_RATIO\n",
    ")"
   ]
  },
  {
   "cell_type": "markdown",
   "metadata": {},
   "source": [
    "### Creating the Callbacks"
   ]
  },
  {
   "cell_type": "code",
   "execution_count": 22,
   "metadata": {},
   "outputs": [],
   "source": [
    "# Create callback for simple logging\n",
    "train_callback = SimpleLogger(step_freq=steps_per_epoch)\n",
    "\n",
    "# Create callback for tensorboard logging\n",
    "tensorboard_callback = TensorboardLogger(nf.tb_writer,\n",
    "                                        step_freq=steps_per_epoch)\n",
    "\n",
    "# Create callback to evaluate each epoch against the validation data\n",
    "eval_callback = EvaluatorCallback(eval_tensors=[val_logits, val_data.labels],\n",
    "                                            user_iter_callback=lambda x, y: eval_iter_callback(x, y, dl_val),\n",
    "                                            user_epochs_done_callback=lambda x:\n",
    "                                                eval_epochs_done_callback(x, f'{nf.work_dir}graphs'),\n",
    "                                            tb_writer=nf.tb_writer,\n",
    "                                            eval_step=steps_per_epoch)\n",
    "\n",
    "# Create callback to save checkpoints\n",
    "ckpt_callback = CheckpointCallback(folder=nf.checkpoint_dir,\n",
    "                                             epoch_freq=1)"
   ]
  },
  {
   "cell_type": "markdown",
   "metadata": {},
   "source": [
    "### Running the Trainer"
   ]
  },
  {
   "cell_type": "code",
   "execution_count": 23,
   "metadata": {
    "scrolled": true
   },
   "outputs": [
    {
     "name": "stdout",
     "output_type": "stream",
     "text": [
      "Selected optimization level O1:  Insert automatic casts around Pytorch functions and Tensor methods.\n",
      "\n",
      "Defaults for this optimization level are:\n",
      "enabled                : True\n",
      "opt_level              : O1\n",
      "cast_model_type        : None\n",
      "patch_torch_functions  : True\n",
      "keep_batchnorm_fp32    : None\n",
      "master_weights         : None\n",
      "loss_scale             : dynamic\n",
      "Processing user overrides (additional kwargs that are not None)...\n",
      "After processing overrides, optimization options are:\n",
      "enabled                : True\n",
      "opt_level              : O1\n",
      "cast_model_type        : None\n",
      "patch_torch_functions  : True\n",
      "keep_batchnorm_fp32    : None\n",
      "master_weights         : None\n",
      "loss_scale             : dynamic\n",
      "[NeMo I 2021-06-21 19:32:19 callbacks:534] Found 2 modules with weights:\n",
      "[NeMo I 2021-06-21 19:32:19 callbacks:536] BERT\n",
      "[NeMo I 2021-06-21 19:32:19 callbacks:536] SequenceClassifier\n",
      "[NeMo I 2021-06-21 19:32:19 callbacks:537] Total model parameters: 108902402\n",
      "[NeMo I 2021-06-21 19:32:19 callbacks:473] Found checkpoint folder /dli/task/data/logs-bbc/checkpoints. Will attempt to restore checkpoints from it.\n"
     ]
    },
    {
     "name": "stderr",
     "output_type": "stream",
     "text": [
      "[NeMo W 2021-06-21 19:32:19 callbacks:499] For module BERT, no file matches  in /dli/task/data/logs-bbc/checkpoints\n",
      "[NeMo W 2021-06-21 19:32:19 callbacks:501] Checkpoint folder /dli/task/data/logs-bbc/checkpoints was present but nothing was restored. Continuing training from random initialization.\n"
     ]
    },
    {
     "name": "stdout",
     "output_type": "stream",
     "text": [
      "[NeMo I 2021-06-21 19:32:20 callbacks:232] loss: 0.67691934\n",
      "[NeMo I 2021-06-21 19:32:20 deprecated_callbacks:316] Doing Evaluation ..............................\n",
      "[NeMo I 2021-06-21 19:32:20 text_classification_callback:57] Accuracy: 0.7739130434782608\n",
      "[NeMo I 2021-06-21 19:32:20 text_classification_callback:64] Sampled preds: [0 0 0 0 0 0 0 0 0 0 0 0 0 0 0 0 0 0 0 0]\n",
      "[NeMo I 2021-06-21 19:32:20 text_classification_callback:65] Sampled labels: [0 0 0 0 0 0 0 0 0 0 0 0 0 0 0 0 0 0 0 0]\n",
      "[NeMo I 2021-06-21 19:32:20 callback_utils:92] Confusion matrix:\n",
      "    [[89  0]\n",
      "     [26  0]]\n",
      "[NeMo I 2021-06-21 19:32:20 text_classification_callback:67]               precision    recall  f1-score   support\n",
      "    \n",
      "               0     0.7739    1.0000    0.8725        89\n",
      "               1     0.0000    0.0000    0.0000        26\n",
      "    \n",
      "        accuracy                         0.7739       115\n",
      "       macro avg     0.3870    0.5000    0.4363       115\n",
      "    weighted avg     0.5989    0.7739    0.6753       115\n",
      "    \n",
      "[NeMo I 2021-06-21 19:32:20 deprecated_callbacks:321] Evaluation time: 0.5134992599487305 seconds\n"
     ]
    },
    {
     "name": "stderr",
     "output_type": "stream",
     "text": [
      "/opt/conda/lib/python3.6/site-packages/sklearn/metrics/_classification.py:1268: UndefinedMetricWarning: Precision and F-score are ill-defined and being set to 0.0 in labels with no predicted samples. Use `zero_division` parameter to control this behavior.\n",
      "  _warn_prf(average, modifier, msg_start, len(result))\n"
     ]
    },
    {
     "name": "stdout",
     "output_type": "stream",
     "text": [
      "[NeMo I 2021-06-21 19:32:22 callbacks:232] loss: 0.6782292\n",
      "[NeMo I 2021-06-21 19:32:22 deprecated_callbacks:316] Doing Evaluation ..............................\n",
      "[NeMo I 2021-06-21 19:32:22 text_classification_callback:57] Accuracy: 0.7739130434782608\n",
      "[NeMo I 2021-06-21 19:32:22 text_classification_callback:64] Sampled preds: [0 0 0 0 0 0 0 0 0 0 0 0 0 0 0 0 0 0 0 0]\n",
      "[NeMo I 2021-06-21 19:32:22 text_classification_callback:65] Sampled labels: [0 0 0 0 0 0 0 0 0 0 0 0 0 0 0 0 0 0 0 0]\n",
      "[NeMo I 2021-06-21 19:32:22 callback_utils:92] Confusion matrix:\n",
      "    [[89  0]\n",
      "     [26  0]]\n",
      "[NeMo I 2021-06-21 19:32:22 text_classification_callback:67]               precision    recall  f1-score   support\n",
      "    \n",
      "               0     0.7739    1.0000    0.8725        89\n",
      "               1     0.0000    0.0000    0.0000        26\n",
      "    \n",
      "        accuracy                         0.7739       115\n",
      "       macro avg     0.3870    0.5000    0.4363       115\n",
      "    weighted avg     0.5989    0.7739    0.6753       115\n",
      "    \n",
      "[NeMo I 2021-06-21 19:32:22 deprecated_callbacks:321] Evaluation time: 0.4710068702697754 seconds\n",
      "[NeMo I 2021-06-21 19:32:25 callbacks:465] Saved checkpoint: /dli/task/data/logs-bbc/checkpoints/trainer-EPOCH-1.pt\n",
      "[NeMo I 2021-06-21 19:32:25 callbacks:232] loss: 0.6429626\n",
      "[NeMo I 2021-06-21 19:32:25 deprecated_callbacks:316] Doing Evaluation ..............................\n",
      "[NeMo I 2021-06-21 19:32:26 text_classification_callback:57] Accuracy: 0.6260869565217392\n",
      "[NeMo I 2021-06-21 19:32:26 text_classification_callback:64] Sampled preds: [0 1 1 0 1 1 1 1 0 1 1 1 1 1 0 0 1 1 1 0]\n",
      "[NeMo I 2021-06-21 19:32:26 text_classification_callback:65] Sampled labels: [1 1 1 1 1 1 1 1 1 1 1 1 1 1 1 1 1 1 1 1]\n",
      "[NeMo I 2021-06-21 19:32:26 callback_utils:92] Confusion matrix:\n",
      "    [[56 33]\n",
      "     [10 16]]\n",
      "[NeMo I 2021-06-21 19:32:26 text_classification_callback:67]               precision    recall  f1-score   support\n",
      "    \n",
      "               0     0.8485    0.6292    0.7226        89\n",
      "               1     0.3265    0.6154    0.4267        26\n",
      "    \n",
      "        accuracy                         0.6261       115\n",
      "       macro avg     0.5875    0.6223    0.5746       115\n",
      "    weighted avg     0.7305    0.6261    0.6557       115\n",
      "    \n",
      "[NeMo I 2021-06-21 19:32:26 deprecated_callbacks:321] Evaluation time: 0.4689302444458008 seconds\n",
      "[NeMo I 2021-06-21 19:32:28 callbacks:465] Saved checkpoint: /dli/task/data/logs-bbc/checkpoints/trainer-EPOCH-2.pt\n",
      "[NeMo I 2021-06-21 19:32:29 callbacks:232] loss: 0.6428292\n",
      "[NeMo I 2021-06-21 19:32:29 deprecated_callbacks:316] Doing Evaluation ..............................\n",
      "[NeMo I 2021-06-21 19:32:29 text_classification_callback:57] Accuracy: 0.7739130434782608\n",
      "[NeMo I 2021-06-21 19:32:29 text_classification_callback:64] Sampled preds: [0 0 0 0 0 0 0 0 0 0 0 0 0 0 0 0 0 0 0 0]\n",
      "[NeMo I 2021-06-21 19:32:29 text_classification_callback:65] Sampled labels: [0 0 0 0 0 0 0 0 0 0 0 0 0 0 0 0 0 0 0 0]\n",
      "[NeMo I 2021-06-21 19:32:29 callback_utils:92] Confusion matrix:\n",
      "    [[89  0]\n",
      "     [26  0]]\n",
      "[NeMo I 2021-06-21 19:32:29 text_classification_callback:67]               precision    recall  f1-score   support\n",
      "    \n",
      "               0     0.7739    1.0000    0.8725        89\n",
      "               1     0.0000    0.0000    0.0000        26\n",
      "    \n",
      "        accuracy                         0.7739       115\n",
      "       macro avg     0.3870    0.5000    0.4363       115\n",
      "    weighted avg     0.5989    0.7739    0.6753       115\n",
      "    \n",
      "[NeMo I 2021-06-21 19:32:29 deprecated_callbacks:321] Evaluation time: 0.47327423095703125 seconds\n",
      "[NeMo I 2021-06-21 19:32:32 callbacks:465] Saved checkpoint: /dli/task/data/logs-bbc/checkpoints/trainer-EPOCH-3.pt\n",
      "[NeMo I 2021-06-21 19:32:32 callbacks:232] loss: 0.586171\n",
      "[NeMo I 2021-06-21 19:32:32 deprecated_callbacks:316] Doing Evaluation ..............................\n",
      "[NeMo I 2021-06-21 19:32:32 text_classification_callback:57] Accuracy: 0.7739130434782608\n",
      "[NeMo I 2021-06-21 19:32:32 text_classification_callback:64] Sampled preds: [0 0 0 0 0 0 0 0 0 0 0 0 0 0 0 0 0 0 0 0]\n",
      "[NeMo I 2021-06-21 19:32:32 text_classification_callback:65] Sampled labels: [0 0 0 0 0 0 0 0 0 0 0 0 0 0 0 0 0 0 0 0]\n",
      "[NeMo I 2021-06-21 19:32:32 callback_utils:92] Confusion matrix:\n",
      "    [[89  0]\n",
      "     [26  0]]\n",
      "[NeMo I 2021-06-21 19:32:32 text_classification_callback:67]               precision    recall  f1-score   support\n",
      "    \n",
      "               0     0.7739    1.0000    0.8725        89\n",
      "               1     0.0000    0.0000    0.0000        26\n",
      "    \n",
      "        accuracy                         0.7739       115\n",
      "       macro avg     0.3870    0.5000    0.4363       115\n",
      "    weighted avg     0.5989    0.7739    0.6753       115\n",
      "    \n",
      "[NeMo I 2021-06-21 19:32:32 deprecated_callbacks:321] Evaluation time: 0.47602152824401855 seconds\n",
      "[NeMo I 2021-06-21 19:32:35 callbacks:465] Saved checkpoint: /dli/task/data/logs-bbc/checkpoints/trainer-EPOCH-4.pt\n",
      "[NeMo I 2021-06-21 19:32:35 callbacks:232] loss: 0.46334726\n",
      "[NeMo I 2021-06-21 19:32:35 deprecated_callbacks:316] Doing Evaluation ..............................\n",
      "[NeMo I 2021-06-21 19:32:36 text_classification_callback:57] Accuracy: 0.7739130434782608\n",
      "[NeMo I 2021-06-21 19:32:36 text_classification_callback:64] Sampled preds: [0 0 0 0 0 0 0 0 0 0 0 0 0 0 0 0 0 0 0 0]\n",
      "[NeMo I 2021-06-21 19:32:36 text_classification_callback:65] Sampled labels: [0 0 0 0 0 0 0 0 0 0 0 0 0 0 0 0 0 0 0 0]\n",
      "[NeMo I 2021-06-21 19:32:36 callback_utils:92] Confusion matrix:\n",
      "    [[89  0]\n",
      "     [26  0]]\n",
      "[NeMo I 2021-06-21 19:32:36 text_classification_callback:67]               precision    recall  f1-score   support\n",
      "    \n",
      "               0     0.7739    1.0000    0.8725        89\n",
      "               1     0.0000    0.0000    0.0000        26\n",
      "    \n",
      "        accuracy                         0.7739       115\n",
      "       macro avg     0.3870    0.5000    0.4363       115\n",
      "    weighted avg     0.5989    0.7739    0.6753       115\n",
      "    \n",
      "[NeMo I 2021-06-21 19:32:36 deprecated_callbacks:321] Evaluation time: 0.47446274757385254 seconds\n",
      "[NeMo I 2021-06-21 19:32:39 callbacks:465] Saved checkpoint: /dli/task/data/logs-bbc/checkpoints/trainer-EPOCH-5.pt\n",
      "[NeMo I 2021-06-21 19:32:39 callbacks:232] loss: 0.42297947\n",
      "[NeMo I 2021-06-21 19:32:39 deprecated_callbacks:316] Doing Evaluation ..............................\n",
      "[NeMo I 2021-06-21 19:32:39 text_classification_callback:57] Accuracy: 0.7913043478260869\n",
      "[NeMo I 2021-06-21 19:32:39 text_classification_callback:64] Sampled preds: [0 0 0 0 0 0 0 0 0 0 0 0 0 0 0 0 0 0 0 0]\n",
      "[NeMo I 2021-06-21 19:32:39 text_classification_callback:65] Sampled labels: [0 0 0 0 0 0 0 0 0 0 0 0 0 0 0 0 0 0 0 0]\n",
      "[NeMo I 2021-06-21 19:32:39 callback_utils:92] Confusion matrix:\n",
      "    [[89  0]\n",
      "     [24  2]]\n",
      "[NeMo I 2021-06-21 19:32:39 text_classification_callback:67]               precision    recall  f1-score   support\n",
      "    \n",
      "               0     0.7876    1.0000    0.8812        89\n",
      "               1     1.0000    0.0769    0.1429        26\n",
      "    \n",
      "        accuracy                         0.7913       115\n",
      "       macro avg     0.8938    0.5385    0.5120       115\n",
      "    weighted avg     0.8356    0.7913    0.7143       115\n",
      "    \n",
      "[NeMo I 2021-06-21 19:32:39 deprecated_callbacks:321] Evaluation time: 0.4795064926147461 seconds\n",
      "[NeMo I 2021-06-21 19:32:42 callbacks:465] Saved checkpoint: /dli/task/data/logs-bbc/checkpoints/trainer-EPOCH-6.pt\n",
      "[NeMo I 2021-06-21 19:32:42 callbacks:232] loss: 0.37853873\n",
      "[NeMo I 2021-06-21 19:32:42 deprecated_callbacks:316] Doing Evaluation ..............................\n",
      "[NeMo I 2021-06-21 19:32:43 text_classification_callback:57] Accuracy: 0.8260869565217391\n",
      "[NeMo I 2021-06-21 19:32:43 text_classification_callback:64] Sampled preds: [0 0 0 0 0 0 1 0 0 0 0 0 1 0 0 0 0 0 1 0]\n",
      "[NeMo I 2021-06-21 19:32:43 text_classification_callback:65] Sampled labels: [0 0 0 0 0 0 0 0 0 0 0 0 0 0 0 0 0 0 0 0]\n",
      "[NeMo I 2021-06-21 19:32:43 callback_utils:92] Confusion matrix:\n",
      "    [[78 11]\n",
      "     [ 9 17]]\n",
      "[NeMo I 2021-06-21 19:32:43 text_classification_callback:67]               precision    recall  f1-score   support\n",
      "    \n",
      "               0     0.8966    0.8764    0.8864        89\n",
      "               1     0.6071    0.6538    0.6296        26\n",
      "    \n",
      "        accuracy                         0.8261       115\n",
      "       macro avg     0.7518    0.7651    0.7580       115\n",
      "    weighted avg     0.8311    0.8261    0.8283       115\n",
      "    \n",
      "[NeMo I 2021-06-21 19:32:43 deprecated_callbacks:321] Evaluation time: 0.4758620262145996 seconds\n",
      "[NeMo I 2021-06-21 19:32:46 callbacks:465] Saved checkpoint: /dli/task/data/logs-bbc/checkpoints/trainer-EPOCH-7.pt\n",
      "[NeMo I 2021-06-21 19:32:46 callbacks:232] loss: 0.10770091\n",
      "[NeMo I 2021-06-21 19:32:46 deprecated_callbacks:316] Doing Evaluation ..............................\n",
      "[NeMo I 2021-06-21 19:32:46 text_classification_callback:57] Accuracy: 0.9043478260869565\n",
      "[NeMo I 2021-06-21 19:32:46 text_classification_callback:64] Sampled preds: [0 0 0 0 0 0 0 0 0 0 0 0 0 0 0 0 0 0 0 0]\n",
      "[NeMo I 2021-06-21 19:32:46 text_classification_callback:65] Sampled labels: [0 0 0 0 0 0 0 0 0 0 0 0 0 0 0 0 0 0 0 0]\n",
      "[NeMo I 2021-06-21 19:32:46 callback_utils:92] Confusion matrix:\n",
      "    [[85  4]\n",
      "     [ 7 19]]\n",
      "[NeMo I 2021-06-21 19:32:46 text_classification_callback:67]               precision    recall  f1-score   support\n",
      "    \n",
      "               0     0.9239    0.9551    0.9392        89\n",
      "               1     0.8261    0.7308    0.7755        26\n",
      "    \n",
      "        accuracy                         0.9043       115\n",
      "       macro avg     0.8750    0.8429    0.8574       115\n",
      "    weighted avg     0.9018    0.9043    0.9022       115\n",
      "    \n",
      "[NeMo I 2021-06-21 19:32:46 deprecated_callbacks:321] Evaluation time: 0.49778032302856445 seconds\n",
      "[NeMo I 2021-06-21 19:32:49 callbacks:465] Saved checkpoint: /dli/task/data/logs-bbc/checkpoints/trainer-EPOCH-8.pt\n",
      "[NeMo I 2021-06-21 19:32:50 callbacks:232] loss: 0.07543518\n",
      "[NeMo I 2021-06-21 19:32:50 deprecated_callbacks:316] Doing Evaluation ..............................\n",
      "[NeMo I 2021-06-21 19:32:50 text_classification_callback:57] Accuracy: 0.8608695652173913\n",
      "[NeMo I 2021-06-21 19:32:50 text_classification_callback:64] Sampled preds: [0 0 0 0 0 0 0 0 0 0 1 0 1 0 1 0 0 1 1 1]\n",
      "[NeMo I 2021-06-21 19:32:50 text_classification_callback:65] Sampled labels: [0 0 0 0 0 0 0 0 0 0 0 0 1 1 1 1 1 1 1 1]\n",
      "[NeMo I 2021-06-21 19:32:50 callback_utils:92] Confusion matrix:\n",
      "    [[82  7]\n",
      "     [ 9 17]]\n",
      "[NeMo I 2021-06-21 19:32:51 text_classification_callback:67]               precision    recall  f1-score   support\n",
      "    \n",
      "               0     0.9011    0.9213    0.9111        89\n",
      "               1     0.7083    0.6538    0.6800        26\n",
      "    \n",
      "        accuracy                         0.8609       115\n",
      "       macro avg     0.8047    0.7876    0.7956       115\n",
      "    weighted avg     0.8575    0.8609    0.8589       115\n",
      "    \n",
      "[NeMo I 2021-06-21 19:32:51 deprecated_callbacks:321] Evaluation time: 1.615807294845581 seconds\n",
      "[NeMo I 2021-06-21 19:32:54 callbacks:465] Saved checkpoint: /dli/task/data/logs-bbc/checkpoints/trainer-EPOCH-9.pt\n",
      "[NeMo I 2021-06-21 19:32:54 callbacks:232] loss: 0.10424067\n",
      "[NeMo I 2021-06-21 19:32:54 deprecated_callbacks:316] Doing Evaluation ..............................\n",
      "[NeMo I 2021-06-21 19:32:55 text_classification_callback:57] Accuracy: 0.8608695652173913\n",
      "[NeMo I 2021-06-21 19:32:55 text_classification_callback:64] Sampled preds: [0 0 0 0 0 1 0 0 0 0 0 0 0 0 0 0 0 0 0 0]\n",
      "[NeMo I 2021-06-21 19:32:55 text_classification_callback:65] Sampled labels: [0 0 0 0 0 0 0 0 0 0 0 0 0 0 0 0 0 0 0 0]\n",
      "[NeMo I 2021-06-21 19:32:55 callback_utils:92] Confusion matrix:\n",
      "    [[83  6]\n",
      "     [10 16]]\n",
      "[NeMo I 2021-06-21 19:32:55 text_classification_callback:67]               precision    recall  f1-score   support\n",
      "    \n",
      "               0     0.8925    0.9326    0.9121        89\n",
      "               1     0.7273    0.6154    0.6667        26\n",
      "    \n",
      "        accuracy                         0.8609       115\n",
      "       macro avg     0.8099    0.7740    0.7894       115\n",
      "    weighted avg     0.8551    0.8609    0.8566       115\n",
      "    \n",
      "[NeMo I 2021-06-21 19:32:55 deprecated_callbacks:321] Evaluation time: 0.47971153259277344 seconds\n",
      "Gradient overflow.  Skipping step, loss scaler 0 reducing loss scale to 32768.0\n",
      "[NeMo I 2021-06-21 19:32:57 callbacks:465] Saved checkpoint: /dli/task/data/logs-bbc/checkpoints/trainer-EPOCH-10.pt\n",
      "[NeMo I 2021-06-21 19:32:58 callbacks:232] loss: 0.012011181\n",
      "[NeMo I 2021-06-21 19:32:58 deprecated_callbacks:316] Doing Evaluation ..............................\n",
      "[NeMo I 2021-06-21 19:32:58 text_classification_callback:57] Accuracy: 0.6869565217391305\n",
      "[NeMo I 2021-06-21 19:32:58 text_classification_callback:64] Sampled preds: [0 0 0 1 1 0 1 0 0 1 0 0 0 0 0 1 0 0 0 0]\n",
      "[NeMo I 2021-06-21 19:32:58 text_classification_callback:65] Sampled labels: [0 0 0 0 0 0 0 0 0 0 0 0 0 0 0 0 0 0 0 0]\n",
      "[NeMo I 2021-06-21 19:32:58 callback_utils:92] Confusion matrix:\n",
      "    [[54 35]\n",
      "     [ 1 25]]\n",
      "[NeMo I 2021-06-21 19:32:58 text_classification_callback:67]               precision    recall  f1-score   support\n",
      "    \n",
      "               0     0.9818    0.6067    0.7500        89\n",
      "               1     0.4167    0.9615    0.5814        26\n",
      "    \n",
      "        accuracy                         0.6870       115\n",
      "       macro avg     0.6992    0.7841    0.6657       115\n",
      "    weighted avg     0.8540    0.6870    0.7119       115\n",
      "    \n",
      "[NeMo I 2021-06-21 19:32:58 deprecated_callbacks:321] Evaluation time: 0.4799225330352783 seconds\n",
      "[NeMo I 2021-06-21 19:33:01 callbacks:465] Saved checkpoint: /dli/task/data/logs-bbc/checkpoints/trainer-EPOCH-11.pt\n",
      "[NeMo I 2021-06-21 19:33:01 callbacks:232] loss: 0.09969563\n",
      "[NeMo I 2021-06-21 19:33:01 deprecated_callbacks:316] Doing Evaluation ..............................\n",
      "[NeMo I 2021-06-21 19:33:02 text_classification_callback:57] Accuracy: 0.8260869565217391\n",
      "[NeMo I 2021-06-21 19:33:02 text_classification_callback:64] Sampled preds: [0 0 0 0 0 0 0 0 0 0 0 0 0 0 0 0 0 1 0 0]\n",
      "[NeMo I 2021-06-21 19:33:02 text_classification_callback:65] Sampled labels: [0 0 0 0 0 0 0 0 0 0 0 0 0 0 0 1 1 1 1 1]\n",
      "[NeMo I 2021-06-21 19:33:02 callback_utils:92] Confusion matrix:\n",
      "    [[89  0]\n",
      "     [20  6]]\n",
      "[NeMo I 2021-06-21 19:33:02 text_classification_callback:67]               precision    recall  f1-score   support\n",
      "    \n",
      "               0     0.8165    1.0000    0.8990        89\n",
      "               1     1.0000    0.2308    0.3750        26\n",
      "    \n",
      "        accuracy                         0.8261       115\n",
      "       macro avg     0.9083    0.6154    0.6370       115\n",
      "    weighted avg     0.8580    0.8261    0.7805       115\n",
      "    \n",
      "[NeMo I 2021-06-21 19:33:02 deprecated_callbacks:321] Evaluation time: 0.5235743522644043 seconds\n",
      "[NeMo I 2021-06-21 19:33:05 callbacks:465] Saved checkpoint: /dli/task/data/logs-bbc/checkpoints/trainer-EPOCH-12.pt\n",
      "[NeMo I 2021-06-21 19:33:05 callbacks:232] loss: 0.015694963\n",
      "[NeMo I 2021-06-21 19:33:05 deprecated_callbacks:316] Doing Evaluation ..............................\n",
      "[NeMo I 2021-06-21 19:33:05 text_classification_callback:57] Accuracy: 0.8695652173913043\n",
      "[NeMo I 2021-06-21 19:33:05 text_classification_callback:64] Sampled preds: [0 0 0 0 1 0 0 0 0 0 0 0 0 0 1 0 0 0 0 0]\n",
      "[NeMo I 2021-06-21 19:33:05 text_classification_callback:65] Sampled labels: [0 0 0 0 0 0 0 0 0 0 0 0 0 0 0 0 0 0 0 0]\n",
      "[NeMo I 2021-06-21 19:33:05 callback_utils:92] Confusion matrix:\n",
      "    [[84  5]\n",
      "     [10 16]]\n",
      "[NeMo I 2021-06-21 19:33:05 text_classification_callback:67]               precision    recall  f1-score   support\n",
      "    \n",
      "               0     0.8936    0.9438    0.9180        89\n",
      "               1     0.7619    0.6154    0.6809        26\n",
      "    \n",
      "        accuracy                         0.8696       115\n",
      "       macro avg     0.8278    0.7796    0.7994       115\n",
      "    weighted avg     0.8638    0.8696    0.8644       115\n",
      "    \n",
      "[NeMo I 2021-06-21 19:33:05 deprecated_callbacks:321] Evaluation time: 0.4978959560394287 seconds\n",
      "[NeMo I 2021-06-21 19:33:09 callbacks:465] Saved checkpoint: /dli/task/data/logs-bbc/checkpoints/trainer-EPOCH-13.pt\n",
      "[NeMo I 2021-06-21 19:33:10 callbacks:232] loss: 0.0121995965\n",
      "[NeMo I 2021-06-21 19:33:10 deprecated_callbacks:316] Doing Evaluation ..............................\n",
      "[NeMo I 2021-06-21 19:33:11 text_classification_callback:57] Accuracy: 0.8521739130434782\n",
      "[NeMo I 2021-06-21 19:33:11 text_classification_callback:64] Sampled preds: [1 0 0 1 1 1 1 0 1 1 1 1 1 1 1 1 1 1 1 0]\n",
      "[NeMo I 2021-06-21 19:33:11 text_classification_callback:65] Sampled labels: [1 1 1 1 1 1 1 1 1 1 1 1 1 1 1 1 1 1 1 1]\n",
      "[NeMo I 2021-06-21 19:33:11 callback_utils:92] Confusion matrix:\n",
      "    [[78 11]\n",
      "     [ 6 20]]\n",
      "[NeMo I 2021-06-21 19:33:11 text_classification_callback:67]               precision    recall  f1-score   support\n",
      "    \n",
      "               0     0.9286    0.8764    0.9017        89\n",
      "               1     0.6452    0.7692    0.7018        26\n",
      "    \n",
      "        accuracy                         0.8522       115\n",
      "       macro avg     0.7869    0.8228    0.8017       115\n",
      "    weighted avg     0.8645    0.8522    0.8565       115\n",
      "    \n",
      "[NeMo I 2021-06-21 19:33:11 deprecated_callbacks:321] Evaluation time: 1.8514156341552734 seconds\n",
      "[NeMo I 2021-06-21 19:33:14 callbacks:465] Saved checkpoint: /dli/task/data/logs-bbc/checkpoints/trainer-EPOCH-14.pt\n",
      "[NeMo I 2021-06-21 19:33:14 deprecated_callbacks:339] Final Evaluation ..............................\n",
      "[NeMo I 2021-06-21 19:33:14 text_classification_callback:57] Accuracy: 0.8521739130434782\n",
      "[NeMo I 2021-06-21 19:33:14 text_classification_callback:64] Sampled preds: [0 1 0 0 1 1 1 1 0 1 1 1 1 1 1 1 1 1 1 1]\n",
      "[NeMo I 2021-06-21 19:33:14 text_classification_callback:65] Sampled labels: [1 1 1 1 1 1 1 1 1 1 1 1 1 1 1 1 1 1 1 1]\n",
      "[NeMo I 2021-06-21 19:33:14 callback_utils:92] Confusion matrix:\n",
      "    [[78 11]\n",
      "     [ 6 20]]\n",
      "[NeMo I 2021-06-21 19:33:15 text_classification_callback:67]               precision    recall  f1-score   support\n",
      "    \n",
      "               0     0.9286    0.8764    0.9017        89\n",
      "               1     0.6452    0.7692    0.7018        26\n",
      "    \n",
      "        accuracy                         0.8522       115\n",
      "       macro avg     0.7869    0.8228    0.8017       115\n",
      "    weighted avg     0.8645    0.8522    0.8565       115\n",
      "    \n",
      "[NeMo I 2021-06-21 19:33:15 deprecated_callbacks:344] Evaluation time: 0.43882322311401367 seconds\n",
      "[NeMo I 2021-06-21 19:33:16 callbacks:465] Saved checkpoint: /dli/task/data/logs-bbc/checkpoints/trainer-EPOCH-15.pt\n",
      "CPU times: user 24.9 s, sys: 27.2 s, total: 52.1 s\n",
      "Wall time: 56.9 s\n"
     ]
    },
    {
     "data": {
      "image/png": "[encoded data removed]",
      "text/plain": [
       "<Figure size 432x288 with 2 Axes>"
      ]
     },
     "metadata": {
      "needs_background": "light"
     },
     "output_type": "display_data"
    },
    {
     "data": {
      "image/png": "[encoded data removed]",
      "text/plain": [
       "<Figure size 432x288 with 2 Axes>"
      ]
     },
     "metadata": {
      "needs_background": "light"
     },
     "output_type": "display_data"
    },
    {
     "data": {
      "image/png": "[encoded data removed]",
      "text/plain": [
       "<Figure size 432x288 with 2 Axes>"
      ]
     },
     "metadata": {
      "needs_background": "light"
     },
     "output_type": "display_data"
    },
    {
     "data": {
      "image/png": "[encoded data removed]",
      "text/plain": [
       "<Figure size 432x288 with 2 Axes>"
      ]
     },
     "metadata": {
      "needs_background": "light"
     },
     "output_type": "display_data"
    },
    {
     "data": {
      "image/png": "[encoded data removed]",
      "text/plain": [
       "<Figure size 432x288 with 2 Axes>"
      ]
     },
     "metadata": {
      "needs_background": "light"
     },
     "output_type": "display_data"
    },
    {
     "data": {
      "image/png": "[encoded data removed]",
      "text/plain": [
       "<Figure size 432x288 with 2 Axes>"
      ]
     },
     "metadata": {
      "needs_background": "light"
     },
     "output_type": "display_data"
    },
    {
     "data": {
      "image/png": "[encoded data removed]",
      "text/plain": [
       "<Figure size 432x288 with 2 Axes>"
      ]
     },
     "metadata": {
      "needs_background": "light"
     },
     "output_type": "display_data"
    },
    {
     "data": {
      "image/png": "[encoded data removed]",
      "text/plain": [
       "<Figure size 432x288 with 2 Axes>"
      ]
     },
     "metadata": {
      "needs_background": "light"
     },
     "output_type": "display_data"
    },
    {
     "data": {
      "image/png": "[encoded data removed]",
      "text/plain": [
       "<Figure size 432x288 with 2 Axes>"
      ]
     },
     "metadata": {
      "needs_background": "light"
     },
     "output_type": "display_data"
    },
    {
     "data": {
      "image/png": "[encoded data removed]",
      "text/plain": [
       "<Figure size 432x288 with 2 Axes>"
      ]
     },
     "metadata": {
      "needs_background": "light"
     },
     "output_type": "display_data"
    },
    {
     "data": {
      "image/png": "[encoded data removed]",
      "text/plain": [
       "<Figure size 432x288 with 2 Axes>"
      ]
     },
     "metadata": {
      "needs_background": "light"
     },
     "output_type": "display_data"
    },
    {
     "data": {
      "image/png": "[encoded data removed]",
      "text/plain": [
       "<Figure size 432x288 with 2 Axes>"
      ]
     },
     "metadata": {
      "needs_background": "light"
     },
     "output_type": "display_data"
    },
    {
     "data": {
      "image/png": "[encoded data removed]",
      "text/plain": [
       "<Figure size 432x288 with 2 Axes>"
      ]
     },
     "metadata": {
      "needs_background": "light"
     },
     "output_type": "display_data"
    },
    {
     "data": {
      "image/png": "[encoded data removed]",
      "text/plain": [
       "<Figure size 432x288 with 2 Axes>"
      ]
     },
     "metadata": {
      "needs_background": "light"
     },
     "output_type": "display_data"
    },
    {
     "data": {
      "image/png": "[encoded data removed]",
      "text/plain": [
       "<Figure size 432x288 with 2 Axes>"
      ]
     },
     "metadata": {
      "needs_background": "light"
     },
     "output_type": "display_data"
    },
    {
     "data": {
      "image/png": "[encoded data removed]",
      "text/plain": [
       "<Figure size 432x288 with 2 Axes>"
      ]
     },
     "metadata": {
      "needs_background": "light"
     },
     "output_type": "display_data"
    }
   ],
   "source": [
    "%%time\n",
    "nemo.core.NeuralModuleFactory.reset_trainer(nf)\n",
    "#FIXME Complete the nf.train parameters\n",
    "nf.train(tensors_to_optimize=[train_loss],\n",
    "         callbacks=[train_callback, tensorboard_callback, eval_callback, ckpt_callback],\n",
    "         lr_policy=lr_policy_fn,\n",
    "         optimizer=OPTIMIZER,\n",
    "         optimization_params={'num_epochs': NUM_EPOCHS, 'lr': LEARNING_RATE})"
   ]
  },
  {
   "cell_type": "markdown",
   "metadata": {},
   "source": [
    "# Inference"
   ]
  },
  {
   "cell_type": "markdown",
   "metadata": {},
   "source": [
    "### Preparing the Test Data for Each Paper"
   ]
  },
  {
   "cell_type": "code",
   "execution_count": 25,
   "metadata": {},
   "outputs": [],
   "source": [
    "def add_label_to_test_data(input_file, output_file):\n",
    "    \"\"\" Add a nominal 'label' column to each test file and save it \"\"\"\n",
    "    df = pd.read_csv(input_file, sep='\\t')\n",
    "    if 'label' not in df:\n",
    "        df['label'] = 0\n",
    "        df = df[['sentence', 'label']]\n",
    "    df.to_csv(output_file, sep='\\t', index=False)\n",
    "    \n",
    "def sample_classification(sample):\n",
    "    \"\"\" Extract the tensor probabilities from inference \"\"\"\n",
    "    sentence = sample.sentence\n",
    "    prob0 = sample.prob0.values[0]\n",
    "    prob1 = sample.prob1.values[0]\n",
    "    result = f'{sentence} \\n HAMILTON | MADISON \\n {prob0} | {prob1}'\n",
    "    return result\n",
    "\n",
    "# Add the label column to all the test sets by disputed paper\n",
    "test_files = [\n",
    "    'test49.tsv',\n",
    "    'test50.tsv',\n",
    "    'test51.tsv',\n",
    "    'test52.tsv',\n",
    "    'test53.tsv',\n",
    "    'test54.tsv', \n",
    "    'test55.tsv',\n",
    "    'test56.tsv',\n",
    "    'test57.tsv',\n",
    "    'test62.tsv',\n",
    "]\n",
    "\n",
    "for test_file in test_files:\n",
    "    add_label_to_test_data(DATA_DIR + test_file, DATA_DIR + 'labeled_' + test_file)"
   ]
  },
  {
   "cell_type": "markdown",
   "metadata": {},
   "source": [
    "### Creating Test Inference Runner"
   ]
  },
  {
   "cell_type": "code",
   "execution_count": 26,
   "metadata": {},
   "outputs": [],
   "source": [
    "def classify_paper(nf, tokenizer, bert, mlp, test_file, save_file):\n",
    "    \"\"\" Run inference on a test_file and save the probabilities found \"\"\"\n",
    "    \n",
    "    # Create the data layer neural module and test graph\n",
    "    dl_tmp = BertTextClassificationDataLayer(input_file=test_file,\n",
    "                                               tokenizer=tokenizer,\n",
    "                                               max_seq_length=MAX_SEQ_LEN,\n",
    "                                               batch_size=1)\n",
    "    \n",
    "    tmp_data = dl_tmp()\n",
    "    tmp_embeddings = bert(input_ids=tmp_data.input_ids,\n",
    "                          token_type_ids=tmp_data.input_type_ids,\n",
    "                          attention_mask=tmp_data.input_mask)\n",
    "    tmp_logits = mlp(hidden_states=tmp_embeddings)\n",
    "    \n",
    "    # Run inference\n",
    "    tmp_logits_tensors = nf.infer(tensors=[tmp_logits, tmp_embeddings])\n",
    "    \n",
    "    # Convert the tensor likelilhoods to probabilities and save\n",
    "    tmp_probs = [torch.nn.functional.softmax(torch.cat(tmp_logits_tensors[0]), dim=1).numpy()[:, label_index] for label_index in range(NUM_CLASSES)]\n",
    "    tmp_df = pd.read_csv(test_file, sep='\\t')\n",
    "    tmp_df['prob0'] = tmp_probs[0] \n",
    "    tmp_df['prob1'] = tmp_probs[1]\n",
    "    tmp_df.to_csv(save_file, sep='\\t', index=False)\n",
    "    \n",
    "    # Prepare an information output string\n",
    "    avg = round(float(tmp_df['prob0'].mean()),3)\n",
    "    std = round(float(tmp_df['prob0'].std()),3)\n",
    "    name = 'HAMILTON' if avg > 0.5 else 'MADISON'\n",
    "    result_string = '{} {} mean: {} std: {}\\n'.format(name, test_file, avg, std)\n",
    "    return result_string"
   ]
  },
  {
   "cell_type": "markdown",
   "metadata": {},
   "source": [
    "### Running Inference"
   ]
  },
  {
   "cell_type": "code",
   "execution_count": 27,
   "metadata": {
    "scrolled": true
   },
   "outputs": [
    {
     "name": "stdout",
     "output_type": "stream",
     "text": [
      "[NeMo I 2021-06-21 19:40:56 text_classification_dataset:82] /dli/task/data/federalist_papers_HM/labeled_test49.tsv: 7\n",
      "[NeMo I 2021-06-21 19:40:56 data_preprocessing:250] Min: 262 |                  Max: 348 |                  Mean: 295.14285714285717 |                  Median: 288.0\n",
      "[NeMo I 2021-06-21 19:40:56 data_preprocessing:252] 75 percentile: 304.0\n",
      "[NeMo I 2021-06-21 19:40:56 data_preprocessing:253] 99 percentile: 346.14\n",
      "[NeMo I 2021-06-21 19:40:56 text_classification_dataset:118] 7 out of 7                         sentences with more than 128 subtokens.\n",
      "[NeMo I 2021-06-21 19:40:56 text_classification_dataset:175] *** Example ***\n",
      "[NeMo I 2021-06-21 19:40:56 text_classification_dataset:176] example_index: 0\n",
      "[NeMo I 2021-06-21 19:40:56 text_classification_dataset:177] subtokens: [CLS] ##ca ##ution ##s which he proposes , and on which he appears ultimately to rely as a p ##all ##adi ##um to the weaker departments of power against the invasions of the stronger , is perhaps altogether his own , and as it immediately relates to the subject of our present inquiry , ought not to be overlooked . His proposition is , ` ` that whenever any two of the three branches of government shall con ##cu ##r in opinion , each by the voices of two thirds of their whole number , that a convention is necessary for altering the constitution , or CO ##R ##RE ##CT ##ING BR ##EA ##CH ##ES OF IT , a convention shall be called for the purpose . [SEP]\n",
      "[NeMo I 2021-06-21 19:40:56 text_classification_dataset:178] sent_label: 0\n",
      "[NeMo I 2021-06-21 19:40:56 text_classification_dataset:179] input_ids: 101 2599 12964 1116 1134 1119 18381 117 1105 1113 1134 1119 2691 4444 1106 11235 1112 170 185 5727 14230 1818 1106 1103 16990 7844 1104 1540 1222 1103 27550 1104 1103 5992 117 1110 3229 11257 1117 1319 117 1105 1112 1122 2411 15286 1106 1103 2548 1104 1412 1675 12064 117 11454 1136 1106 1129 18459 119 1230 21133 1110 117 169 169 1115 7747 1251 1160 1104 1103 1210 5020 1104 1433 4103 14255 10182 1197 1107 4893 117 1296 1118 1103 6000 1104 1160 12704 1104 1147 2006 1295 117 1115 170 6765 1110 3238 1111 25595 1103 7119 117 1137 18732 2069 16941 16647 15740 26660 12420 23258 9919 11345 9686 117 170 6765 4103 1129 1270 1111 1103 3007 119 102\n",
      "[NeMo I 2021-06-21 19:40:56 text_classification_dataset:180] input_mask: 1 1 1 1 1 1 1 1 1 1 1 1 1 1 1 1 1 1 1 1 1 1 1 1 1 1 1 1 1 1 1 1 1 1 1 1 1 1 1 1 1 1 1 1 1 1 1 1 1 1 1 1 1 1 1 1 1 1 1 1 1 1 1 1 1 1 1 1 1 1 1 1 1 1 1 1 1 1 1 1 1 1 1 1 1 1 1 1 1 1 1 1 1 1 1 1 1 1 1 1 1 1 1 1 1 1 1 1 1 1 1 1 1 1 1 1 1 1 1 1 1 1 1 1 1 1 1 1\n",
      "[NeMo I 2021-06-21 19:40:56 text_classification_dataset:175] *** Example ***\n",
      "[NeMo I 2021-06-21 19:40:56 text_classification_dataset:176] example_index: 1\n",
      "[NeMo I 2021-06-21 19:40:56 text_classification_dataset:177] subtokens: [CLS] prevented , or the wrong ##s of the weaker to be red ##ressed , without an appeal to the people themselves , who , as the grant ##ors of the commissions , can alone declare its true meaning , and enforce its o ##bs ##er ##vance ? There is certainly great force in this reasoning , and it must be allowed to prove that a constitutional road to the decision of the people ought to be marked out and kept open , for certain great and extraordinary occasions . But there appear to be ins ##upe ##rable objections against the proposed re ##cu ##rrence to the people , as a provision in all cases for keeping the several departments of power within their constitutional limits . [SEP]\n",
      "[NeMo I 2021-06-21 19:40:56 text_classification_dataset:178] sent_label: 0\n",
      "[NeMo I 2021-06-21 19:40:56 text_classification_dataset:179] input_ids: 101 8369 117 1137 1103 2488 1116 1104 1103 16990 1106 1129 1894 18089 117 1443 1126 5767 1106 1103 1234 2310 117 1150 117 1112 1103 5721 3864 1104 1103 15239 117 1169 2041 14197 1157 2276 2764 117 1105 17542 1157 184 4832 1200 24043 136 1247 1110 4664 1632 2049 1107 1142 14417 117 1105 1122 1538 1129 2148 1106 5424 1115 170 7950 1812 1106 1103 2383 1104 1103 1234 11454 1106 1129 3597 1149 1105 2023 1501 117 1111 2218 1632 1105 10264 6070 119 1252 1175 2845 1106 1129 22233 26939 9739 19072 1222 1103 3000 1231 10182 21629 1106 1103 1234 117 1112 170 9348 1107 1155 2740 1111 3709 1103 1317 7844 1104 1540 1439 1147 7950 6263 119 102\n",
      "[NeMo I 2021-06-21 19:40:56 text_classification_dataset:180] input_mask: 1 1 1 1 1 1 1 1 1 1 1 1 1 1 1 1 1 1 1 1 1 1 1 1 1 1 1 1 1 1 1 1 1 1 1 1 1 1 1 1 1 1 1 1 1 1 1 1 1 1 1 1 1 1 1 1 1 1 1 1 1 1 1 1 1 1 1 1 1 1 1 1 1 1 1 1 1 1 1 1 1 1 1 1 1 1 1 1 1 1 1 1 1 1 1 1 1 1 1 1 1 1 1 1 1 1 1 1 1 1 1 1 1 1 1 1 1 1 1 1 1 1 1 1 1 1 1 1\n",
      "[NeMo I 2021-06-21 19:40:56 text_classification_dataset:175] *** Example ***\n",
      "[NeMo I 2021-06-21 19:40:56 text_classification_dataset:176] example_index: 2\n",
      "[NeMo I 2021-06-21 19:40:56 text_classification_dataset:177] subtokens: [CLS] great measure , de ##p ##rive the government of that ve ##ner ##ation which time best ##ows on every thing , and without which perhaps the wise ##st and free ##st governments would not possess the re ##quisite stability . If it be true that all governments rest on opinion , it is no less true that the strength of opinion in each individual , and its practical influence on his conduct , depend much on the number which he suppose ##s to have entertained the same opinion . The reason of man , like man himself , is t ##im ##id and cautious when left alone , and acquire ##s firm ##ness and confidence in proportion to the number with which it is associated . [SEP]\n",
      "[NeMo I 2021-06-21 19:40:56 text_classification_dataset:178] sent_label: 0\n",
      "[NeMo I 2021-06-21 19:40:56 text_classification_dataset:179] input_ids: 101 1632 4929 117 1260 1643 17389 1103 1433 1104 1115 1396 2511 1891 1134 1159 1436 11997 1113 1451 1645 117 1105 1443 1134 3229 1103 10228 2050 1105 1714 2050 6670 1156 1136 10192 1103 1231 26089 9397 119 1409 1122 1129 2276 1115 1155 6670 1832 1113 4893 117 1122 1110 1185 1750 2276 1115 1103 3220 1104 4893 1107 1296 2510 117 1105 1157 6691 2933 1113 1117 5880 117 12864 1277 1113 1103 1295 1134 1119 6699 1116 1106 1138 23745 1103 1269 4893 119 1109 2255 1104 1299 117 1176 1299 1471 117 1110 189 4060 2386 1105 18596 1165 1286 2041 117 1105 9703 1116 3016 1757 1105 6595 1107 10807 1106 1103 1295 1114 1134 1122 1110 2628 119 102\n",
      "[NeMo I 2021-06-21 19:40:56 text_classification_dataset:180] input_mask: 1 1 1 1 1 1 1 1 1 1 1 1 1 1 1 1 1 1 1 1 1 1 1 1 1 1 1 1 1 1 1 1 1 1 1 1 1 1 1 1 1 1 1 1 1 1 1 1 1 1 1 1 1 1 1 1 1 1 1 1 1 1 1 1 1 1 1 1 1 1 1 1 1 1 1 1 1 1 1 1 1 1 1 1 1 1 1 1 1 1 1 1 1 1 1 1 1 1 1 1 1 1 1 1 1 1 1 1 1 1 1 1 1 1 1 1 1 1 1 1 1 1 1 1 1 1 1 1\n",
      "[NeMo I 2021-06-21 19:40:56 text_classification_dataset:175] *** Example ***\n",
      "[NeMo I 2021-06-21 19:40:56 text_classification_dataset:176] example_index: 3\n",
      "[NeMo I 2021-06-21 19:40:56 text_classification_dataset:177] subtokens: [CLS] ##arily multi ##plied . We are to re ##co ##lle ##ct that all the existing constitution ##s were formed in the midst of a danger which re ##pressed the passion ##s most un ##friend ##ly to order and con ##cor ##d ; of an enthusiastic confidence of the people in their patriotic leaders , which s ##ti ##fled the ordinary diversity of opinions on great national questions ; of a universal a ##rdo ##r for new and opposite forms , produced by a universal resentment and in ##di ##gna ##tion against the ancient government ; and whilst no spirit of party connected with the changes to be made , or the abuses to be reformed , could min ##gle its leave ##n in the operation . [SEP]\n",
      "[NeMo I 2021-06-21 19:40:56 text_classification_dataset:178] sent_label: 0\n",
      "[NeMo I 2021-06-21 19:40:56 text_classification_dataset:179] input_ids: 101 18206 4321 18148 119 1284 1132 1106 1231 2528 4838 5822 1115 1155 1103 3685 7119 1116 1127 1824 1107 1103 13337 1104 170 5170 1134 1231 15716 1103 7615 1116 1211 8362 23630 1193 1106 1546 1105 14255 19248 1181 132 1104 1126 15496 6595 1104 1103 1234 1107 1147 22435 3478 117 1134 188 3121 19036 1103 6655 9531 1104 11089 1113 1632 1569 3243 132 1104 170 8462 170 16525 1197 1111 1207 1105 3714 2769 117 1666 1118 170 8462 22917 1105 1107 3309 12149 2116 1222 1103 2890 1433 132 1105 5994 1185 4840 1104 1710 3387 1114 1103 2607 1106 1129 1189 117 1137 1103 23711 1106 1129 13350 117 1180 11241 6415 1157 1817 1179 1107 1103 2805 119 102\n",
      "[NeMo I 2021-06-21 19:40:56 text_classification_dataset:180] input_mask: 1 1 1 1 1 1 1 1 1 1 1 1 1 1 1 1 1 1 1 1 1 1 1 1 1 1 1 1 1 1 1 1 1 1 1 1 1 1 1 1 1 1 1 1 1 1 1 1 1 1 1 1 1 1 1 1 1 1 1 1 1 1 1 1 1 1 1 1 1 1 1 1 1 1 1 1 1 1 1 1 1 1 1 1 1 1 1 1 1 1 1 1 1 1 1 1 1 1 1 1 1 1 1 1 1 1 1 1 1 1 1 1 1 1 1 1 1 1 1 1 1 1 1 1 1 1 1 1\n",
      "[NeMo I 2021-06-21 19:40:56 text_classification_dataset:175] *** Example ***\n",
      "[NeMo I 2021-06-21 19:40:56 text_classification_dataset:176] example_index: 4\n",
      "[NeMo I 2021-06-21 19:40:56 text_classification_dataset:177] subtokens: [CLS] personally known to a small part only of the people . The latter , by the mode of their appointment , as well as by the nature and per ##man ##ency of it , are too far removed from the people to share much in their pre ##po ##sses ##sions . The former are generally the objects of jealousy , and their administration is always liable to be disco ##lore ##d and rendered unpopular . The members of the legislative department , on the other hand , are number ##ous . They are distributed and dwell among the people at large . Their connections of blood , of friendship , and of acquaintance embrace a great proportion of the most influential part of the society . [SEP]\n",
      "[NeMo I 2021-06-21 19:40:56 text_classification_dataset:178] sent_label: 0\n",
      "[NeMo I 2021-06-21 19:40:56 text_classification_dataset:179] input_ids: 101 7572 1227 1106 170 1353 1226 1178 1104 1103 1234 119 1109 2985 117 1118 1103 5418 1104 1147 5516 117 1112 1218 1112 1118 1103 2731 1105 1679 1399 9517 1104 1122 117 1132 1315 1677 2856 1121 1103 1234 1106 2934 1277 1107 1147 3073 5674 26895 14971 119 1109 1393 1132 2412 1103 4546 1104 16082 117 1105 1147 3469 1110 1579 21988 1106 1129 19959 21425 1181 1105 10029 21665 119 1109 1484 1104 1103 7663 2853 117 1113 1103 1168 1289 117 1132 1295 2285 119 1220 1132 4901 1105 26812 1621 1103 1234 1120 1415 119 2397 6984 1104 1892 117 1104 7157 117 1105 1104 20125 10249 170 1632 10807 1104 1103 1211 5918 1226 1104 1103 2808 119 102\n",
      "[NeMo I 2021-06-21 19:40:56 text_classification_dataset:180] input_mask: 1 1 1 1 1 1 1 1 1 1 1 1 1 1 1 1 1 1 1 1 1 1 1 1 1 1 1 1 1 1 1 1 1 1 1 1 1 1 1 1 1 1 1 1 1 1 1 1 1 1 1 1 1 1 1 1 1 1 1 1 1 1 1 1 1 1 1 1 1 1 1 1 1 1 1 1 1 1 1 1 1 1 1 1 1 1 1 1 1 1 1 1 1 1 1 1 1 1 1 1 1 1 1 1 1 1 1 1 1 1 1 1 1 1 1 1 1 1 1 1 1 1 1 1 1 1 1 1\n",
      "[NeMo I 2021-06-21 19:40:56 actions:695] Evaluating batch 0 out of 7\n",
      "[NeMo I 2021-06-21 19:40:56 actions:695] Evaluating batch 1 out of 7\n",
      "[NeMo I 2021-06-21 19:40:56 actions:695] Evaluating batch 2 out of 7\n",
      "[NeMo I 2021-06-21 19:40:56 actions:695] Evaluating batch 3 out of 7\n",
      "[NeMo I 2021-06-21 19:40:56 actions:695] Evaluating batch 4 out of 7\n",
      "[NeMo I 2021-06-21 19:40:56 actions:695] Evaluating batch 5 out of 7\n",
      "[NeMo I 2021-06-21 19:40:56 actions:695] Evaluating batch 6 out of 7\n",
      "[NeMo I 2021-06-21 19:40:56 text_classification_dataset:82] /dli/task/data/federalist_papers_HM/labeled_test50.tsv: 4\n",
      "[NeMo I 2021-06-21 19:40:56 data_preprocessing:250] Min: 281 |                  Max: 345 |                  Mean: 306.5 |                  Median: 300.0\n",
      "[NeMo I 2021-06-21 19:40:56 data_preprocessing:252] 75 percentile: 317.25\n",
      "[NeMo I 2021-06-21 19:40:56 data_preprocessing:253] 99 percentile: 343.89\n",
      "[NeMo I 2021-06-21 19:40:56 text_classification_dataset:118] 4 out of 4                         sentences with more than 128 subtokens.\n",
      "[NeMo I 2021-06-21 19:40:56 text_classification_dataset:175] *** Example ***\n",
      "[NeMo I 2021-06-21 19:40:56 text_classification_dataset:176] example_index: 0\n",
      "[NeMo I 2021-06-21 19:40:56 text_classification_dataset:177] subtokens: [CLS] and will be connected with all the circumstances which tend to v ##iti ##ate and per ##vert the result of occasional revision ##s . If the periods be distant from each other , the same remark will be applicable to all recent measures ; and in proportion as the remote ##ness of the others may favor a di ##sp ##ass ##ion ##ate review of them , this advantage is ins ##ep ##ara ##ble from in ##con ##ven ##ience ##s which seem to counter ##bal ##ance it . In the first place , a distant prospect of public c ##ens ##ure would be a very fee ##ble restraint on power from those excess ##es to which it might be urged by the force of present motives . [SEP]\n",
      "[NeMo I 2021-06-21 19:40:56 text_classification_dataset:178] sent_label: 0\n",
      "[NeMo I 2021-06-21 19:40:56 text_classification_dataset:179] input_ids: 101 1105 1209 1129 3387 1114 1155 1103 5607 1134 6613 1106 191 17030 2193 1105 1679 12986 1103 1871 1104 7957 16547 1116 119 1409 1103 6461 1129 6531 1121 1296 1168 117 1103 1269 19422 1209 1129 13036 1106 1155 2793 5252 132 1105 1107 10807 1112 1103 6456 1757 1104 1103 1639 1336 5010 170 4267 20080 11192 1988 2193 3189 1104 1172 117 1142 4316 1110 22233 8043 4626 2165 1121 1107 7235 7912 16457 1116 1134 3166 1106 4073 7767 3923 1122 119 1130 1103 1148 1282 117 170 6531 11870 1104 1470 172 5026 3313 1156 1129 170 1304 7216 2165 21769 1113 1540 1121 1343 10116 1279 1106 1134 1122 1547 1129 9497 1118 1103 2049 1104 1675 18686 119 102\n",
      "[NeMo I 2021-06-21 19:40:56 text_classification_dataset:180] input_mask: 1 1 1 1 1 1 1 1 1 1 1 1 1 1 1 1 1 1 1 1 1 1 1 1 1 1 1 1 1 1 1 1 1 1 1 1 1 1 1 1 1 1 1 1 1 1 1 1 1 1 1 1 1 1 1 1 1 1 1 1 1 1 1 1 1 1 1 1 1 1 1 1 1 1 1 1 1 1 1 1 1 1 1 1 1 1 1 1 1 1 1 1 1 1 1 1 1 1 1 1 1 1 1 1 1 1 1 1 1 1 1 1 1 1 1 1 1 1 1 1 1 1 1 1 1 1 1 1\n",
      "[NeMo I 2021-06-21 19:40:56 text_classification_dataset:175] *** Example ***\n",
      "[NeMo I 2021-06-21 19:40:56 text_classification_dataset:176] example_index: 1\n",
      "[NeMo I 2021-06-21 19:40:56 text_classification_dataset:177] subtokens: [CLS] of it , as well as for other purposes , has been actually tried in one of the States . One of the objects of the Council of Ce ##nso ##rs which met in Pennsylvania in 1783 and 1784 , was , as we have seen , to in ##quire , ` ` whether the constitution had been violated , and whether the legislative and executive departments had en ##c ##roach ##ed upon each other . ` ` This important and novel experiment in politics merits , in several points of view , very particular attention . In some of them it may , perhaps , as a single experiment , made under circumstances somewhat peculiar , be thought to be not absolutely con ##clusive . [SEP]\n",
      "[NeMo I 2021-06-21 19:40:56 text_classification_dataset:178] sent_label: 0\n",
      "[NeMo I 2021-06-21 19:40:56 text_classification_dataset:179] input_ids: 101 1104 1122 117 1112 1218 1112 1111 1168 4998 117 1144 1151 2140 1793 1107 1141 1104 1103 1311 119 1448 1104 1103 4546 1104 1103 1761 1104 24664 27035 1733 1134 1899 1107 2680 1107 16110 1105 17521 117 1108 117 1112 1195 1138 1562 117 1106 1107 15174 117 169 169 2480 1103 7119 1125 1151 15079 117 1105 2480 1103 7663 1105 3275 7844 1125 4035 1665 20073 1174 1852 1296 1168 119 169 169 1188 1696 1105 2281 7886 1107 4039 26207 117 1107 1317 1827 1104 2458 117 1304 2440 2209 119 1130 1199 1104 1172 1122 1336 117 3229 117 1112 170 1423 7886 117 1189 1223 5607 4742 15404 117 1129 1354 1106 1129 1136 7284 14255 16891 119 102\n",
      "[NeMo I 2021-06-21 19:40:56 text_classification_dataset:180] input_mask: 1 1 1 1 1 1 1 1 1 1 1 1 1 1 1 1 1 1 1 1 1 1 1 1 1 1 1 1 1 1 1 1 1 1 1 1 1 1 1 1 1 1 1 1 1 1 1 1 1 1 1 1 1 1 1 1 1 1 1 1 1 1 1 1 1 1 1 1 1 1 1 1 1 1 1 1 1 1 1 1 1 1 1 1 1 1 1 1 1 1 1 1 1 1 1 1 1 1 1 1 1 1 1 1 1 1 1 1 1 1 1 1 1 1 1 1 1 1 1 1 1 1 1 1 1 1 1 1\n",
      "[NeMo I 2021-06-21 19:40:56 text_classification_dataset:175] *** Example ***\n",
      "[NeMo I 2021-06-21 19:40:56 text_classification_dataset:176] example_index: 2\n",
      "[NeMo I 2021-06-21 19:40:56 text_classification_dataset:177] subtokens: [CLS] them had been speaker , and a number of others distinguished members , of the legislative assembly within the same period . Third ##ly . Every page of their proceedings witnesses the effect of all these circumstances on the temper of their del ##iber ##ations . Throughout the con ##tin ##uan ##ce of the council , it was split into two fixed and violent parties . The fact is acknowledged and lame ##nted by themselves . Had this not been the case , the face of their proceedings exhibits a proof equally satisfactory . In all questions , however un ##im ##port ##ant in themselves , or un ##connected with each other , the same names stand in ##var ##iably contrasted on the opposite columns . [SEP]\n",
      "[NeMo I 2021-06-21 19:40:56 text_classification_dataset:178] sent_label: 0\n",
      "[NeMo I 2021-06-21 19:40:56 text_classification_dataset:179] input_ids: 101 1172 1125 1151 7349 117 1105 170 1295 1104 1639 6019 1484 117 1104 1103 7663 5839 1439 1103 1269 1669 119 4180 1193 119 4081 3674 1104 1147 10830 10313 1103 2629 1104 1155 1292 5607 1113 1103 12653 1104 1147 3687 24851 6006 119 7092 1103 14255 6105 8734 2093 1104 1103 3193 117 1122 1108 3325 1154 1160 4275 1105 5973 3512 119 1109 1864 1110 8646 1105 25492 16736 1118 2310 119 6467 1142 1136 1151 1103 1692 117 1103 1339 1104 1147 10830 10877 170 6777 7808 26192 119 1130 1155 3243 117 1649 8362 4060 4342 2861 1107 2310 117 1137 8362 24323 1114 1296 1168 117 1103 1269 2666 2484 1107 8997 22368 24681 1113 1103 3714 7411 119 102\n",
      "[NeMo I 2021-06-21 19:40:56 text_classification_dataset:180] input_mask: 1 1 1 1 1 1 1 1 1 1 1 1 1 1 1 1 1 1 1 1 1 1 1 1 1 1 1 1 1 1 1 1 1 1 1 1 1 1 1 1 1 1 1 1 1 1 1 1 1 1 1 1 1 1 1 1 1 1 1 1 1 1 1 1 1 1 1 1 1 1 1 1 1 1 1 1 1 1 1 1 1 1 1 1 1 1 1 1 1 1 1 1 1 1 1 1 1 1 1 1 1 1 1 1 1 1 1 1 1 1 1 1 1 1 1 1 1 1 1 1 1 1 1 1 1 1 1 1\n",
      "[NeMo I 2021-06-21 19:40:56 text_classification_dataset:175] *** Example ***\n",
      "[NeMo I 2021-06-21 19:40:56 text_classification_dataset:176] example_index: 3\n",
      "[NeMo I 2021-06-21 19:40:56 text_classification_dataset:177] subtokens: [CLS] , have had any effect in varying the practice founded on legislative constructions . It even appears , if I mistake not , that in one instance the contemporary legislature denied the constructions of the council , and actually prevailed in the contest . This c ##ens ##oria ##l body , therefore , proves at the same time , by its research ##es , the existence of the disease , and by its example , the in ##ef ##fica ##cy of the remedy . This conclusion can not be invalid ##ated by alleging that the State in which the experiment was made was at that crisis , and had been for a long time before , violently heated and distracted by the rage of party . [SEP]\n",
      "[NeMo I 2021-06-21 19:40:56 text_classification_dataset:178] sent_label: 0\n",
      "[NeMo I 2021-06-21 19:40:56 text_classification_dataset:179] input_ids: 101 117 1138 1125 1251 2629 1107 9507 1103 2415 1771 1113 7663 26674 119 1135 1256 2691 117 1191 146 6223 1136 117 1115 1107 1141 5374 1103 3793 8312 5762 1103 26674 1104 1103 3193 117 1105 2140 21691 1107 1103 5235 119 1188 172 5026 16420 1233 1404 117 3335 117 17617 1120 1103 1269 1159 117 1118 1157 1844 1279 117 1103 3796 1104 1103 3653 117 1105 1118 1157 1859 117 1103 1107 11470 24685 3457 1104 1103 23615 119 1188 6593 1169 1136 1129 22475 2913 1118 26099 1115 1103 1426 1107 1134 1103 7886 1108 1189 1108 1120 1115 5532 117 1105 1125 1151 1111 170 1263 1159 1196 117 14835 9511 1105 11353 1118 1103 8045 1104 1710 119 102\n",
      "[NeMo I 2021-06-21 19:40:56 text_classification_dataset:180] input_mask: 1 1 1 1 1 1 1 1 1 1 1 1 1 1 1 1 1 1 1 1 1 1 1 1 1 1 1 1 1 1 1 1 1 1 1 1 1 1 1 1 1 1 1 1 1 1 1 1 1 1 1 1 1 1 1 1 1 1 1 1 1 1 1 1 1 1 1 1 1 1 1 1 1 1 1 1 1 1 1 1 1 1 1 1 1 1 1 1 1 1 1 1 1 1 1 1 1 1 1 1 1 1 1 1 1 1 1 1 1 1 1 1 1 1 1 1 1 1 1 1 1 1 1 1 1 1 1 1\n",
      "[NeMo I 2021-06-21 19:40:56 actions:695] Evaluating batch 0 out of 4\n",
      "[NeMo I 2021-06-21 19:40:57 actions:695] Evaluating batch 1 out of 4\n",
      "[NeMo I 2021-06-21 19:40:57 actions:695] Evaluating batch 2 out of 4\n",
      "[NeMo I 2021-06-21 19:40:57 actions:695] Evaluating batch 3 out of 4\n",
      "[NeMo I 2021-06-21 19:40:57 text_classification_dataset:82] /dli/task/data/federalist_papers_HM/labeled_test51.tsv: 8\n",
      "[NeMo I 2021-06-21 19:40:57 data_preprocessing:250] Min: 258 |                  Max: 322 |                  Mean: 291.375 |                  Median: 290.5\n",
      "[NeMo I 2021-06-21 19:40:57 data_preprocessing:252] 75 percentile: 299.5\n",
      "[NeMo I 2021-06-21 19:40:57 data_preprocessing:253] 99 percentile: 320.53000000000003\n",
      "[NeMo I 2021-06-21 19:40:57 text_classification_dataset:118] 8 out of 8                         sentences with more than 128 subtokens.\n",
      "[NeMo I 2021-06-21 19:40:57 text_classification_dataset:175] *** Example ***\n",
      "[NeMo I 2021-06-21 19:40:57 text_classification_dataset:176] example_index: 0\n",
      "[NeMo I 2021-06-21 19:40:57 text_classification_dataset:177] subtokens: [CLS] of this important idea , I will hazard a few general observations , which may perhaps place it in a clearer light , and enable us to form a more correct judgment of the principles and structure of the government planned by the convention . In order to lay a due foundation for that separate and distinct exercise of the different powers of government , which to a certain extent is admitted on all hands to be essential to the preservation of liberty , it is evident that each department should have a will of its own ; and consequently should be so constituted that the members of each should have as little agency as possible in the appointment of the members of the others . [SEP]\n",
      "[NeMo I 2021-06-21 19:40:57 text_classification_dataset:178] sent_label: 0\n",
      "[NeMo I 2021-06-21 19:40:57 text_classification_dataset:179] input_ids: 101 1104 1142 1696 1911 117 146 1209 22699 170 1374 1704 9959 117 1134 1336 3229 1282 1122 1107 170 27830 1609 117 1105 9396 1366 1106 1532 170 1167 5663 9228 1104 1103 6551 1105 2401 1104 1103 1433 2919 1118 1103 6765 119 1130 1546 1106 3191 170 1496 4686 1111 1115 2767 1105 4966 6730 1104 1103 1472 3758 1104 1433 117 1134 1106 170 2218 6102 1110 4120 1113 1155 1493 1106 1129 6818 1106 1103 10149 1104 15470 117 1122 1110 10238 1115 1296 2853 1431 1138 170 1209 1104 1157 1319 132 1105 14007 1431 1129 1177 12810 1115 1103 1484 1104 1296 1431 1138 1112 1376 4792 1112 1936 1107 1103 5516 1104 1103 1484 1104 1103 1639 119 102\n",
      "[NeMo I 2021-06-21 19:40:57 text_classification_dataset:180] input_mask: 1 1 1 1 1 1 1 1 1 1 1 1 1 1 1 1 1 1 1 1 1 1 1 1 1 1 1 1 1 1 1 1 1 1 1 1 1 1 1 1 1 1 1 1 1 1 1 1 1 1 1 1 1 1 1 1 1 1 1 1 1 1 1 1 1 1 1 1 1 1 1 1 1 1 1 1 1 1 1 1 1 1 1 1 1 1 1 1 1 1 1 1 1 1 1 1 1 1 1 1 1 1 1 1 1 1 1 1 1 1 1 1 1 1 1 1 1 1 1 1 1 1 1 1 1 1 1 1\n",
      "[NeMo I 2021-06-21 19:40:57 text_classification_dataset:175] *** Example ***\n",
      "[NeMo I 2021-06-21 19:40:57 text_classification_dataset:176] example_index: 1\n",
      "[NeMo I 2021-06-21 19:40:57 text_classification_dataset:177] subtokens: [CLS] held in that department , must soon destroy all sense of dependence on the authority con ##fer ##ring them . It is equally evident , that the members of each department should be as little dependent as possible on those of the others , for the em ##ol ##ume ##nts annexed to their offices . Were the executive magistrate , or the judges , not independent of the legislature in this particular , their independence in every other would be merely nominal . But the great security against a gradual concentration of the several powers in the same department , consists in giving to those who administer each department the necessary constitutional means and personal motives to resist en ##c ##roach ##ments of the others . [SEP]\n",
      "[NeMo I 2021-06-21 19:40:57 text_classification_dataset:178] sent_label: 0\n",
      "[NeMo I 2021-06-21 19:40:57 text_classification_dataset:179] input_ids: 101 1316 1107 1115 2853 117 1538 1770 5535 1155 2305 1104 20917 1113 1103 3748 14255 6732 3384 1172 119 1135 1110 7808 10238 117 1115 1103 1484 1104 1296 2853 1431 1129 1112 1376 7449 1112 1936 1113 1343 1104 1103 1639 117 1111 1103 9712 4063 15447 5240 13706 1106 1147 4158 119 8640 1103 3275 20261 117 1137 1103 7030 117 1136 2457 1104 1103 8312 1107 1142 2440 117 1147 4574 1107 1451 1168 1156 1129 5804 16251 119 1252 1103 1632 2699 1222 170 18258 6256 1104 1103 1317 3758 1107 1103 1269 2853 117 2923 1107 2368 1106 1343 1150 23972 1296 2853 1103 3238 7950 2086 1105 2357 18686 1106 9345 4035 1665 20073 4385 1104 1103 1639 119 102\n",
      "[NeMo I 2021-06-21 19:40:57 text_classification_dataset:180] input_mask: 1 1 1 1 1 1 1 1 1 1 1 1 1 1 1 1 1 1 1 1 1 1 1 1 1 1 1 1 1 1 1 1 1 1 1 1 1 1 1 1 1 1 1 1 1 1 1 1 1 1 1 1 1 1 1 1 1 1 1 1 1 1 1 1 1 1 1 1 1 1 1 1 1 1 1 1 1 1 1 1 1 1 1 1 1 1 1 1 1 1 1 1 1 1 1 1 1 1 1 1 1 1 1 1 1 1 1 1 1 1 1 1 1 1 1 1 1 1 1 1 1 1 1 1 1 1 1 1\n",
      "[NeMo I 2021-06-21 19:40:57 text_classification_dataset:175] *** Example ***\n",
      "[NeMo I 2021-06-21 19:40:57 text_classification_dataset:176] example_index: 2\n",
      "[NeMo I 2021-06-21 19:40:57 text_classification_dataset:177] subtokens: [CLS] to control itself . A dependence on the people is , no doubt , the primary control on the government ; but experience has taught mankind the necessity of auxiliary pre ##ca ##ution ##s . This policy of supplying , by opposite and rival interests , the defect of better motives , might be traced through the whole system of human affairs , private as well as public . We see it particularly displayed in all the subordinate distributions of power , where the constant aim is to divide and arrange the several offices in such a manner as that each may be a check on the other that the private interest of every individual may be a sent ##ine ##l over the public rights . [SEP]\n",
      "[NeMo I 2021-06-21 19:40:57 text_classification_dataset:178] sent_label: 0\n",
      "[NeMo I 2021-06-21 19:40:57 text_classification_dataset:179] input_ids: 101 1106 1654 2111 119 138 20917 1113 1103 1234 1110 117 1185 4095 117 1103 2425 1654 1113 1103 1433 132 1133 2541 1144 3188 18442 1103 14176 1104 13817 3073 2599 12964 1116 119 1188 2818 1104 19229 117 1118 3714 1105 6048 4740 117 1103 23912 1104 1618 18686 117 1547 1129 9286 1194 1103 2006 1449 1104 1769 5707 117 2029 1112 1218 1112 1470 119 1284 1267 1122 2521 6361 1107 1155 1103 16469 23190 1104 1540 117 1187 1103 4836 6457 1110 1106 13330 1105 14211 1103 1317 4158 1107 1216 170 4758 1112 1115 1296 1336 1129 170 4031 1113 1103 1168 1115 1103 2029 2199 1104 1451 2510 1336 1129 170 1850 2042 1233 1166 1103 1470 2266 119 102\n",
      "[NeMo I 2021-06-21 19:40:57 text_classification_dataset:180] input_mask: 1 1 1 1 1 1 1 1 1 1 1 1 1 1 1 1 1 1 1 1 1 1 1 1 1 1 1 1 1 1 1 1 1 1 1 1 1 1 1 1 1 1 1 1 1 1 1 1 1 1 1 1 1 1 1 1 1 1 1 1 1 1 1 1 1 1 1 1 1 1 1 1 1 1 1 1 1 1 1 1 1 1 1 1 1 1 1 1 1 1 1 1 1 1 1 1 1 1 1 1 1 1 1 1 1 1 1 1 1 1 1 1 1 1 1 1 1 1 1 1 1 1 1 1 1 1 1 1\n",
      "[NeMo I 2021-06-21 19:40:57 text_classification_dataset:175] *** Example ***\n",
      "[NeMo I 2021-06-21 19:40:57 text_classification_dataset:176] example_index: 3\n",
      "[NeMo I 2021-06-21 19:40:57 text_classification_dataset:177] subtokens: [CLS] fortified . An absolute negative on the legislature appears , at first view , to be the natural defense with which the executive magistrate should be armed . But perhaps it would be neither altogether safe nor alone sufficient . On ordinary occasions it might not be ex ##ert ##ed with the re ##quisite firm ##ness , and on extraordinary occasions it might be per ##fi ##dious ##ly abused . May not this defect of an absolute negative be supplied by some qualified connection between this weaker department and the weaker branch of the stronger department , by which the latter may be led to support the constitutional rights of the former , without being too much detached from the rights of its own department ? [SEP]\n",
      "[NeMo I 2021-06-21 19:40:57 text_classification_dataset:178] sent_label: 0\n",
      "[NeMo I 2021-06-21 19:40:57 text_classification_dataset:179] input_ids: 101 14149 119 1760 7846 4366 1113 1103 8312 2691 117 1120 1148 2458 117 1106 1129 1103 2379 3948 1114 1134 1103 3275 20261 1431 1129 4223 119 1252 3229 1122 1156 1129 4534 11257 2914 4040 2041 6664 119 1212 6655 6070 1122 1547 1136 1129 4252 7340 1174 1114 1103 1231 26089 3016 1757 117 1105 1113 10264 6070 1122 1547 1129 1679 8702 24348 1193 18400 119 1318 1136 1142 23912 1104 1126 7846 4366 1129 7694 1118 1199 4452 3797 1206 1142 16990 2853 1105 1103 16990 3392 1104 1103 5992 2853 117 1118 1134 1103 2985 1336 1129 1521 1106 1619 1103 7950 2266 1104 1103 1393 117 1443 1217 1315 1277 12817 1121 1103 2266 1104 1157 1319 2853 136 102\n",
      "[NeMo I 2021-06-21 19:40:57 text_classification_dataset:180] input_mask: 1 1 1 1 1 1 1 1 1 1 1 1 1 1 1 1 1 1 1 1 1 1 1 1 1 1 1 1 1 1 1 1 1 1 1 1 1 1 1 1 1 1 1 1 1 1 1 1 1 1 1 1 1 1 1 1 1 1 1 1 1 1 1 1 1 1 1 1 1 1 1 1 1 1 1 1 1 1 1 1 1 1 1 1 1 1 1 1 1 1 1 1 1 1 1 1 1 1 1 1 1 1 1 1 1 1 1 1 1 1 1 1 1 1 1 1 1 1 1 1 1 1 1 1 1 1 1 1\n",
      "[NeMo I 2021-06-21 19:40:57 text_classification_dataset:175] *** Example ***\n",
      "[NeMo I 2021-06-21 19:40:57 text_classification_dataset:176] example_index: 4\n",
      "[NeMo I 2021-06-21 19:40:57 text_classification_dataset:177] subtokens: [CLS] division of the government into distinct and separate departments . In the compound republic of America , the power surrendered by the people is first divided between two distinct governments , and then the portion allotted to each subdivided among distinct and separate departments . Hence a double security arises to the rights of the people . The different governments will control each other , at the same time that each will be controlled by itself . Second . It is of great importance in a republic not only to guard the society against the oppression of its rulers , but to guard one part of the society against the injustice of the other part . Different interests necessarily exist in different classes of citizens . [SEP]\n",
      "[NeMo I 2021-06-21 19:40:57 text_classification_dataset:178] sent_label: 0\n",
      "[NeMo I 2021-06-21 19:40:57 text_classification_dataset:179] input_ids: 101 2417 1104 1103 1433 1154 4966 1105 2767 7844 119 1130 1103 7090 13911 1104 1738 117 1103 1540 10738 1118 1103 1234 1110 1148 3233 1206 1160 4966 6670 117 1105 1173 1103 3849 27135 1106 1296 16224 1621 4966 1105 2767 7844 119 13615 170 2702 2699 20251 1106 1103 2266 1104 1103 1234 119 1109 1472 6670 1209 1654 1296 1168 117 1120 1103 1269 1159 1115 1296 1209 1129 4013 1118 2111 119 2307 119 1135 1110 1104 1632 4495 1107 170 13911 1136 1178 1106 3542 1103 2808 1222 1103 23309 1104 1157 11507 117 1133 1106 3542 1141 1226 1104 1103 2808 1222 1103 26991 1104 1103 1168 1226 119 14380 4740 9073 4056 1107 1472 3553 1104 4037 119 102\n",
      "[NeMo I 2021-06-21 19:40:57 text_classification_dataset:180] input_mask: 1 1 1 1 1 1 1 1 1 1 1 1 1 1 1 1 1 1 1 1 1 1 1 1 1 1 1 1 1 1 1 1 1 1 1 1 1 1 1 1 1 1 1 1 1 1 1 1 1 1 1 1 1 1 1 1 1 1 1 1 1 1 1 1 1 1 1 1 1 1 1 1 1 1 1 1 1 1 1 1 1 1 1 1 1 1 1 1 1 1 1 1 1 1 1 1 1 1 1 1 1 1 1 1 1 1 1 1 1 1 1 1 1 1 1 1 1 1 1 1 1 1 1 1 1 1 1 1\n",
      "[NeMo I 2021-06-21 19:40:57 actions:695] Evaluating batch 0 out of 8\n",
      "[NeMo I 2021-06-21 19:40:57 actions:695] Evaluating batch 1 out of 8\n",
      "[NeMo I 2021-06-21 19:40:57 actions:695] Evaluating batch 2 out of 8\n",
      "[NeMo I 2021-06-21 19:40:57 actions:695] Evaluating batch 3 out of 8\n",
      "[NeMo I 2021-06-21 19:40:57 actions:695] Evaluating batch 4 out of 8\n",
      "[NeMo I 2021-06-21 19:40:57 actions:695] Evaluating batch 5 out of 8\n",
      "[NeMo I 2021-06-21 19:40:57 actions:695] Evaluating batch 6 out of 8\n",
      "[NeMo I 2021-06-21 19:40:57 actions:695] Evaluating batch 7 out of 8\n",
      "[NeMo I 2021-06-21 19:40:57 text_classification_dataset:82] /dli/task/data/federalist_papers_HM/labeled_test52.tsv: 7\n",
      "[NeMo I 2021-06-21 19:40:57 data_preprocessing:250] Min: 276 |                  Max: 306 |                  Mean: 288.7142857142857 |                  Median: 290.0\n",
      "[NeMo I 2021-06-21 19:40:57 data_preprocessing:252] 75 percentile: 297.0\n",
      "[NeMo I 2021-06-21 19:40:57 data_preprocessing:253] 99 percentile: 305.52000000000004\n",
      "[NeMo I 2021-06-21 19:40:57 text_classification_dataset:118] 7 out of 7                         sentences with more than 128 subtokens.\n",
      "[NeMo I 2021-06-21 19:40:57 text_classification_dataset:175] *** Example ***\n",
      "[NeMo I 2021-06-21 19:40:57 text_classification_dataset:176] example_index: 0\n",
      "[NeMo I 2021-06-21 19:40:57 text_classification_dataset:177] subtokens: [CLS] establish this right in the Constitution . To have left it open for the occasional regulation of the Congress , would have been imp ##roper for the reason just mentioned . To have submitted it to the legislative discretion of the States , would have been imp ##roper for the same reason ; and for the additional reason that it would have rendered too dependent on the State governments that branch of the federal government which ought to be dependent on the people alone . To have reduced the different qualifications in the different States to one uniform rule , would probably have been as di ##ssa ##tis ##fa ##ctor ##y to some of the States as it would have been difficult to the convention . [SEP]\n",
      "[NeMo I 2021-06-21 19:40:57 text_classification_dataset:178] sent_label: 0\n",
      "[NeMo I 2021-06-21 19:40:57 text_classification_dataset:179] input_ids: 101 4586 1142 1268 1107 1103 5317 119 1706 1138 1286 1122 1501 1111 1103 7957 8585 1104 1103 2757 117 1156 1138 1151 24034 26554 1111 1103 2255 1198 3025 119 1706 1138 7402 1122 1106 1103 7663 21435 1104 1103 1311 117 1156 1138 1151 24034 26554 1111 1103 1269 2255 132 1105 1111 1103 2509 2255 1115 1122 1156 1138 10029 1315 7449 1113 1103 1426 6670 1115 3392 1104 1103 2877 1433 1134 11454 1106 1129 7449 1113 1103 1234 2041 119 1706 1138 3549 1103 1472 18113 1107 1103 1472 1311 1106 1141 6029 3013 117 1156 1930 1138 1151 1112 4267 11655 6620 8057 9363 1183 1106 1199 1104 1103 1311 1112 1122 1156 1138 1151 2846 1106 1103 6765 119 102\n",
      "[NeMo I 2021-06-21 19:40:57 text_classification_dataset:180] input_mask: 1 1 1 1 1 1 1 1 1 1 1 1 1 1 1 1 1 1 1 1 1 1 1 1 1 1 1 1 1 1 1 1 1 1 1 1 1 1 1 1 1 1 1 1 1 1 1 1 1 1 1 1 1 1 1 1 1 1 1 1 1 1 1 1 1 1 1 1 1 1 1 1 1 1 1 1 1 1 1 1 1 1 1 1 1 1 1 1 1 1 1 1 1 1 1 1 1 1 1 1 1 1 1 1 1 1 1 1 1 1 1 1 1 1 1 1 1 1 1 1 1 1 1 1 1 1 1 1\n",
      "[NeMo I 2021-06-21 19:40:57 text_classification_dataset:175] *** Example ***\n",
      "[NeMo I 2021-06-21 19:40:57 text_classification_dataset:176] example_index: 1\n",
      "[NeMo I 2021-06-21 19:40:57 text_classification_dataset:177] subtokens: [CLS] considered and regulated by the convention . A representative of the United States must be of the age of twenty - five years ; must have been seven years a citizen of the United States ; must , at the time of his election , be an inhabit ##ant of the State he is to represent ; and , during the time of his service , must be in no office under the United States . Under these reasonable limitations , the door of this part of the federal government is open to merit of every description , whether native or adopt ##ive , whether young or old , and without regard to poverty or wealth , or to any particular profession of religious faith . [SEP]\n",
      "[NeMo I 2021-06-21 19:40:57 text_classification_dataset:178] sent_label: 0\n",
      "[NeMo I 2021-06-21 19:40:57 text_classification_dataset:179] input_ids: 101 1737 1105 12521 1118 1103 6765 119 138 4702 1104 1103 1244 1311 1538 1129 1104 1103 1425 1104 2570 118 1421 1201 132 1538 1138 1151 1978 1201 170 7888 1104 1103 1244 1311 132 1538 117 1120 1103 1159 1104 1117 1728 117 1129 1126 23778 2861 1104 1103 1426 1119 1110 1106 4248 132 1105 117 1219 1103 1159 1104 1117 1555 117 1538 1129 1107 1185 1701 1223 1103 1244 1311 119 2831 1292 9483 13004 117 1103 1442 1104 1142 1226 1104 1103 2877 1433 1110 1501 1106 16008 1104 1451 6136 117 2480 2900 1137 11258 2109 117 2480 1685 1137 1385 117 1105 1443 7328 1106 5224 1137 6968 117 1137 1106 1251 2440 9545 1104 2689 5228 119 102\n",
      "[NeMo I 2021-06-21 19:40:57 text_classification_dataset:180] input_mask: 1 1 1 1 1 1 1 1 1 1 1 1 1 1 1 1 1 1 1 1 1 1 1 1 1 1 1 1 1 1 1 1 1 1 1 1 1 1 1 1 1 1 1 1 1 1 1 1 1 1 1 1 1 1 1 1 1 1 1 1 1 1 1 1 1 1 1 1 1 1 1 1 1 1 1 1 1 1 1 1 1 1 1 1 1 1 1 1 1 1 1 1 1 1 1 1 1 1 1 1 1 1 1 1 1 1 1 1 1 1 1 1 1 1 1 1 1 1 1 1 1 1 1 1 1 1 1 1\n",
      "[NeMo I 2021-06-21 19:40:57 text_classification_dataset:175] *** Example ***\n",
      "[NeMo I 2021-06-21 19:40:57 text_classification_dataset:176] example_index: 2\n",
      "[NeMo I 2021-06-21 19:40:57 text_classification_dataset:177] subtokens: [CLS] on a variety of circumstances with which it may be connected . Let us consult experience , the guide that ought always to be followed whenever it can be found . The scheme of representation , as a substitute for a meeting of the citizens in person , being at most but very imp ##er ##fect ##ly known to ancient p ##oli ##ty , it is in more modern times only that we are to expect ins ##truct ##ive examples . And even here , in order to avoid a research too vague and di ##ff ##usive , it will be proper to con ##fine ourselves to the few examples which are best known , and which bear the greatest analogy to our particular case . [SEP]\n",
      "[NeMo I 2021-06-21 19:40:57 text_classification_dataset:178] sent_label: 0\n",
      "[NeMo I 2021-06-21 19:40:57 text_classification_dataset:179] input_ids: 101 1113 170 2783 1104 5607 1114 1134 1122 1336 1129 3387 119 2421 1366 27231 2541 117 1103 6388 1115 11454 1579 1106 1129 1723 7747 1122 1169 1129 1276 119 1109 5471 1104 6368 117 1112 170 7359 1111 170 2309 1104 1103 4037 1107 1825 117 1217 1120 1211 1133 1304 24034 1200 11916 1193 1227 1106 2890 185 11014 2340 117 1122 1110 1107 1167 2030 1551 1178 1115 1195 1132 1106 5363 22233 23055 2109 5136 119 1262 1256 1303 117 1107 1546 1106 3644 170 1844 1315 14673 1105 4267 3101 17849 117 1122 1209 1129 4778 1106 14255 24191 9655 1106 1103 1374 5136 1134 1132 1436 1227 117 1105 1134 4965 1103 4459 26799 1106 1412 2440 1692 119 102\n",
      "[NeMo I 2021-06-21 19:40:57 text_classification_dataset:180] input_mask: 1 1 1 1 1 1 1 1 1 1 1 1 1 1 1 1 1 1 1 1 1 1 1 1 1 1 1 1 1 1 1 1 1 1 1 1 1 1 1 1 1 1 1 1 1 1 1 1 1 1 1 1 1 1 1 1 1 1 1 1 1 1 1 1 1 1 1 1 1 1 1 1 1 1 1 1 1 1 1 1 1 1 1 1 1 1 1 1 1 1 1 1 1 1 1 1 1 1 1 1 1 1 1 1 1 1 1 1 1 1 1 1 1 1 1 1 1 1 1 1 1 1 1 1 1 1 1 1\n",
      "[NeMo I 2021-06-21 19:40:57 text_classification_dataset:175] *** Example ***\n",
      "[NeMo I 2021-06-21 19:40:57 text_classification_dataset:176] example_index: 3\n",
      "[NeMo I 2021-06-21 19:40:57 text_classification_dataset:177] subtokens: [CLS] years . On the accession of William III . , when a revolution took place in the government , the subject was still more seriously resumed , and it was declared to be among the fundamental rights of the people that parliament ##s ought to be held F ##RE ##Q ##UE ##NT ##L ##Y . By another statute , which passed a few years later in the same reign , the term ` ` frequently , ` ` which had all ##uded to the t ##rien ##nial period settled in the time of Charles II . , is reduced to a precise meaning , it being express ##ly enacted that a new parliament shall be called within three years after the termination of the former . [SEP]\n",
      "[NeMo I 2021-06-21 19:40:57 text_classification_dataset:178] sent_label: 0\n",
      "[NeMo I 2021-06-21 19:40:57 text_classification_dataset:179] input_ids: 101 1201 119 1212 1103 19727 1104 1613 2684 119 117 1165 170 8011 1261 1282 1107 1103 1433 117 1103 2548 1108 1253 1167 5536 7475 117 1105 1122 1108 3332 1106 1129 1621 1103 8148 2266 1104 1103 1234 1115 6254 1116 11454 1106 1129 1316 143 16941 4880 24846 15681 2162 3663 119 1650 1330 14610 117 1134 2085 170 1374 1201 1224 1107 1103 1269 5436 117 1103 1858 169 169 3933 117 169 169 1134 1125 1155 14054 1106 1103 189 22500 21364 1669 3035 1107 1103 1159 1104 1889 1563 119 117 1110 3549 1106 170 10515 2764 117 1122 1217 6848 1193 12113 1115 170 1207 6254 4103 1129 1270 1439 1210 1201 1170 1103 20776 1104 1103 1393 119 102\n",
      "[NeMo I 2021-06-21 19:40:57 text_classification_dataset:180] input_mask: 1 1 1 1 1 1 1 1 1 1 1 1 1 1 1 1 1 1 1 1 1 1 1 1 1 1 1 1 1 1 1 1 1 1 1 1 1 1 1 1 1 1 1 1 1 1 1 1 1 1 1 1 1 1 1 1 1 1 1 1 1 1 1 1 1 1 1 1 1 1 1 1 1 1 1 1 1 1 1 1 1 1 1 1 1 1 1 1 1 1 1 1 1 1 1 1 1 1 1 1 1 1 1 1 1 1 1 1 1 1 1 1 1 1 1 1 1 1 1 1 1 1 1 1 1 1 1 1\n",
      "[NeMo I 2021-06-21 19:40:57 text_classification_dataset:175] *** Example ***\n",
      "[NeMo I 2021-06-21 19:40:57 text_classification_dataset:176] example_index: 4\n",
      "[NeMo I 2021-06-21 19:40:57 text_classification_dataset:177] subtokens: [CLS] , can not possibly be dangerous to the re ##quisite dependence of the House of Representatives on their constituents . Elections in Ireland , till of late , were regulated entirely by the discretion of the crown , and were seldom repeated , except on the accession of a new prince , or some other contingent event . The parliament which commenced with George II . was continued throughout his whole reign , a period of about thirty - five years . The only dependence of the representatives on the people consisted in the right of the latter to supply occasional v ##aca ##ncies by the election of new members , and in the chance of some event which might produce a general new election . [SEP]\n",
      "[NeMo I 2021-06-21 19:40:57 text_classification_dataset:178] sent_label: 0\n",
      "[NeMo I 2021-06-21 19:40:57 text_classification_dataset:179] input_ids: 101 117 1169 1136 3566 1129 4249 1106 1103 1231 26089 20917 1104 1103 1585 1104 5423 1113 1147 27808 119 15875 1107 2270 117 6174 1104 1523 117 1127 12521 3665 1118 1103 21435 1104 1103 6371 117 1105 1127 17336 4892 117 2589 1113 1103 19727 1104 170 1207 6927 117 1137 1199 1168 17286 1856 119 1109 6254 1134 8042 1114 1667 1563 119 1108 1598 2032 1117 2006 5436 117 170 1669 1104 1164 3961 118 1421 1201 119 1109 1178 20917 1104 1103 6683 1113 1103 1234 4227 1107 1103 1268 1104 1103 2985 1106 3880 7957 191 16604 9885 1118 1103 1728 1104 1207 1484 117 1105 1107 1103 2640 1104 1199 1856 1134 1547 3133 170 1704 1207 1728 119 102\n",
      "[NeMo I 2021-06-21 19:40:57 text_classification_dataset:180] input_mask: 1 1 1 1 1 1 1 1 1 1 1 1 1 1 1 1 1 1 1 1 1 1 1 1 1 1 1 1 1 1 1 1 1 1 1 1 1 1 1 1 1 1 1 1 1 1 1 1 1 1 1 1 1 1 1 1 1 1 1 1 1 1 1 1 1 1 1 1 1 1 1 1 1 1 1 1 1 1 1 1 1 1 1 1 1 1 1 1 1 1 1 1 1 1 1 1 1 1 1 1 1 1 1 1 1 1 1 1 1 1 1 1 1 1 1 1 1 1 1 1 1 1 1 1 1 1 1 1\n",
      "[NeMo I 2021-06-21 19:40:58 actions:695] Evaluating batch 0 out of 7\n",
      "[NeMo I 2021-06-21 19:40:58 actions:695] Evaluating batch 1 out of 7\n",
      "[NeMo I 2021-06-21 19:40:58 actions:695] Evaluating batch 2 out of 7\n",
      "[NeMo I 2021-06-21 19:40:58 actions:695] Evaluating batch 3 out of 7\n",
      "[NeMo I 2021-06-21 19:40:58 actions:695] Evaluating batch 4 out of 7\n",
      "[NeMo I 2021-06-21 19:40:58 actions:695] Evaluating batch 5 out of 7\n",
      "[NeMo I 2021-06-21 19:40:58 actions:695] Evaluating batch 6 out of 7\n",
      "[NeMo I 2021-06-21 19:40:58 text_classification_dataset:82] /dli/task/data/federalist_papers_HM/labeled_test53.tsv: 9\n",
      "[NeMo I 2021-06-21 19:40:58 data_preprocessing:250] Min: 272 |                  Max: 316 |                  Mean: 291.77777777777777 |                  Median: 291.0\n",
      "[NeMo I 2021-06-21 19:40:58 data_preprocessing:252] 75 percentile: 303.0\n",
      "[NeMo I 2021-06-21 19:40:58 data_preprocessing:253] 99 percentile: 315.76\n",
      "[NeMo I 2021-06-21 19:40:58 text_classification_dataset:118] 9 out of 9                         sentences with more than 128 subtokens.\n",
      "[NeMo I 2021-06-21 19:40:58 text_classification_dataset:175] *** Example ***\n",
      "[NeMo I 2021-06-21 19:40:58 text_classification_dataset:176] example_index: 0\n",
      "[NeMo I 2021-06-21 19:40:58 text_classification_dataset:177] subtokens: [CLS] , and the period within which human virtue can bear the temptation ##s of power . Ha ##pp ##ily for mankind , liberty is not , in this respect , confined to any single point of time ; but lies within extreme ##s , which afford sufficient latitude for all the variations which may be required by the various situations and circumstances of civil society . The election of magistrate ##s might be , if it were found ex ##ped ##ient , as in some instances it actually has been , daily , weekly , or monthly , as well as annual ; and if circumstances may require a de ##viation from the rule on one side , why not also on the other side ? [SEP]\n",
      "[NeMo I 2021-06-21 19:40:58 text_classification_dataset:178] sent_label: 0\n",
      "[NeMo I 2021-06-21 19:40:58 text_classification_dataset:179] input_ids: 101 117 1105 1103 1669 1439 1134 1769 13456 1169 4965 1103 23483 1116 1104 1540 119 11679 8661 5264 1111 18442 117 15470 1110 1136 117 1107 1142 4161 117 12597 1106 1251 1423 1553 1104 1159 132 1133 2887 1439 6122 1116 117 1134 8658 6664 18579 1111 1155 1103 9138 1134 1336 1129 2320 1118 1103 1672 7832 1105 5607 1104 2987 2808 119 1109 1728 1104 20261 1116 1547 1129 117 1191 1122 1127 1276 4252 3537 9080 117 1112 1107 1199 12409 1122 2140 1144 1151 117 3828 117 5392 117 1137 7868 117 1112 1218 1112 2683 132 1105 1191 5607 1336 4752 170 1260 27444 1121 1103 3013 1113 1141 1334 117 1725 1136 1145 1113 1103 1168 1334 136 102\n",
      "[NeMo I 2021-06-21 19:40:58 text_classification_dataset:180] input_mask: 1 1 1 1 1 1 1 1 1 1 1 1 1 1 1 1 1 1 1 1 1 1 1 1 1 1 1 1 1 1 1 1 1 1 1 1 1 1 1 1 1 1 1 1 1 1 1 1 1 1 1 1 1 1 1 1 1 1 1 1 1 1 1 1 1 1 1 1 1 1 1 1 1 1 1 1 1 1 1 1 1 1 1 1 1 1 1 1 1 1 1 1 1 1 1 1 1 1 1 1 1 1 1 1 1 1 1 1 1 1 1 1 1 1 1 1 1 1 1 1 1 1 1 1 1 1 1 1\n",
      "[NeMo I 2021-06-21 19:40:58 text_classification_dataset:175] *** Example ***\n",
      "[NeMo I 2021-06-21 19:40:58 text_classification_dataset:176] example_index: 1\n",
      "[NeMo I 2021-06-21 19:40:58 text_classification_dataset:177] subtokens: [CLS] these respects , and by these causes , from the States whose elections are different from both . In searching for the grounds of this doctrine , I can discover but one , and that is wholly in ##ap ##p ##lica ##ble to our case . The important distinction so well understood in America , between a Constitution established by the people and un ##al ##tera ##ble by the government , and a law established by the government and alter ##able by the government , seems to have been little understood and less observed in any other country . Where ##ver the supreme power of legislation has resided , has been supposed to reside also a full power to change the form of the government . [SEP]\n",
      "[NeMo I 2021-06-21 19:40:58 text_classification_dataset:178] sent_label: 0\n",
      "[NeMo I 2021-06-21 19:40:58 text_classification_dataset:179] input_ids: 101 1292 18788 117 1105 1118 1292 4680 117 1121 1103 1311 2133 3212 1132 1472 1121 1241 119 1130 6205 1111 1103 4745 1104 1142 9978 117 146 1169 7290 1133 1141 117 1105 1115 1110 12907 1107 11478 1643 9538 2165 1106 1412 1692 119 1109 1696 7762 1177 1218 4628 1107 1738 117 1206 170 5317 1628 1118 1103 1234 1105 8362 1348 17528 2165 1118 1103 1433 117 1105 170 1644 1628 1118 1103 1433 1105 13000 1895 1118 1103 1433 117 3093 1106 1138 1151 1376 4628 1105 1750 4379 1107 1251 1168 1583 119 2777 4121 1103 14777 1540 1104 5626 1144 12621 117 1144 1151 3155 1106 14487 1145 170 1554 1540 1106 1849 1103 1532 1104 1103 1433 119 102\n",
      "[NeMo I 2021-06-21 19:40:58 text_classification_dataset:180] input_mask: 1 1 1 1 1 1 1 1 1 1 1 1 1 1 1 1 1 1 1 1 1 1 1 1 1 1 1 1 1 1 1 1 1 1 1 1 1 1 1 1 1 1 1 1 1 1 1 1 1 1 1 1 1 1 1 1 1 1 1 1 1 1 1 1 1 1 1 1 1 1 1 1 1 1 1 1 1 1 1 1 1 1 1 1 1 1 1 1 1 1 1 1 1 1 1 1 1 1 1 1 1 1 1 1 1 1 1 1 1 1 1 1 1 1 1 1 1 1 1 1 1 1 1 1 1 1 1 1\n",
      "[NeMo I 2021-06-21 19:40:58 text_classification_dataset:175] *** Example ***\n",
      "[NeMo I 2021-06-21 19:40:58 text_classification_dataset:176] example_index: 2\n",
      "[NeMo I 2021-06-21 19:40:58 text_classification_dataset:177] subtokens: [CLS] of elections is the corner - stone ; and has led them to seek for some security to liberty , against the danger to which it is exposed . Where no Constitution , para ##mount to the government , either existed or could be obtained , no constitutional security , similar to that established in the United States , was to be attempted . Some other security , therefore , was to be sought for ; and what better security would the case admit , than that of selecting and appealing to some simple and familiar portion of time , as a standard for measuring the danger of innovations , for fixing the national sentiment , and for unit ##ing the patriotic ex ##ert ##ions ? [SEP]\n",
      "[NeMo I 2021-06-21 19:40:58 text_classification_dataset:178] sent_label: 0\n",
      "[NeMo I 2021-06-21 19:40:58 text_classification_dataset:179] input_ids: 101 1104 3212 1110 1103 2655 118 2576 132 1105 1144 1521 1172 1106 5622 1111 1199 2699 1106 15470 117 1222 1103 5170 1106 1134 1122 1110 5490 119 2777 1185 5317 117 18311 15364 1106 1103 1433 117 1719 5131 1137 1180 1129 3836 117 1185 7950 2699 117 1861 1106 1115 1628 1107 1103 1244 1311 117 1108 1106 1129 3867 119 1789 1168 2699 117 3335 117 1108 1106 1129 4110 1111 132 1105 1184 1618 2699 1156 1103 1692 5890 117 1190 1115 1104 19752 1105 17117 1106 1199 3014 1105 4509 3849 1104 1159 117 1112 170 2530 1111 10099 1103 5170 1104 18168 117 1111 17509 1103 1569 17024 117 1105 1111 2587 1158 1103 22435 4252 7340 5266 136 102\n",
      "[NeMo I 2021-06-21 19:40:58 text_classification_dataset:180] input_mask: 1 1 1 1 1 1 1 1 1 1 1 1 1 1 1 1 1 1 1 1 1 1 1 1 1 1 1 1 1 1 1 1 1 1 1 1 1 1 1 1 1 1 1 1 1 1 1 1 1 1 1 1 1 1 1 1 1 1 1 1 1 1 1 1 1 1 1 1 1 1 1 1 1 1 1 1 1 1 1 1 1 1 1 1 1 1 1 1 1 1 1 1 1 1 1 1 1 1 1 1 1 1 1 1 1 1 1 1 1 1 1 1 1 1 1 1 1 1 1 1 1 1 1 1 1 1 1 1\n",
      "[NeMo I 2021-06-21 19:40:58 text_classification_dataset:175] *** Example ***\n",
      "[NeMo I 2021-06-21 19:40:58 text_classification_dataset:176] example_index: 3\n",
      "[NeMo I 2021-06-21 19:40:58 text_classification_dataset:177] subtokens: [CLS] , where elections were annual , or even more frequent , but subject to alterations by the ordinary power of the government ? The second question stated is , whether bi ##ennial elections be necessary or useful . The prop ##rie ##ty of answering this question in the a ##ff ##ir ##mat ##ive will appear from several very obvious considerations . No man can be a competent leg ##is ##lator who does not add to an upright intention and a sound judgment a certain degree of knowledge of the subjects on which he is to leg ##is ##late . A part of this knowledge may be acquired by means of information which lie within the compass of men in private as well as public stations . [SEP]\n",
      "[NeMo I 2021-06-21 19:40:58 text_classification_dataset:178] sent_label: 0\n",
      "[NeMo I 2021-06-21 19:40:58 text_classification_dataset:179] input_ids: 101 117 1187 3212 1127 2683 117 1137 1256 1167 6539 117 1133 2548 1106 18651 1118 1103 6655 1540 1104 1103 1433 136 1109 1248 2304 2202 1110 117 2480 16516 16009 3212 1129 3238 1137 5616 119 1109 21146 5997 2340 1104 10937 1142 2304 1107 1103 170 3101 3161 21943 2109 1209 2845 1121 1317 1304 5119 19069 119 1302 1299 1169 1129 170 19555 3420 1548 13389 1150 1674 1136 5194 1106 1126 10170 6247 1105 170 1839 9228 170 2218 2178 1104 3044 1104 1103 5174 1113 1134 1119 1110 1106 3420 1548 8052 119 138 1226 1104 1142 3044 1336 1129 2888 1118 2086 1104 1869 1134 4277 1439 1103 23962 1104 1441 1107 2029 1112 1218 1112 1470 2930 119 102\n",
      "[NeMo I 2021-06-21 19:40:58 text_classification_dataset:180] input_mask: 1 1 1 1 1 1 1 1 1 1 1 1 1 1 1 1 1 1 1 1 1 1 1 1 1 1 1 1 1 1 1 1 1 1 1 1 1 1 1 1 1 1 1 1 1 1 1 1 1 1 1 1 1 1 1 1 1 1 1 1 1 1 1 1 1 1 1 1 1 1 1 1 1 1 1 1 1 1 1 1 1 1 1 1 1 1 1 1 1 1 1 1 1 1 1 1 1 1 1 1 1 1 1 1 1 1 1 1 1 1 1 1 1 1 1 1 1 1 1 1 1 1 1 1 1 1 1 1\n",
      "[NeMo I 2021-06-21 19:40:58 text_classification_dataset:175] *** Example ***\n",
      "[NeMo I 2021-06-21 19:40:58 text_classification_dataset:176] example_index: 4\n",
      "[NeMo I 2021-06-21 19:40:58 text_classification_dataset:177] subtokens: [CLS] general affairs of the State , which lie within a small compass , are not very divers ##ified , and occupy much of the attention and conversation of every class of people . The great theatre of the United States presents a very different scene . The laws are so far from being uniform , that they vary in every State ; whilst the public affairs of the Union are spread throughout a very extensive region , and are extremely divers ##ified by t e local affairs connected with them , and can with difficulty be correctly learnt in any other place than in the central councils to which a knowledge of them will be brought by the representatives of every part of the empire . [SEP]\n",
      "[NeMo I 2021-06-21 19:40:58 text_classification_dataset:178] sent_label: 0\n",
      "[NeMo I 2021-06-21 19:40:58 text_classification_dataset:179] input_ids: 101 1704 5707 1104 1103 1426 117 1134 4277 1439 170 1353 23962 117 1132 1136 1304 22767 6202 117 1105 12774 1277 1104 1103 2209 1105 3771 1104 1451 1705 1104 1234 119 1109 1632 4041 1104 1103 1244 1311 8218 170 1304 1472 2741 119 1109 3892 1132 1177 1677 1121 1217 6029 117 1115 1152 7907 1107 1451 1426 132 5994 1103 1470 5707 1104 1103 1913 1132 2819 2032 170 1304 4154 1805 117 1105 1132 4450 22767 6202 1118 189 174 1469 5707 3387 1114 1172 117 1105 1169 1114 7262 1129 11214 22215 1107 1251 1168 1282 1190 1107 1103 2129 13298 1106 1134 170 3044 1104 1172 1209 1129 1814 1118 1103 6683 1104 1451 1226 1104 1103 8207 119 102\n",
      "[NeMo I 2021-06-21 19:40:58 text_classification_dataset:180] input_mask: 1 1 1 1 1 1 1 1 1 1 1 1 1 1 1 1 1 1 1 1 1 1 1 1 1 1 1 1 1 1 1 1 1 1 1 1 1 1 1 1 1 1 1 1 1 1 1 1 1 1 1 1 1 1 1 1 1 1 1 1 1 1 1 1 1 1 1 1 1 1 1 1 1 1 1 1 1 1 1 1 1 1 1 1 1 1 1 1 1 1 1 1 1 1 1 1 1 1 1 1 1 1 1 1 1 1 1 1 1 1 1 1 1 1 1 1 1 1 1 1 1 1 1 1 1 1 1 1\n",
      "[NeMo I 2021-06-21 19:40:58 actions:695] Evaluating batch 0 out of 9\n",
      "[NeMo I 2021-06-21 19:40:58 actions:695] Evaluating batch 1 out of 9\n",
      "[NeMo I 2021-06-21 19:40:58 actions:695] Evaluating batch 2 out of 9\n",
      "[NeMo I 2021-06-21 19:40:58 actions:695] Evaluating batch 3 out of 9\n",
      "[NeMo I 2021-06-21 19:40:58 actions:695] Evaluating batch 4 out of 9\n",
      "[NeMo I 2021-06-21 19:40:58 actions:695] Evaluating batch 5 out of 9\n",
      "[NeMo I 2021-06-21 19:40:59 actions:695] Evaluating batch 6 out of 9\n",
      "[NeMo I 2021-06-21 19:40:59 actions:695] Evaluating batch 7 out of 9\n",
      "[NeMo I 2021-06-21 19:40:59 actions:695] Evaluating batch 8 out of 9\n",
      "[NeMo I 2021-06-21 19:40:59 text_classification_dataset:82] /dli/task/data/federalist_papers_HM/labeled_test54.tsv: 8\n",
      "[NeMo I 2021-06-21 19:40:59 data_preprocessing:250] Min: 264 |                  Max: 335 |                  Mean: 280.125 |                  Median: 272.0\n",
      "[NeMo I 2021-06-21 19:40:59 data_preprocessing:252] 75 percentile: 281.0\n",
      "[NeMo I 2021-06-21 19:40:59 data_preprocessing:253] 99 percentile: 331.21999999999997\n",
      "[NeMo I 2021-06-21 19:40:59 text_classification_dataset:118] 8 out of 8                         sentences with more than 128 subtokens.\n",
      "[NeMo I 2021-06-21 19:40:59 text_classification_dataset:175] *** Example ***\n",
      "[NeMo I 2021-06-21 19:40:59 text_classification_dataset:176] example_index: 0\n",
      "[NeMo I 2021-06-21 19:40:59 text_classification_dataset:177] subtokens: [CLS] In the former case , the rule is understood to refer to the personal rights of the people , with which it has a natural and universal connection . In the latter , it has reference to the proportion of wealth , of which it is in no case a precise measure , and in ordinary cases a very un ##fit one . But not ##with ##standing the imp ##er ##fect ##ion of the rule as applied to the relative wealth and contributions of the States , it is evidently the least objection ##able among the p ##rac ##tica ##ble rules , and had too recently obtained the general sa ##nc ##tion of America , not to have found a ready preference with the convention . [SEP]\n",
      "[NeMo I 2021-06-21 19:40:59 text_classification_dataset:178] sent_label: 0\n",
      "[NeMo I 2021-06-21 19:40:59 text_classification_dataset:179] input_ids: 101 1130 1103 1393 1692 117 1103 3013 1110 4628 1106 5991 1106 1103 2357 2266 1104 1103 1234 117 1114 1134 1122 1144 170 2379 1105 8462 3797 119 1130 1103 2985 117 1122 1144 3835 1106 1103 10807 1104 6968 117 1104 1134 1122 1110 1107 1185 1692 170 10515 4929 117 1105 1107 6655 2740 170 1304 8362 14067 1141 119 1252 1136 22922 17277 1103 24034 1200 11916 1988 1104 1103 3013 1112 3666 1106 1103 5236 6968 1105 5353 1104 1103 1311 117 1122 1110 20178 1103 1655 26017 1895 1621 1103 185 19366 11761 2165 2995 117 1105 1125 1315 3055 3836 1103 1704 21718 26405 2116 1104 1738 117 1136 1106 1138 1276 170 2407 12629 1114 1103 6765 119 102\n",
      "[NeMo I 2021-06-21 19:40:59 text_classification_dataset:180] input_mask: 1 1 1 1 1 1 1 1 1 1 1 1 1 1 1 1 1 1 1 1 1 1 1 1 1 1 1 1 1 1 1 1 1 1 1 1 1 1 1 1 1 1 1 1 1 1 1 1 1 1 1 1 1 1 1 1 1 1 1 1 1 1 1 1 1 1 1 1 1 1 1 1 1 1 1 1 1 1 1 1 1 1 1 1 1 1 1 1 1 1 1 1 1 1 1 1 1 1 1 1 1 1 1 1 1 1 1 1 1 1 1 1 1 1 1 1 1 1 1 1 1 1 1 1 1 1 1 1\n",
      "[NeMo I 2021-06-21 19:40:59 text_classification_dataset:175] *** Example ***\n",
      "[NeMo I 2021-06-21 19:40:59 text_classification_dataset:176] example_index: 1\n",
      "[NeMo I 2021-06-21 19:40:59 text_classification_dataset:177] subtokens: [CLS] as persons . The true state of the case is , that they part ##ake of both these qualities : being considered by our laws , in some respects , as persons , and in other respects as property . In being compelled to labor , not for himself , but for a master ; in being ve ##ndi ##ble by one master to another master ; and in being subject at all times to be restrained in his liberty and ch ##ast ##ised in his body , by the cap ##ric ##ious will of another , the slave may appear to be de ##graded from the human rank , and class ##ed with those irrational animals which fall under the legal denomination of property . [SEP]\n",
      "[NeMo I 2021-06-21 19:40:59 text_classification_dataset:178] sent_label: 0\n",
      "[NeMo I 2021-06-21 19:40:59 text_classification_dataset:179] input_ids: 101 1112 4983 119 1109 2276 1352 1104 1103 1692 1110 117 1115 1152 1226 9899 1104 1241 1292 11793 131 1217 1737 1118 1412 3892 117 1107 1199 18788 117 1112 4983 117 1105 1107 1168 18788 1112 2400 119 1130 1217 15957 1106 5530 117 1136 1111 1471 117 1133 1111 170 3283 132 1107 1217 1396 12090 2165 1118 1141 3283 1106 1330 3283 132 1105 1107 1217 2548 1120 1155 1551 1106 1129 21775 1107 1117 15470 1105 22572 12788 3673 1107 1117 1404 117 1118 1103 6707 4907 4179 1209 1104 1330 117 1103 6748 1336 2845 1106 1129 1260 18590 1121 1103 1769 3997 117 1105 1705 1174 1114 1343 27447 3551 1134 2303 1223 1103 2732 20493 1104 2400 119 102\n",
      "[NeMo I 2021-06-21 19:40:59 text_classification_dataset:180] input_mask: 1 1 1 1 1 1 1 1 1 1 1 1 1 1 1 1 1 1 1 1 1 1 1 1 1 1 1 1 1 1 1 1 1 1 1 1 1 1 1 1 1 1 1 1 1 1 1 1 1 1 1 1 1 1 1 1 1 1 1 1 1 1 1 1 1 1 1 1 1 1 1 1 1 1 1 1 1 1 1 1 1 1 1 1 1 1 1 1 1 1 1 1 1 1 1 1 1 1 1 1 1 1 1 1 1 1 1 1 1 1 1 1 1 1 1 1 1 1 1 1 1 1 1 1 1 1 1 1\n",
      "[NeMo I 2021-06-21 19:40:59 text_classification_dataset:175] *** Example ***\n",
      "[NeMo I 2021-06-21 19:40:59 text_classification_dataset:176] example_index: 2\n",
      "[NeMo I 2021-06-21 19:40:59 text_classification_dataset:177] subtokens: [CLS] it will not be denied , that these are the proper criterion ; because it is only under the pre ##text that the laws have transformed the ne ##gro ##es into subjects of property , that a place is disputed them in the com ##putation of numbers ; and it is admitted , that if the laws were to restore the rights which have been taken away , the ne ##gro ##es could no longer be refused an equal share of representation with the other inhabitants . ` ` This question may be placed in another light . It is agreed on all sides , that numbers are the best scale of wealth and taxation , as they are the only proper scale of representation . [SEP]\n",
      "[NeMo I 2021-06-21 19:40:59 text_classification_dataset:178] sent_label: 0\n",
      "[NeMo I 2021-06-21 19:40:59 text_classification_dataset:179] input_ids: 101 1122 1209 1136 1129 5762 117 1115 1292 1132 1103 4778 26440 132 1272 1122 1110 1178 1223 1103 3073 17380 1115 1103 3892 1138 8272 1103 24928 21932 1279 1154 5174 1104 2400 117 1115 170 1282 1110 11807 1172 1107 1103 3254 19675 1104 2849 132 1105 1122 1110 4120 117 1115 1191 1103 3892 1127 1106 9176 1103 2266 1134 1138 1151 1678 1283 117 1103 24928 21932 1279 1180 1185 2039 1129 3347 1126 4463 2934 1104 6368 1114 1103 1168 4131 119 169 169 1188 2304 1336 1129 1973 1107 1330 1609 119 1135 1110 2675 1113 1155 3091 117 1115 2849 1132 1103 1436 3418 1104 6968 1105 18446 117 1112 1152 1132 1103 1178 4778 3418 1104 6368 119 102\n",
      "[NeMo I 2021-06-21 19:40:59 text_classification_dataset:180] input_mask: 1 1 1 1 1 1 1 1 1 1 1 1 1 1 1 1 1 1 1 1 1 1 1 1 1 1 1 1 1 1 1 1 1 1 1 1 1 1 1 1 1 1 1 1 1 1 1 1 1 1 1 1 1 1 1 1 1 1 1 1 1 1 1 1 1 1 1 1 1 1 1 1 1 1 1 1 1 1 1 1 1 1 1 1 1 1 1 1 1 1 1 1 1 1 1 1 1 1 1 1 1 1 1 1 1 1 1 1 1 1 1 1 1 1 1 1 1 1 1 1 1 1 1 1 1 1 1 1\n",
      "[NeMo I 2021-06-21 19:40:59 text_classification_dataset:175] *** Example ***\n",
      "[NeMo I 2021-06-21 19:40:59 text_classification_dataset:176] example_index: 3\n",
      "[NeMo I 2021-06-21 19:40:59 text_classification_dataset:177] subtokens: [CLS] themselves con ##tend , that the government to which all the States are to be parties , ought to consider this unfortunate race more completely in the unnatural light of property , than the very laws of which they complain ? ` ` It may be replied , perhaps , that slaves are not included in the estimate of representatives in any of the States possessing them . They neither vote themselves nor increase the votes of their masters . Upon what principle , then , ought they to be taken into the federal estimate of representation ? In rejecting them altogether , the Constitution would , in this respect , have followed the very laws which have been appealed to as the proper guide . [SEP]\n",
      "[NeMo I 2021-06-21 19:40:59 text_classification_dataset:178] sent_label: 0\n",
      "[NeMo I 2021-06-21 19:40:59 text_classification_dataset:179] input_ids: 101 2310 14255 22910 117 1115 1103 1433 1106 1134 1155 1103 1311 1132 1106 1129 3512 117 11454 1106 4615 1142 16702 1886 1167 2423 1107 1103 25126 1609 1104 2400 117 1190 1103 1304 3892 1104 1134 1152 19073 136 169 169 1135 1336 1129 3028 117 3229 117 1115 6864 1132 1136 1529 1107 1103 10301 1104 6683 1107 1251 1104 1103 1311 21171 1172 119 1220 4534 2992 2310 4040 2773 1103 3667 1104 1147 11573 119 4352 1184 6708 117 1173 117 11454 1152 1106 1129 1678 1154 1103 2877 10301 1104 6368 136 1130 25537 1172 11257 117 1103 5317 1156 117 1107 1142 4161 117 1138 1723 1103 1304 3892 1134 1138 1151 12181 1106 1112 1103 4778 6388 119 102\n",
      "[NeMo I 2021-06-21 19:40:59 text_classification_dataset:180] input_mask: 1 1 1 1 1 1 1 1 1 1 1 1 1 1 1 1 1 1 1 1 1 1 1 1 1 1 1 1 1 1 1 1 1 1 1 1 1 1 1 1 1 1 1 1 1 1 1 1 1 1 1 1 1 1 1 1 1 1 1 1 1 1 1 1 1 1 1 1 1 1 1 1 1 1 1 1 1 1 1 1 1 1 1 1 1 1 1 1 1 1 1 1 1 1 1 1 1 1 1 1 1 1 1 1 1 1 1 1 1 1 1 1 1 1 1 1 1 1 1 1 1 1 1 1 1 1 1 1\n",
      "[NeMo I 2021-06-21 19:40:59 text_classification_dataset:175] *** Example ***\n",
      "[NeMo I 2021-06-21 19:40:59 text_classification_dataset:176] example_index: 4\n",
      "[NeMo I 2021-06-21 19:40:59 text_classification_dataset:177] subtokens: [CLS] by which the federal Constitution app ##ort ##ions the representatives . In this point of view the Southern States might re ##tor ##t the complaint , by insisting that the principle laid down by the convention required that no regard should be had to the policy of particular States towards their own inhabitants ; and consequently , that the slaves , as inhabitants , should have been admitted into the census according to their full number , in like manner with other inhabitants , who , by the policy of other States , are not admitted to all the rights of citizens . A rigorous ad ##herence , however , to this principle , is waived by those who would be gain ##ers by it . [SEP]\n",
      "[NeMo I 2021-06-21 19:40:59 text_classification_dataset:178] sent_label: 0\n",
      "[NeMo I 2021-06-21 19:40:59 text_classification_dataset:179] input_ids: 101 1118 1134 1103 2877 5317 12647 12148 5266 1103 6683 119 1130 1142 1553 1104 2458 1103 2685 1311 1547 1231 2772 1204 1103 12522 117 1118 25504 1115 1103 6708 3390 1205 1118 1103 6765 2320 1115 1185 7328 1431 1129 1125 1106 1103 2818 1104 2440 1311 2019 1147 1319 4131 132 1105 14007 117 1115 1103 6864 117 1112 4131 117 1431 1138 1151 4120 1154 1103 2314 2452 1106 1147 1554 1295 117 1107 1176 4758 1114 1168 4131 117 1150 117 1118 1103 2818 1104 1168 1311 117 1132 1136 4120 1106 1155 1103 2266 1104 4037 119 138 22112 8050 21634 117 1649 117 1106 1142 6708 117 1110 17548 1118 1343 1150 1156 1129 4361 1468 1118 1122 119 102\n",
      "[NeMo I 2021-06-21 19:40:59 text_classification_dataset:180] input_mask: 1 1 1 1 1 1 1 1 1 1 1 1 1 1 1 1 1 1 1 1 1 1 1 1 1 1 1 1 1 1 1 1 1 1 1 1 1 1 1 1 1 1 1 1 1 1 1 1 1 1 1 1 1 1 1 1 1 1 1 1 1 1 1 1 1 1 1 1 1 1 1 1 1 1 1 1 1 1 1 1 1 1 1 1 1 1 1 1 1 1 1 1 1 1 1 1 1 1 1 1 1 1 1 1 1 1 1 1 1 1 1 1 1 1 1 1 1 1 1 1 1 1 1 1 1 1 1 1\n",
      "[NeMo I 2021-06-21 19:40:59 actions:695] Evaluating batch 0 out of 8\n",
      "[NeMo I 2021-06-21 19:40:59 actions:695] Evaluating batch 1 out of 8\n",
      "[NeMo I 2021-06-21 19:40:59 actions:695] Evaluating batch 2 out of 8\n",
      "[NeMo I 2021-06-21 19:40:59 actions:695] Evaluating batch 3 out of 8\n",
      "[NeMo I 2021-06-21 19:40:59 actions:695] Evaluating batch 4 out of 8\n",
      "[NeMo I 2021-06-21 19:40:59 actions:695] Evaluating batch 5 out of 8\n",
      "[NeMo I 2021-06-21 19:40:59 actions:695] Evaluating batch 6 out of 8\n",
      "[NeMo I 2021-06-21 19:40:59 actions:695] Evaluating batch 7 out of 8\n",
      "[NeMo I 2021-06-21 19:40:59 text_classification_dataset:82] /dli/task/data/federalist_papers_HM/labeled_test55.tsv: 8\n",
      "[NeMo I 2021-06-21 19:40:59 data_preprocessing:250] Min: 279 |                  Max: 333 |                  Mean: 300.625 |                  Median: 291.0\n",
      "[NeMo I 2021-06-21 19:40:59 data_preprocessing:252] 75 percentile: 323.25\n",
      "[NeMo I 2021-06-21 19:40:59 data_preprocessing:253] 99 percentile: 332.58\n",
      "[NeMo I 2021-06-21 19:40:59 text_classification_dataset:118] 8 out of 8                         sentences with more than 128 subtokens.\n",
      "[NeMo I 2021-06-21 19:40:59 text_classification_dataset:175] *** Example ***\n",
      "[NeMo I 2021-06-21 19:40:59 text_classification_dataset:176] example_index: 0\n",
      "[NeMo I 2021-06-21 19:40:59 text_classification_dataset:177] subtokens: [CLS] , that defect ##ive as the number will be in the first instance , it will be more and more di ##sp ##rop ##ort ##ion ##ate , by the increase of the people , and the obstacles which will prevent a correspondent increase of the representatives . In general it may be remarked on this subject , that no political problem is less susceptible of a precise solution than that which relates to the number most convenient for a representative legislature ; nor is there any point on which the policy of the several States is more at variance , whether we compare their legislative assemblies directly with each other , or consider the proportions which they respectively bear to the number of their constituents . [SEP]\n",
      "[NeMo I 2021-06-21 19:40:59 text_classification_dataset:178] sent_label: 0\n",
      "[NeMo I 2021-06-21 19:40:59 text_classification_dataset:179] input_ids: 101 117 1115 23912 2109 1112 1103 1295 1209 1129 1107 1103 1148 5374 117 1122 1209 1129 1167 1105 1167 4267 20080 12736 12148 1988 2193 117 1118 1103 2773 1104 1103 1234 117 1105 1103 16503 1134 1209 3843 170 12499 2773 1104 1103 6683 119 1130 1704 1122 1336 1129 10694 1113 1142 2548 117 1115 1185 1741 2463 1110 1750 19464 1104 170 10515 5072 1190 1115 1134 15286 1106 1103 1295 1211 14785 1111 170 4702 8312 132 4040 1110 1175 1251 1553 1113 1134 1103 2818 1104 1103 1317 1311 1110 1167 1120 26717 117 2480 1195 14133 1147 7663 24798 2626 1114 1296 1168 117 1137 4615 1103 21136 1134 1152 3569 4965 1106 1103 1295 1104 1147 27808 119 102\n",
      "[NeMo I 2021-06-21 19:40:59 text_classification_dataset:180] input_mask: 1 1 1 1 1 1 1 1 1 1 1 1 1 1 1 1 1 1 1 1 1 1 1 1 1 1 1 1 1 1 1 1 1 1 1 1 1 1 1 1 1 1 1 1 1 1 1 1 1 1 1 1 1 1 1 1 1 1 1 1 1 1 1 1 1 1 1 1 1 1 1 1 1 1 1 1 1 1 1 1 1 1 1 1 1 1 1 1 1 1 1 1 1 1 1 1 1 1 1 1 1 1 1 1 1 1 1 1 1 1 1 1 1 1 1 1 1 1 1 1 1 1 1 1 1 1 1 1\n",
      "[NeMo I 2021-06-21 19:40:59 text_classification_dataset:175] *** Example ***\n",
      "[NeMo I 2021-06-21 19:40:59 text_classification_dataset:176] example_index: 1\n",
      "[NeMo I 2021-06-21 19:40:59 text_classification_dataset:177] subtokens: [CLS] they bear a proportion of at least one for every thousand . And according to the constitution of Georgia , the proportion may be carried to one to every ten electors ; and must un ##av ##oid ##ably far exceed the proportion in any of the other States . Another general remark to be made is , that the ratio between the representatives and the people ought not to be the same where the latter are very numerous as where they are very few . Were the representatives in Virginia to be regulated by the standard in Rhode Island , they would , at this time , amount to between four and five hundred ; and twenty or thirty years hence , to a thousand . [SEP]\n",
      "[NeMo I 2021-06-21 19:40:59 text_classification_dataset:178] sent_label: 0\n",
      "[NeMo I 2021-06-21 19:40:59 text_classification_dataset:179] input_ids: 101 1152 4965 170 10807 1104 1120 1655 1141 1111 1451 4032 119 1262 2452 1106 1103 7119 1104 3260 117 1103 10807 1336 1129 2446 1106 1141 1106 1451 1995 23241 132 1105 1538 8362 23140 7874 5382 1677 13908 1103 10807 1107 1251 1104 1103 1168 1311 119 2543 1704 19422 1106 1129 1189 1110 117 1115 1103 6022 1206 1103 6683 1105 1103 1234 11454 1136 1106 1129 1103 1269 1187 1103 2985 1132 1304 2567 1112 1187 1152 1132 1304 1374 119 8640 1103 6683 1107 2550 1106 1129 12521 1118 1103 2530 1107 9502 2054 117 1152 1156 117 1120 1142 1159 117 2971 1106 1206 1300 1105 1421 2937 132 1105 2570 1137 3961 1201 7544 117 1106 170 4032 119 102\n",
      "[NeMo I 2021-06-21 19:40:59 text_classification_dataset:180] input_mask: 1 1 1 1 1 1 1 1 1 1 1 1 1 1 1 1 1 1 1 1 1 1 1 1 1 1 1 1 1 1 1 1 1 1 1 1 1 1 1 1 1 1 1 1 1 1 1 1 1 1 1 1 1 1 1 1 1 1 1 1 1 1 1 1 1 1 1 1 1 1 1 1 1 1 1 1 1 1 1 1 1 1 1 1 1 1 1 1 1 1 1 1 1 1 1 1 1 1 1 1 1 1 1 1 1 1 1 1 1 1 1 1 1 1 1 1 1 1 1 1 1 1 1 1 1 1 1 1\n",
      "[NeMo I 2021-06-21 19:40:59 text_classification_dataset:175] *** Example ***\n",
      "[NeMo I 2021-06-21 19:40:59 text_classification_dataset:176] example_index: 2\n",
      "[NeMo I 2021-06-21 19:40:59 text_classification_dataset:177] subtokens: [CLS] , passion never fails to w ##rest the s ##ce ##pt ##re from reason . Had every At ##henian citizen been a So ##crates , every At ##henian assembly would still have been a mob . It is necessary also to re ##co ##lle ##ct here the observations which were applied to the case of bi ##ennial elections . For the same reason that the limited powers of the Congress , and the control of the State legislature ##s , justify less frequent elections than the public safely might otherwise require , the members of the Congress need be less numerous than if they possessed the whole power of legislation , and were under no other than the ordinary restraint ##s of other legislative bodies . [SEP]\n",
      "[NeMo I 2021-06-21 19:40:59 text_classification_dataset:178] sent_label: 0\n",
      "[NeMo I 2021-06-21 19:40:59 text_classification_dataset:179] input_ids: 101 117 7615 1309 12169 1106 192 14201 1103 188 2093 6451 1874 1121 2255 119 6467 1451 1335 27185 7888 1151 170 1573 24460 117 1451 1335 27185 5839 1156 1253 1138 1151 170 13221 119 1135 1110 3238 1145 1106 1231 2528 4838 5822 1303 1103 9959 1134 1127 3666 1106 1103 1692 1104 16516 16009 3212 119 1370 1103 1269 2255 1115 1103 2609 3758 1104 1103 2757 117 1105 1103 1654 1104 1103 1426 8312 1116 117 17422 1750 6539 3212 1190 1103 1470 9510 1547 4303 4752 117 1103 1484 1104 1103 2757 1444 1129 1750 2567 1190 1191 1152 8471 1103 2006 1540 1104 5626 117 1105 1127 1223 1185 1168 1190 1103 6655 21769 1116 1104 1168 7663 3470 119 102\n",
      "[NeMo I 2021-06-21 19:40:59 text_classification_dataset:180] input_mask: 1 1 1 1 1 1 1 1 1 1 1 1 1 1 1 1 1 1 1 1 1 1 1 1 1 1 1 1 1 1 1 1 1 1 1 1 1 1 1 1 1 1 1 1 1 1 1 1 1 1 1 1 1 1 1 1 1 1 1 1 1 1 1 1 1 1 1 1 1 1 1 1 1 1 1 1 1 1 1 1 1 1 1 1 1 1 1 1 1 1 1 1 1 1 1 1 1 1 1 1 1 1 1 1 1 1 1 1 1 1 1 1 1 1 1 1 1 1 1 1 1 1 1 1 1 1 1 1\n",
      "[NeMo I 2021-06-21 19:40:59 text_classification_dataset:175] *** Example ***\n",
      "[NeMo I 2021-06-21 19:40:59 text_classification_dataset:176] example_index: 3\n",
      "[NeMo I 2021-06-21 19:40:59 text_classification_dataset:177] subtokens: [CLS] rate of one for every thirty thousand , raise the number of representatives to at least one hundred . E ##st ##imating the ne ##gro ##es in the proportion of three fifth ##s , it can scarcely be doubted that the population of the United States will by that time , if it does not already , amount to three millions . At the ex ##piration of twenty - five years , according to the com ##puted rate of increase , the number of representatives will amount to two hundred , and of fifty years , to four hundred . This is a number which , I pre ##sume , will put an end to all fears arising from the small ##ness of the body . [SEP]\n",
      "[NeMo I 2021-06-21 19:40:59 text_classification_dataset:178] sent_label: 0\n",
      "[NeMo I 2021-06-21 19:40:59 text_classification_dataset:179] input_ids: 101 2603 1104 1141 1111 1451 3961 4032 117 4693 1103 1295 1104 6683 1106 1120 1655 1141 2937 119 142 2050 27182 1103 24928 21932 1279 1107 1103 10807 1104 1210 3049 1116 117 1122 1169 22464 1129 13216 1115 1103 1416 1104 1103 1244 1311 1209 1118 1115 1159 117 1191 1122 1674 1136 1640 117 2971 1106 1210 9215 119 1335 1103 4252 22631 1104 2570 118 1421 1201 117 2452 1106 1103 3254 18505 2603 1104 2773 117 1103 1295 1104 6683 1209 2971 1106 1160 2937 117 1105 1104 5547 1201 117 1106 1300 2937 119 1188 1110 170 1295 1134 117 146 3073 22369 117 1209 1508 1126 1322 1106 1155 10434 19528 1121 1103 1353 1757 1104 1103 1404 119 102\n",
      "[NeMo I 2021-06-21 19:40:59 text_classification_dataset:180] input_mask: 1 1 1 1 1 1 1 1 1 1 1 1 1 1 1 1 1 1 1 1 1 1 1 1 1 1 1 1 1 1 1 1 1 1 1 1 1 1 1 1 1 1 1 1 1 1 1 1 1 1 1 1 1 1 1 1 1 1 1 1 1 1 1 1 1 1 1 1 1 1 1 1 1 1 1 1 1 1 1 1 1 1 1 1 1 1 1 1 1 1 1 1 1 1 1 1 1 1 1 1 1 1 1 1 1 1 1 1 1 1 1 1 1 1 1 1 1 1 1 1 1 1 1 1 1 1 1 1\n",
      "[NeMo I 2021-06-21 19:40:59 text_classification_dataset:175] *** Example ***\n",
      "[NeMo I 2021-06-21 19:40:59 text_classification_dataset:176] example_index: 4\n",
      "[NeMo I 2021-06-21 19:40:59 text_classification_dataset:177] subtokens: [CLS] class of citizens I am unable to con ##ceive that the people of America , in their present temper , or under any circumstances which can speed ##ily happen , will choose , and every second year repeat the choice of , sixty - five or a hundred men who would be disposed to form and pursue a scheme of t ##yra ##nny or t ##rea ##cher ##y . I am unable to con ##ceive that the State legislature ##s , which must feel so many motives to watch , and which possess so many means of counter ##act ##ing , the federal legislature , would fail either to detect or to defeat a conspiracy of the latter against the liberties of their common constituents . [SEP]\n",
      "[NeMo I 2021-06-21 19:40:59 text_classification_dataset:178] sent_label: 0\n",
      "[NeMo I 2021-06-21 19:40:59 text_classification_dataset:179] input_ids: 101 1705 1104 4037 146 1821 3372 1106 14255 23566 1115 1103 1234 1104 1738 117 1107 1147 1675 12653 117 1137 1223 1251 5607 1134 1169 2420 5264 3333 117 1209 4835 117 1105 1451 1248 1214 9488 1103 3026 1104 117 9229 118 1421 1137 170 2937 1441 1150 1156 1129 24303 1106 1532 1105 6799 170 5471 1104 189 20153 15863 1137 189 11811 6072 1183 119 146 1821 3372 1106 14255 23566 1115 1103 1426 8312 1116 117 1134 1538 1631 1177 1242 18686 1106 2824 117 1105 1134 10192 1177 1242 2086 1104 4073 11179 1158 117 1103 2877 8312 117 1156 8693 1719 1106 11552 1137 1106 3326 170 10758 1104 1103 2985 1222 1103 27930 1104 1147 1887 27808 119 102\n",
      "[NeMo I 2021-06-21 19:40:59 text_classification_dataset:180] input_mask: 1 1 1 1 1 1 1 1 1 1 1 1 1 1 1 1 1 1 1 1 1 1 1 1 1 1 1 1 1 1 1 1 1 1 1 1 1 1 1 1 1 1 1 1 1 1 1 1 1 1 1 1 1 1 1 1 1 1 1 1 1 1 1 1 1 1 1 1 1 1 1 1 1 1 1 1 1 1 1 1 1 1 1 1 1 1 1 1 1 1 1 1 1 1 1 1 1 1 1 1 1 1 1 1 1 1 1 1 1 1 1 1 1 1 1 1 1 1 1 1 1 1 1 1 1 1 1 1\n",
      "[NeMo I 2021-06-21 19:41:00 actions:695] Evaluating batch 0 out of 8\n",
      "[NeMo I 2021-06-21 19:41:00 actions:695] Evaluating batch 1 out of 8\n",
      "[NeMo I 2021-06-21 19:41:00 actions:695] Evaluating batch 2 out of 8\n",
      "[NeMo I 2021-06-21 19:41:00 actions:695] Evaluating batch 3 out of 8\n",
      "[NeMo I 2021-06-21 19:41:00 actions:695] Evaluating batch 4 out of 8\n",
      "[NeMo I 2021-06-21 19:41:00 actions:695] Evaluating batch 5 out of 8\n",
      "[NeMo I 2021-06-21 19:41:00 actions:695] Evaluating batch 6 out of 8\n",
      "[NeMo I 2021-06-21 19:41:00 actions:695] Evaluating batch 7 out of 8\n",
      "[NeMo I 2021-06-21 19:41:00 text_classification_dataset:82] /dli/task/data/federalist_papers_HM/labeled_test56.tsv: 6\n",
      "[NeMo I 2021-06-21 19:41:00 data_preprocessing:250] Min: 264 |                  Max: 333 |                  Mean: 291.6666666666667 |                  Median: 288.5\n",
      "[NeMo I 2021-06-21 19:41:00 data_preprocessing:252] 75 percentile: 301.5\n",
      "[NeMo I 2021-06-21 19:41:00 data_preprocessing:253] 99 percentile: 331.55\n",
      "[NeMo I 2021-06-21 19:41:00 text_classification_dataset:118] 6 out of 6                         sentences with more than 128 subtokens.\n",
      "[NeMo I 2021-06-21 19:41:00 text_classification_dataset:175] *** Example ***\n",
      "[NeMo I 2021-06-21 19:41:00 text_classification_dataset:176] example_index: 0\n",
      "[NeMo I 2021-06-21 19:41:00 text_classification_dataset:177] subtokens: [CLS] will be a brief explanation of these peculiar ##ities . It is a sound and important principle that the representative ought to be acquainted with the interests and circumstances of his constituents . But this principle can extend no further than to those circumstances and interests to which the authority and care of the representative relate . An ignorance of a variety of minute and particular objects , which do not lie within the compass of legislation , is consistent with every attribute necessary to a due performance of the legislative trust . In determining the extent of information required in the exercise of a particular authority , re ##course then must be had to the objects within the pu ##r ##view of that authority . [SEP]\n",
      "[NeMo I 2021-06-21 19:41:00 text_classification_dataset:178] sent_label: 0\n",
      "[NeMo I 2021-06-21 19:41:00 text_classification_dataset:179] input_ids: 101 1209 1129 170 4094 7108 1104 1292 15404 4233 119 1135 1110 170 1839 1105 1696 6708 1115 1103 4702 11454 1106 1129 20869 1114 1103 4740 1105 5607 1104 1117 27808 119 1252 1142 6708 1169 7532 1185 1748 1190 1106 1343 5607 1105 4740 1106 1134 1103 3748 1105 1920 1104 1103 4702 15123 119 1760 21326 1104 170 2783 1104 2517 1105 2440 4546 117 1134 1202 1136 4277 1439 1103 23962 1104 5626 117 1110 8080 1114 1451 19795 3238 1106 170 1496 2099 1104 1103 7663 3496 119 1130 13170 1103 6102 1104 1869 2320 1107 1103 6730 1104 170 2440 3748 117 1231 16461 1173 1538 1129 1125 1106 1103 4546 1439 1103 23609 1197 7334 1104 1115 3748 119 102\n",
      "[NeMo I 2021-06-21 19:41:00 text_classification_dataset:180] input_mask: 1 1 1 1 1 1 1 1 1 1 1 1 1 1 1 1 1 1 1 1 1 1 1 1 1 1 1 1 1 1 1 1 1 1 1 1 1 1 1 1 1 1 1 1 1 1 1 1 1 1 1 1 1 1 1 1 1 1 1 1 1 1 1 1 1 1 1 1 1 1 1 1 1 1 1 1 1 1 1 1 1 1 1 1 1 1 1 1 1 1 1 1 1 1 1 1 1 1 1 1 1 1 1 1 1 1 1 1 1 1 1 1 1 1 1 1 1 1 1 1 1 1 1 1 1 1 1 1\n",
      "[NeMo I 2021-06-21 19:41:00 text_classification_dataset:175] *** Example ***\n",
      "[NeMo I 2021-06-21 19:41:00 text_classification_dataset:176] example_index: 1\n",
      "[NeMo I 2021-06-21 19:41:00 text_classification_dataset:177] subtokens: [CLS] the State ? Di ##vide the largest State into ten or twelve districts , and it will be found that there will be no peculiar local interests in either , which will not be within the knowledge of the representative of the district . Besides this source of information , the laws of the State , framed by representatives from every part of it , will be almost of themselves a sufficient guide . In every State there have been made , and must continue to be made , regulations on this subject which will , in many cases , leave little more to be done by the federal legislature , than to review the different laws , and reduce them in one general act . [SEP]\n",
      "[NeMo I 2021-06-21 19:41:00 text_classification_dataset:178] sent_label: 0\n",
      "[NeMo I 2021-06-21 19:41:00 text_classification_dataset:179] input_ids: 101 1103 1426 136 12120 22650 1103 2026 1426 1154 1995 1137 4030 4210 117 1105 1122 1209 1129 1276 1115 1175 1209 1129 1185 15404 1469 4740 1107 1719 117 1134 1209 1136 1129 1439 1103 3044 1104 1103 4702 1104 1103 1629 119 4981 1142 2674 1104 1869 117 1103 3892 1104 1103 1426 117 10577 1118 6683 1121 1451 1226 1104 1122 117 1209 1129 1593 1104 2310 170 6664 6388 119 1130 1451 1426 1175 1138 1151 1189 117 1105 1538 2760 1106 1129 1189 117 7225 1113 1142 2548 1134 1209 117 1107 1242 2740 117 1817 1376 1167 1106 1129 1694 1118 1103 2877 8312 117 1190 1106 3189 1103 1472 3892 117 1105 4851 1172 1107 1141 1704 2496 119 102\n",
      "[NeMo I 2021-06-21 19:41:00 text_classification_dataset:180] input_mask: 1 1 1 1 1 1 1 1 1 1 1 1 1 1 1 1 1 1 1 1 1 1 1 1 1 1 1 1 1 1 1 1 1 1 1 1 1 1 1 1 1 1 1 1 1 1 1 1 1 1 1 1 1 1 1 1 1 1 1 1 1 1 1 1 1 1 1 1 1 1 1 1 1 1 1 1 1 1 1 1 1 1 1 1 1 1 1 1 1 1 1 1 1 1 1 1 1 1 1 1 1 1 1 1 1 1 1 1 1 1 1 1 1 1 1 1 1 1 1 1 1 1 1 1 1 1 1 1\n",
      "[NeMo I 2021-06-21 19:41:00 text_classification_dataset:175] *** Example ***\n",
      "[NeMo I 2021-06-21 19:41:00 text_classification_dataset:176] example_index: 2\n",
      "[NeMo I 2021-06-21 19:41:00 text_classification_dataset:177] subtokens: [CLS] would very much short ##en the labor ##s of the general legislature , and render a much smaller number of members sufficient for it ? The federal councils will derive great advantage from another c ##ir ##cum ##stance . The representatives of each State will not only bring with them a considerable knowledge of its laws , and a local knowledge of their respective districts , but will probably in all cases have been members , and may even at the very time be members , of the State legislature , where all the local information and interests of the State are assembled , and from when ##ce they may easily be conveyed by a very few hands into the legislature of the United States . [SEP]\n",
      "[NeMo I 2021-06-21 19:41:00 text_classification_dataset:178] sent_label: 0\n",
      "[NeMo I 2021-06-21 19:41:00 text_classification_dataset:179] input_ids: 101 1156 1304 1277 1603 1424 1103 5530 1116 1104 1103 1704 8312 117 1105 19566 170 1277 2964 1295 1104 1484 6664 1111 1122 136 1109 2877 13298 1209 20292 1632 4316 1121 1330 172 3161 19172 21579 119 1109 6683 1104 1296 1426 1209 1136 1178 2498 1114 1172 170 5602 3044 1104 1157 3892 117 1105 170 1469 3044 1104 1147 7514 4210 117 1133 1209 1930 1107 1155 2740 1138 1151 1484 117 1105 1336 1256 1120 1103 1304 1159 1129 1484 117 1104 1103 1426 8312 117 1187 1155 1103 1469 1869 1105 4740 1104 1103 1426 1132 8968 117 1105 1121 1165 2093 1152 1336 3253 1129 23777 1118 170 1304 1374 1493 1154 1103 8312 1104 1103 1244 1311 119 102\n",
      "[NeMo I 2021-06-21 19:41:00 text_classification_dataset:180] input_mask: 1 1 1 1 1 1 1 1 1 1 1 1 1 1 1 1 1 1 1 1 1 1 1 1 1 1 1 1 1 1 1 1 1 1 1 1 1 1 1 1 1 1 1 1 1 1 1 1 1 1 1 1 1 1 1 1 1 1 1 1 1 1 1 1 1 1 1 1 1 1 1 1 1 1 1 1 1 1 1 1 1 1 1 1 1 1 1 1 1 1 1 1 1 1 1 1 1 1 1 1 1 1 1 1 1 1 1 1 1 1 1 1 1 1 1 1 1 1 1 1 1 1 1 1 1 1 1 1\n",
      "[NeMo I 2021-06-21 19:41:00 text_classification_dataset:175] *** Example ***\n",
      "[NeMo I 2021-06-21 19:41:00 text_classification_dataset:176] example_index: 3\n",
      "[NeMo I 2021-06-21 19:41:00 text_classification_dataset:177] subtokens: [CLS] its interests but little divers ##ified . A few men , therefore , will possess all the knowledge re ##quisite for a proper representation of them . Were the interests and affairs of each individual State perfectly simple and uniform , a knowledge of them in one part would involve a knowledge of them in every other , and the whole State might be competent ##ly represented by a single member taken from any part of it . On a comparison of the different States together , we find a great di ##ssi ##mi ##lar ##ity in their laws , and in many other circumstances connected with the objects of federal legislation , with all of which the federal representatives ought to have some acquaintance . [SEP]\n",
      "[NeMo I 2021-06-21 19:41:00 text_classification_dataset:178] sent_label: 0\n",
      "[NeMo I 2021-06-21 19:41:00 text_classification_dataset:179] input_ids: 101 1157 4740 1133 1376 22767 6202 119 138 1374 1441 117 3335 117 1209 10192 1155 1103 3044 1231 26089 1111 170 4778 6368 1104 1172 119 8640 1103 4740 1105 5707 1104 1296 2510 1426 6150 3014 1105 6029 117 170 3044 1104 1172 1107 1141 1226 1156 8803 170 3044 1104 1172 1107 1451 1168 117 1105 1103 2006 1426 1547 1129 19555 1193 2533 1118 170 1423 1420 1678 1121 1251 1226 1104 1122 119 1212 170 7577 1104 1103 1472 1311 1487 117 1195 1525 170 1632 4267 19828 3080 5815 1785 1107 1147 3892 117 1105 1107 1242 1168 5607 3387 1114 1103 4546 1104 2877 5626 117 1114 1155 1104 1134 1103 2877 6683 11454 1106 1138 1199 20125 119 102\n",
      "[NeMo I 2021-06-21 19:41:00 text_classification_dataset:180] input_mask: 1 1 1 1 1 1 1 1 1 1 1 1 1 1 1 1 1 1 1 1 1 1 1 1 1 1 1 1 1 1 1 1 1 1 1 1 1 1 1 1 1 1 1 1 1 1 1 1 1 1 1 1 1 1 1 1 1 1 1 1 1 1 1 1 1 1 1 1 1 1 1 1 1 1 1 1 1 1 1 1 1 1 1 1 1 1 1 1 1 1 1 1 1 1 1 1 1 1 1 1 1 1 1 1 1 1 1 1 1 1 1 1 1 1 1 1 1 1 1 1 1 1 1 1 1 1 1 1\n",
      "[NeMo I 2021-06-21 19:41:00 text_classification_dataset:175] *** Example ***\n",
      "[NeMo I 2021-06-21 19:41:00 text_classification_dataset:176] example_index: 4\n",
      "[NeMo I 2021-06-21 19:41:00 text_classification_dataset:177] subtokens: [CLS] population , and will require , on the part of each State , a full ##er representation . The fore ##sight of the convention has accordingly taken care that the progress of population may be accompanied with a proper increase of the representative branch of the government . The experience of Great Britain , which presents to mankind so many political lessons , both of the monitor ##y and ex ##em ##p ##lary kind , and which has been frequently consulted in the course of these in ##quiries , co ##rro ##bor ##ates the result of the reflections which we have just made . The number of inhabitants in the two kingdoms of England and Scotland can not be stated at less than eight millions . [SEP]\n",
      "[NeMo I 2021-06-21 19:41:00 text_classification_dataset:178] sent_label: 0\n",
      "[NeMo I 2021-06-21 19:41:00 text_classification_dataset:179] input_ids: 101 1416 117 1105 1209 4752 117 1113 1103 1226 1104 1296 1426 117 170 1554 1200 6368 119 1109 24387 18883 1104 1103 6765 1144 17472 1678 1920 1115 1103 5070 1104 1416 1336 1129 4977 1114 170 4778 2773 1104 1103 4702 3392 1104 1103 1433 119 1109 2541 1104 2038 2855 117 1134 8218 1106 18442 1177 1242 1741 8497 117 1241 1104 1103 8804 1183 1105 4252 5521 1643 18480 1912 117 1105 1134 1144 1151 3933 18881 1107 1103 1736 1104 1292 1107 24929 117 1884 13656 12207 5430 1103 1871 1104 1103 26906 1134 1195 1138 1198 1189 119 1109 1295 1104 4131 1107 1103 1160 16685 1104 1652 1105 3030 1169 1136 1129 2202 1120 1750 1190 2022 9215 119 102\n",
      "[NeMo I 2021-06-21 19:41:00 text_classification_dataset:180] input_mask: 1 1 1 1 1 1 1 1 1 1 1 1 1 1 1 1 1 1 1 1 1 1 1 1 1 1 1 1 1 1 1 1 1 1 1 1 1 1 1 1 1 1 1 1 1 1 1 1 1 1 1 1 1 1 1 1 1 1 1 1 1 1 1 1 1 1 1 1 1 1 1 1 1 1 1 1 1 1 1 1 1 1 1 1 1 1 1 1 1 1 1 1 1 1 1 1 1 1 1 1 1 1 1 1 1 1 1 1 1 1 1 1 1 1 1 1 1 1 1 1 1 1 1 1 1 1 1 1\n",
      "[NeMo I 2021-06-21 19:41:00 actions:695] Evaluating batch 0 out of 6\n",
      "[NeMo I 2021-06-21 19:41:00 actions:695] Evaluating batch 1 out of 6\n",
      "[NeMo I 2021-06-21 19:41:00 actions:695] Evaluating batch 2 out of 6\n",
      "[NeMo I 2021-06-21 19:41:00 actions:695] Evaluating batch 3 out of 6\n",
      "[NeMo I 2021-06-21 19:41:00 actions:695] Evaluating batch 4 out of 6\n",
      "[NeMo I 2021-06-21 19:41:01 actions:695] Evaluating batch 5 out of 6\n",
      "[NeMo I 2021-06-21 19:41:01 text_classification_dataset:82] /dli/task/data/federalist_papers_HM/labeled_test57.tsv: 9\n",
      "[NeMo I 2021-06-21 19:41:01 data_preprocessing:250] Min: 273 |                  Max: 324 |                  Mean: 299.0 |                  Median: 296.0\n",
      "[NeMo I 2021-06-21 19:41:01 data_preprocessing:252] 75 percentile: 313.0\n",
      "[NeMo I 2021-06-21 19:41:01 data_preprocessing:253] 99 percentile: 323.84000000000003\n",
      "[NeMo I 2021-06-21 19:41:01 text_classification_dataset:118] 9 out of 9                         sentences with more than 128 subtokens.\n",
      "[NeMo I 2021-06-21 19:41:01 text_classification_dataset:175] *** Example ***\n",
      "[NeMo I 2021-06-21 19:41:01 text_classification_dataset:176] example_index: 0\n",
      "[NeMo I 2021-06-21 19:41:01 text_classification_dataset:177] subtokens: [CLS] constitution is , or ought to be , first to obtain for rulers men who possess most wisdom to disc ##ern , and most virtue to pursue , the common good of the society ; and in the next place , to take the most effect ##ual pre ##ca ##ution ##s for keeping them v ##irt ##uous whilst they continue to hold their public trust . The elect ##ive mode of obtaining rulers is the characteristic policy of republican government . The means relied on in this form of government for preventing their de ##gene ##racy are numerous and various . The most effect ##ual one , is such a limitation of the term of appointments as will maintain a proper responsibility to the people . [SEP]\n",
      "[NeMo I 2021-06-21 19:41:01 text_classification_dataset:178] sent_label: 0\n",
      "[NeMo I 2021-06-21 19:41:01 text_classification_dataset:179] input_ids: 101 7119 1110 117 1137 11454 1106 1129 117 1148 1106 6268 1111 11507 1441 1150 10192 1211 12304 1106 6187 10449 117 1105 1211 13456 1106 6799 117 1103 1887 1363 1104 1103 2808 132 1105 1107 1103 1397 1282 117 1106 1321 1103 1211 2629 4746 3073 2599 12964 1116 1111 3709 1172 191 25074 8163 5994 1152 2760 1106 2080 1147 1470 3496 119 1109 11797 2109 5418 1104 11621 11507 1110 1103 7987 2818 1104 22679 1433 119 1109 2086 13892 1113 1107 1142 1532 1104 1433 1111 10878 1147 1260 27054 23557 1132 2567 1105 1672 119 1109 1211 2629 4746 1141 117 1110 1216 170 26802 1104 1103 1858 1104 16323 1112 1209 4731 170 4778 4812 1106 1103 1234 119 102\n",
      "[NeMo I 2021-06-21 19:41:01 text_classification_dataset:180] input_mask: 1 1 1 1 1 1 1 1 1 1 1 1 1 1 1 1 1 1 1 1 1 1 1 1 1 1 1 1 1 1 1 1 1 1 1 1 1 1 1 1 1 1 1 1 1 1 1 1 1 1 1 1 1 1 1 1 1 1 1 1 1 1 1 1 1 1 1 1 1 1 1 1 1 1 1 1 1 1 1 1 1 1 1 1 1 1 1 1 1 1 1 1 1 1 1 1 1 1 1 1 1 1 1 1 1 1 1 1 1 1 1 1 1 1 1 1 1 1 1 1 1 1 1 1 1 1 1 1\n",
      "[NeMo I 2021-06-21 19:41:01 text_classification_dataset:175] *** Example ***\n",
      "[NeMo I 2021-06-21 19:41:01 text_classification_dataset:176] example_index: 1\n",
      "[NeMo I 2021-06-21 19:41:01 text_classification_dataset:177] subtokens: [CLS] the right in every State of elect ##ing the corresponding branch of the legislature of the State . Who are to be the objects of popular choice ? Every citizen whose merit may recommend him to the esteem and confidence of his country . No qualification of wealth , of birth , of religious faith , or of civil profession is permitted to f ##ette ##r the judgement or di ##sa ##pp ##oint the inclination of the people . If we consider the situation of the men on whom the free suffrage ##s of their fellow - citizens may con ##fer the representative trust , we shall find it involving every security which can be devised or desired for their fi ##delity to their constituents . [SEP]\n",
      "[NeMo I 2021-06-21 19:41:01 text_classification_dataset:178] sent_label: 0\n",
      "[NeMo I 2021-06-21 19:41:01 text_classification_dataset:179] input_ids: 101 1103 1268 1107 1451 1426 1104 11797 1158 1103 7671 3392 1104 1103 8312 1104 1103 1426 119 2627 1132 1106 1129 1103 4546 1104 1927 3026 136 4081 7888 2133 16008 1336 18029 1140 1106 1103 22123 1105 6595 1104 1117 1583 119 1302 8969 1104 6968 117 1104 3485 117 1104 2689 5228 117 1137 1104 2987 9545 1110 7485 1106 175 6347 1197 1103 21261 1137 4267 3202 8661 21506 1103 24753 1104 1103 1234 119 1409 1195 4615 1103 2820 1104 1103 1441 1113 2292 1103 1714 18817 1116 1104 1147 3235 118 4037 1336 14255 6732 1103 4702 3496 117 1195 4103 1525 1122 5336 1451 2699 1134 1169 1129 15724 1137 8759 1111 1147 20497 18860 1106 1147 27808 119 102\n",
      "[NeMo I 2021-06-21 19:41:01 text_classification_dataset:180] input_mask: 1 1 1 1 1 1 1 1 1 1 1 1 1 1 1 1 1 1 1 1 1 1 1 1 1 1 1 1 1 1 1 1 1 1 1 1 1 1 1 1 1 1 1 1 1 1 1 1 1 1 1 1 1 1 1 1 1 1 1 1 1 1 1 1 1 1 1 1 1 1 1 1 1 1 1 1 1 1 1 1 1 1 1 1 1 1 1 1 1 1 1 1 1 1 1 1 1 1 1 1 1 1 1 1 1 1 1 1 1 1 1 1 1 1 1 1 1 1 1 1 1 1 1 1 1 1 1 1\n",
      "[NeMo I 2021-06-21 19:41:01 text_classification_dataset:175] *** Example ***\n",
      "[NeMo I 2021-06-21 19:41:01 text_classification_dataset:176] example_index: 2\n",
      "[NeMo I 2021-06-21 19:41:01 text_classification_dataset:177] subtokens: [CLS] the energy and prevalence of the contrary sentiment . In the third place , those ties which bind the representative to his constituents are strengthened by motives of a more selfish nature . His pride and van ##ity attach him to a form of government which favors his pre ##tens ##ions and gives him a share in its honors and distinction ##s . Whatever hopes or projects might be entertained by a few aspiring characters , it must generally happen that a great proportion of the men der ##iving their advancement from their influence with the people , would have more to hope from a preservation of the favor , than from innovations in the government sub ##vers ##ive of the authority of the people . [SEP]\n",
      "[NeMo I 2021-06-21 19:41:01 text_classification_dataset:178] sent_label: 0\n",
      "[NeMo I 2021-06-21 19:41:01 text_classification_dataset:179] input_ids: 101 1103 2308 1105 22760 1104 1103 11565 17024 119 1130 1103 1503 1282 117 1343 7057 1134 15600 1103 4702 1106 1117 27808 1132 14544 1118 18686 1104 170 1167 15589 2731 119 1230 8188 1105 3498 1785 25337 1140 1106 170 1532 1104 1433 1134 24208 1117 3073 23826 5266 1105 3114 1140 170 2934 1107 1157 8357 1105 7762 1116 119 6853 7816 1137 3203 1547 1129 23745 1118 170 1374 25850 2650 117 1122 1538 2412 3333 1115 170 1632 10807 1104 1103 1441 4167 21877 1147 19024 1121 1147 2933 1114 1103 1234 117 1156 1138 1167 1106 2810 1121 170 10149 1104 1103 5010 117 1190 1121 18168 1107 1103 1433 4841 10704 2109 1104 1103 3748 1104 1103 1234 119 102\n",
      "[NeMo I 2021-06-21 19:41:01 text_classification_dataset:180] input_mask: 1 1 1 1 1 1 1 1 1 1 1 1 1 1 1 1 1 1 1 1 1 1 1 1 1 1 1 1 1 1 1 1 1 1 1 1 1 1 1 1 1 1 1 1 1 1 1 1 1 1 1 1 1 1 1 1 1 1 1 1 1 1 1 1 1 1 1 1 1 1 1 1 1 1 1 1 1 1 1 1 1 1 1 1 1 1 1 1 1 1 1 1 1 1 1 1 1 1 1 1 1 1 1 1 1 1 1 1 1 1 1 1 1 1 1 1 1 1 1 1 1 1 1 1 1 1 1 1\n",
      "[NeMo I 2021-06-21 19:41:01 text_classification_dataset:175] *** Example ***\n",
      "[NeMo I 2021-06-21 19:41:01 text_classification_dataset:176] example_index: 3\n",
      "[NeMo I 2021-06-21 19:41:01 text_classification_dataset:177] subtokens: [CLS] ##rain ##ing them from op ##pressive measures , that they can make no law which will not have its full operation on themselves and their friends , as well as on the great mass of the society . This has always been deemed one of the strongest bonds by which human policy can connect the rulers and the people together . It creates between them that communion of interests and sympathy of sentiments , of which few governments have furnished examples ; but without which every government de ##generate ##s into t ##yra ##nny . If it be asked , what is to rest ##rain the House of Representatives from making legal discrimination ##s in favor of themselves and a particular class of the society ? [SEP]\n",
      "[NeMo I 2021-06-21 19:41:01 text_classification_dataset:178] sent_label: 0\n",
      "[NeMo I 2021-06-21 19:41:01 text_classification_dataset:179] input_ids: 101 11098 1158 1172 1121 11769 16568 5252 117 1115 1152 1169 1294 1185 1644 1134 1209 1136 1138 1157 1554 2805 1113 2310 1105 1147 2053 117 1112 1218 1112 1113 1103 1632 3367 1104 1103 2808 119 1188 1144 1579 1151 8012 1141 1104 1103 11112 10150 1118 1134 1769 2818 1169 7543 1103 11507 1105 1103 1234 1487 119 1135 8743 1206 1172 1115 27782 1104 4740 1105 12775 1104 27282 117 1104 1134 1374 6670 1138 21904 5136 132 1133 1443 1134 1451 1433 1260 26038 1116 1154 189 20153 15863 119 1409 1122 1129 1455 117 1184 1110 1106 1832 11098 1103 1585 1104 5423 1121 1543 2732 9480 1116 1107 5010 1104 2310 1105 170 2440 1705 1104 1103 2808 136 102\n",
      "[NeMo I 2021-06-21 19:41:01 text_classification_dataset:180] input_mask: 1 1 1 1 1 1 1 1 1 1 1 1 1 1 1 1 1 1 1 1 1 1 1 1 1 1 1 1 1 1 1 1 1 1 1 1 1 1 1 1 1 1 1 1 1 1 1 1 1 1 1 1 1 1 1 1 1 1 1 1 1 1 1 1 1 1 1 1 1 1 1 1 1 1 1 1 1 1 1 1 1 1 1 1 1 1 1 1 1 1 1 1 1 1 1 1 1 1 1 1 1 1 1 1 1 1 1 1 1 1 1 1 1 1 1 1 1 1 1 1 1 1 1 1 1 1 1 1\n",
      "[NeMo I 2021-06-21 19:41:01 text_classification_dataset:175] *** Example ***\n",
      "[NeMo I 2021-06-21 19:41:01 text_classification_dataset:176] example_index: 4\n",
      "[NeMo I 2021-06-21 19:41:01 text_classification_dataset:177] subtokens: [CLS] republican government provides for the liberty and happiness of the people ? Are they not the identical means on which every State government in the Union relies for the attain ##ment of these important ends ? What then are we to understand by the objection which this paper has combat ##ed ? What are we to say to the men who pro ##fe ##ss the most flaming z ##eal for republican government , yet bold ##ly imp ##each the fundamental principle of it ; who pretend to be champions for the right and the capacity of the people to choose their own rulers , yet maintain that they will prefer those only who will immediately and in ##fall ##ibly betray the trust committed to them ? [SEP]\n",
      "[NeMo I 2021-06-21 19:41:01 text_classification_dataset:178] sent_label: 0\n",
      "[NeMo I 2021-06-21 19:41:01 text_classification_dataset:179] input_ids: 101 22679 1433 2790 1111 1103 15470 1105 9266 1104 1103 1234 136 2372 1152 1136 1103 6742 2086 1113 1134 1451 1426 1433 1107 1103 1913 17918 1111 1103 20386 1880 1104 1292 1696 3769 136 1327 1173 1132 1195 1106 2437 1118 1103 26017 1134 1142 2526 1144 4127 1174 136 1327 1132 1195 1106 1474 1106 1103 1441 1150 5250 8124 3954 1103 1211 27928 195 13003 1111 22679 1433 117 1870 9009 1193 24034 17269 1103 8148 6708 1104 1122 132 1150 9981 1106 1129 5461 1111 1103 1268 1105 1103 3211 1104 1103 1234 1106 4835 1147 1319 11507 117 1870 4731 1115 1152 1209 9353 1343 1178 1150 1209 2411 1105 1107 8877 15298 23240 1103 3496 4762 1106 1172 136 102\n",
      "[NeMo I 2021-06-21 19:41:01 text_classification_dataset:180] input_mask: 1 1 1 1 1 1 1 1 1 1 1 1 1 1 1 1 1 1 1 1 1 1 1 1 1 1 1 1 1 1 1 1 1 1 1 1 1 1 1 1 1 1 1 1 1 1 1 1 1 1 1 1 1 1 1 1 1 1 1 1 1 1 1 1 1 1 1 1 1 1 1 1 1 1 1 1 1 1 1 1 1 1 1 1 1 1 1 1 1 1 1 1 1 1 1 1 1 1 1 1 1 1 1 1 1 1 1 1 1 1 1 1 1 1 1 1 1 1 1 1 1 1 1 1 1 1 1 1\n",
      "[NeMo I 2021-06-21 19:41:01 actions:695] Evaluating batch 0 out of 9\n",
      "[NeMo I 2021-06-21 19:41:01 actions:695] Evaluating batch 1 out of 9\n",
      "[NeMo I 2021-06-21 19:41:01 actions:695] Evaluating batch 2 out of 9\n",
      "[NeMo I 2021-06-21 19:41:01 actions:695] Evaluating batch 3 out of 9\n",
      "[NeMo I 2021-06-21 19:41:01 actions:695] Evaluating batch 4 out of 9\n",
      "[NeMo I 2021-06-21 19:41:01 actions:695] Evaluating batch 5 out of 9\n",
      "[NeMo I 2021-06-21 19:41:01 actions:695] Evaluating batch 6 out of 9\n",
      "[NeMo I 2021-06-21 19:41:01 actions:695] Evaluating batch 7 out of 9\n",
      "[NeMo I 2021-06-21 19:41:01 actions:695] Evaluating batch 8 out of 9\n",
      "[NeMo I 2021-06-21 19:41:01 text_classification_dataset:82] /dli/task/data/federalist_papers_HM/labeled_test62.tsv: 22\n",
      "[NeMo I 2021-06-21 19:41:02 data_preprocessing:250] Min: 267 |                  Max: 362 |                  Mean: 300.54545454545456 |                  Median: 299.5\n",
      "[NeMo I 2021-06-21 19:41:02 data_preprocessing:252] 75 percentile: 305.75\n",
      "[NeMo I 2021-06-21 19:41:02 data_preprocessing:253] 99 percentile: 356.3299999999999\n",
      "[NeMo I 2021-06-21 19:41:02 text_classification_dataset:118] 22 out of 22                         sentences with more than 128 subtokens.\n",
      "[NeMo I 2021-06-21 19:41:02 text_classification_dataset:175] *** Example ***\n",
      "[NeMo I 2021-06-21 19:41:02 text_classification_dataset:176] example_index: 0\n",
      "[NeMo I 2021-06-21 19:41:02 text_classification_dataset:177] subtokens: [CLS] of age at least ; as a representative must be twenty - five . And the former must have been a citizen nine years ; as seven years are required for the latter . The prop ##rie ##ty of these distinction ##s is explained by the nature of the senator ##ial trust , which , requiring greater extent of information and stability of character , requires at the same time that the senator should have reached a period of life most likely to supply these advantages ; and which , participating immediately in transactions with foreign nations , ought to be exercised by none who are not thoroughly we ##ane ##d from the pre ##po ##sses ##sions and habits incident to foreign birth and education . [SEP]\n",
      "[NeMo I 2021-06-21 19:41:02 text_classification_dataset:178] sent_label: 0\n",
      "[NeMo I 2021-06-21 19:41:02 text_classification_dataset:179] input_ids: 101 1104 1425 1120 1655 132 1112 170 4702 1538 1129 2570 118 1421 119 1262 1103 1393 1538 1138 1151 170 7888 2551 1201 132 1112 1978 1201 1132 2320 1111 1103 2985 119 1109 21146 5997 2340 1104 1292 7762 1116 1110 3716 1118 1103 2731 1104 1103 12280 2916 3496 117 1134 117 8753 3407 6102 1104 1869 1105 9397 1104 1959 117 5315 1120 1103 1269 1159 1115 1103 12280 1431 1138 1680 170 1669 1104 1297 1211 2620 1106 3880 1292 13300 132 1105 1134 117 7828 2411 1107 14409 1114 2880 6015 117 11454 1106 1129 19065 1118 3839 1150 1132 1136 12678 1195 6354 1181 1121 1103 3073 5674 26895 14971 1105 15640 4497 1106 2880 3485 1105 1972 119 102\n",
      "[NeMo I 2021-06-21 19:41:02 text_classification_dataset:180] input_mask: 1 1 1 1 1 1 1 1 1 1 1 1 1 1 1 1 1 1 1 1 1 1 1 1 1 1 1 1 1 1 1 1 1 1 1 1 1 1 1 1 1 1 1 1 1 1 1 1 1 1 1 1 1 1 1 1 1 1 1 1 1 1 1 1 1 1 1 1 1 1 1 1 1 1 1 1 1 1 1 1 1 1 1 1 1 1 1 1 1 1 1 1 1 1 1 1 1 1 1 1 1 1 1 1 1 1 1 1 1 1 1 1 1 1 1 1 1 1 1 1 1 1 1 1 1 1 1 1\n",
      "[NeMo I 2021-06-21 19:41:02 text_classification_dataset:175] *** Example ***\n",
      "[NeMo I 2021-06-21 19:41:02 text_classification_dataset:176] example_index: 1\n",
      "[NeMo I 2021-06-21 19:41:02 text_classification_dataset:177] subtokens: [CLS] the small States , does not call for much discussion . If indeed it be right , that among a people thoroughly incorporated into one nation , every district ought to have a PR ##OP ##OR ##TI ##ON ##AL share in the government , and that among independent and sovereign States , bound together by a simple league , the parties , however une ##qua ##l in size , ought to have an E ##Q ##U ##AL share in the common councils , it does not appear to be without some reason that in a compound republic , part ##aking both of the national and federal character , the government ought to be founded on a mixture of the principles of proportional and equal representation . [SEP]\n",
      "[NeMo I 2021-06-21 19:41:02 text_classification_dataset:178] sent_label: 0\n",
      "[NeMo I 2021-06-21 19:41:02 text_classification_dataset:179] input_ids: 101 1103 1353 1311 117 1674 1136 1840 1111 1277 6145 119 1409 5750 1122 1129 1268 117 1115 1621 170 1234 12678 4572 1154 1141 3790 117 1451 1629 11454 1106 1138 170 11629 17195 9565 21669 11414 12507 2934 1107 1103 1433 117 1105 1115 1621 2457 1105 14611 1311 117 4930 1487 1118 170 3014 2074 117 1103 3512 117 1649 25731 13284 1233 1107 2060 117 11454 1106 1138 1126 142 4880 2591 12507 2934 1107 1103 1887 13298 117 1122 1674 1136 2845 1106 1129 1443 1199 2255 1115 1107 170 7090 13911 117 1226 13024 1241 1104 1103 1569 1105 2877 1959 117 1103 1433 11454 1106 1129 1771 1113 170 7759 1104 1103 6551 1104 15122 1105 4463 6368 119 102\n",
      "[NeMo I 2021-06-21 19:41:02 text_classification_dataset:180] input_mask: 1 1 1 1 1 1 1 1 1 1 1 1 1 1 1 1 1 1 1 1 1 1 1 1 1 1 1 1 1 1 1 1 1 1 1 1 1 1 1 1 1 1 1 1 1 1 1 1 1 1 1 1 1 1 1 1 1 1 1 1 1 1 1 1 1 1 1 1 1 1 1 1 1 1 1 1 1 1 1 1 1 1 1 1 1 1 1 1 1 1 1 1 1 1 1 1 1 1 1 1 1 1 1 1 1 1 1 1 1 1 1 1 1 1 1 1 1 1 1 1 1 1 1 1 1 1 1 1\n",
      "[NeMo I 2021-06-21 19:41:02 text_classification_dataset:175] *** Example ***\n",
      "[NeMo I 2021-06-21 19:41:02 text_classification_dataset:176] example_index: 2\n",
      "[NeMo I 2021-06-21 19:41:02 text_classification_dataset:177] subtokens: [CLS] fruit ##less anticipation of the possible mi ##sch ##ief ##s which may en ##su ##e , to con ##tem ##plate rather the advantage ##ous consequences which may qualify the sacrifice . In this spirit it may be remarked , that the equal vote allowed to each State is at once a constitutional recognition of the portion of sovereignty remaining in the individual States , and an instrument for preserving that re ##si ##dua ##ry sovereignty . So far the equality ought to be no less acceptable to the large than to the small States ; since they are not less so ##licit ##ous to guard , by every possible ex ##ped ##ient , against an imp ##roper consolidation of the States into one simple republic . [SEP]\n",
      "[NeMo I 2021-06-21 19:41:02 text_classification_dataset:178] sent_label: 0\n",
      "[NeMo I 2021-06-21 19:41:02 text_classification_dataset:179] input_ids: 101 5735 2008 11468 1104 1103 1936 1940 9022 19436 1116 1134 1336 4035 6385 1162 117 1106 14255 18408 16671 1897 1103 4316 2285 8421 1134 1336 7044 1103 9050 119 1130 1142 4840 1122 1336 1129 10694 117 1115 1103 4463 2992 2148 1106 1296 1426 1110 1120 1517 170 7950 4453 1104 1103 3849 1104 13578 2735 1107 1103 2510 1311 117 1105 1126 6337 1111 16593 1115 1231 5053 25823 1616 13578 119 1573 1677 1103 11986 11454 1106 1129 1185 1750 12095 1106 1103 1415 1190 1106 1103 1353 1311 132 1290 1152 1132 1136 1750 1177 18726 2285 1106 3542 117 1118 1451 1936 4252 3537 9080 117 1222 1126 24034 26554 20994 1104 1103 1311 1154 1141 3014 13911 119 102\n",
      "[NeMo I 2021-06-21 19:41:02 text_classification_dataset:180] input_mask: 1 1 1 1 1 1 1 1 1 1 1 1 1 1 1 1 1 1 1 1 1 1 1 1 1 1 1 1 1 1 1 1 1 1 1 1 1 1 1 1 1 1 1 1 1 1 1 1 1 1 1 1 1 1 1 1 1 1 1 1 1 1 1 1 1 1 1 1 1 1 1 1 1 1 1 1 1 1 1 1 1 1 1 1 1 1 1 1 1 1 1 1 1 1 1 1 1 1 1 1 1 1 1 1 1 1 1 1 1 1 1 1 1 1 1 1 1 1 1 1 1 1 1 1 1 1 1 1\n",
      "[NeMo I 2021-06-21 19:41:02 text_classification_dataset:175] *** Example ***\n",
      "[NeMo I 2021-06-21 19:41:02 text_classification_dataset:176] example_index: 3\n",
      "[NeMo I 2021-06-21 19:41:02 text_classification_dataset:177] subtokens: [CLS] seem to be the diseases to which our governments are most liable , it is not impossible that this part of the Constitution may be more convenient in practice than it appears to many in con ##tem ##p ##lation . IV . The number of senators , and the duration of their appointment , come next to be considered . In order to form an accurate judgment on both of these points , it will be proper to in ##quire into the purposes which are to be answered by a senate ; and in order to as ##cer ##tain these , it will be necessary to review the in ##con ##ven ##ience ##s which a republic must suffer from the want of such an institution . [SEP]\n",
      "[NeMo I 2021-06-21 19:41:02 text_classification_dataset:178] sent_label: 0\n",
      "[NeMo I 2021-06-21 19:41:02 text_classification_dataset:179] input_ids: 101 3166 1106 1129 1103 8131 1106 1134 1412 6670 1132 1211 21988 117 1122 1110 1136 4763 1115 1142 1226 1104 1103 5317 1336 1129 1167 14785 1107 2415 1190 1122 2691 1106 1242 1107 14255 18408 1643 6840 119 4191 119 1109 1295 1104 21770 117 1105 1103 9355 1104 1147 5516 117 1435 1397 1106 1129 1737 119 1130 1546 1106 1532 1126 8026 9228 1113 1241 1104 1292 1827 117 1122 1209 1129 4778 1106 1107 15174 1154 1103 4998 1134 1132 1106 1129 3845 1118 170 22719 132 1105 1107 1546 1106 1112 14840 11379 1292 117 1122 1209 1129 3238 1106 3189 1103 1107 7235 7912 16457 1116 1134 170 13911 1538 8813 1121 1103 1328 1104 1216 1126 5375 119 102\n",
      "[NeMo I 2021-06-21 19:41:02 text_classification_dataset:180] input_mask: 1 1 1 1 1 1 1 1 1 1 1 1 1 1 1 1 1 1 1 1 1 1 1 1 1 1 1 1 1 1 1 1 1 1 1 1 1 1 1 1 1 1 1 1 1 1 1 1 1 1 1 1 1 1 1 1 1 1 1 1 1 1 1 1 1 1 1 1 1 1 1 1 1 1 1 1 1 1 1 1 1 1 1 1 1 1 1 1 1 1 1 1 1 1 1 1 1 1 1 1 1 1 1 1 1 1 1 1 1 1 1 1 1 1 1 1 1 1 1 1 1 1 1 1 1 1 1 1\n",
      "[NeMo I 2021-06-21 19:41:02 text_classification_dataset:175] *** Example ***\n",
      "[NeMo I 2021-06-21 19:41:02 text_classification_dataset:176] example_index: 4\n",
      "[NeMo I 2021-06-21 19:41:02 text_classification_dataset:177] subtokens: [CLS] barely remark , that as the imp ##ro ##ba ##bility of sinister combinations will be in proportion to the di ##ssi ##mi ##lar ##ity in the genius of the two bodies , it must be p ##oli ##tic to distinguish them from each other by every c ##ir ##cum ##stance which will consist with a due harmony in all proper measures , and with the genuine principles of republican government . Second ##ly . The necessity of a senate is not less indicated by the prop ##ens ##ity of all single and numerous assemblies to yield to the impulse of sudden and violent passion ##s , and to be seduce ##d by fact ##ious leaders into in ##tem ##per ##ate and per ##nic ##ious resolutions . [SEP]\n",
      "[NeMo I 2021-06-21 19:41:02 text_classification_dataset:178] sent_label: 0\n",
      "[NeMo I 2021-06-21 19:41:02 text_classification_dataset:179] input_ids: 101 3742 19422 117 1115 1112 1103 24034 2180 2822 5474 1104 20975 16058 1209 1129 1107 10807 1106 1103 4267 19828 3080 5815 1785 1107 1103 13533 1104 1103 1160 3470 117 1122 1538 1129 185 11014 2941 1106 10706 1172 1121 1296 1168 1118 1451 172 3161 19172 21579 1134 1209 8296 1114 170 1496 12659 1107 1155 4778 5252 117 1105 1114 1103 10416 6551 1104 22679 1433 119 2307 1193 119 1109 14176 1104 170 22719 1110 1136 1750 4668 1118 1103 21146 5026 1785 1104 1155 1423 1105 2567 24798 1106 10972 1106 1103 18623 1104 4962 1105 5973 7615 1116 117 1105 1106 1129 26317 1181 1118 1864 4179 3478 1154 1107 18408 3365 2193 1105 1679 7770 4179 22446 119 102\n",
      "[NeMo I 2021-06-21 19:41:02 text_classification_dataset:180] input_mask: 1 1 1 1 1 1 1 1 1 1 1 1 1 1 1 1 1 1 1 1 1 1 1 1 1 1 1 1 1 1 1 1 1 1 1 1 1 1 1 1 1 1 1 1 1 1 1 1 1 1 1 1 1 1 1 1 1 1 1 1 1 1 1 1 1 1 1 1 1 1 1 1 1 1 1 1 1 1 1 1 1 1 1 1 1 1 1 1 1 1 1 1 1 1 1 1 1 1 1 1 1 1 1 1 1 1 1 1 1 1 1 1 1 1 1 1 1 1 1 1 1 1 1 1 1 1 1 1\n",
      "[NeMo I 2021-06-21 19:41:02 actions:695] Evaluating batch 0 out of 22\n",
      "[NeMo I 2021-06-21 19:41:02 actions:695] Evaluating batch 2 out of 22\n",
      "[NeMo I 2021-06-21 19:41:02 actions:695] Evaluating batch 4 out of 22\n",
      "[NeMo I 2021-06-21 19:41:02 actions:695] Evaluating batch 6 out of 22\n",
      "[NeMo I 2021-06-21 19:41:02 actions:695] Evaluating batch 8 out of 22\n",
      "[NeMo I 2021-06-21 19:41:02 actions:695] Evaluating batch 10 out of 22\n",
      "[NeMo I 2021-06-21 19:41:02 actions:695] Evaluating batch 12 out of 22\n",
      "[NeMo I 2021-06-21 19:41:02 actions:695] Evaluating batch 14 out of 22\n",
      "[NeMo I 2021-06-21 19:41:02 actions:695] Evaluating batch 16 out of 22\n",
      "[NeMo I 2021-06-21 19:41:03 actions:695] Evaluating batch 18 out of 22\n",
      "[NeMo I 2021-06-21 19:41:03 actions:695] Evaluating batch 20 out of 22\n"
     ]
    }
   ],
   "source": [
    "print_collated_output = ''\n",
    "for test_file in test_files:\n",
    "    result = classify_paper(nf, tokenizer, lm, classifier, DATA_DIR + 'labeled_' + test_file, DATA_DIR + 'inference_result_' + test_file)\n",
    "    print_collated_output += result"
   ]
  },
  {
   "cell_type": "code",
   "execution_count": 28,
   "metadata": {},
   "outputs": [
    {
     "name": "stdout",
     "output_type": "stream",
     "text": [
      "MADISON /dli/task/data/federalist_papers_HM/labeled_test49.tsv mean: 0.437 std: 0.517\n",
      "MADISON /dli/task/data/federalist_papers_HM/labeled_test50.tsv mean: 0.257 std: 0.493\n",
      "MADISON /dli/task/data/federalist_papers_HM/labeled_test51.tsv mean: 0.384 std: 0.436\n",
      "MADISON /dli/task/data/federalist_papers_HM/labeled_test52.tsv mean: 0.311 std: 0.382\n",
      "MADISON /dli/task/data/federalist_papers_HM/labeled_test53.tsv mean: 0.335 std: 0.466\n",
      "MADISON /dli/task/data/federalist_papers_HM/labeled_test54.tsv mean: 0.062 std: 0.154\n",
      "MADISON /dli/task/data/federalist_papers_HM/labeled_test55.tsv mean: 0.367 std: 0.495\n",
      "MADISON /dli/task/data/federalist_papers_HM/labeled_test56.tsv mean: 0.433 std: 0.472\n",
      "MADISON /dli/task/data/federalist_papers_HM/labeled_test57.tsv mean: 0.429 std: 0.488\n",
      "MADISON /dli/task/data/federalist_papers_HM/labeled_test62.tsv mean: 0.428 std: 0.432\n",
      "\n"
     ]
    }
   ],
   "source": [
    "print(print_collated_output)"
   ]
  },
  {
   "cell_type": "markdown",
   "metadata": {},
   "source": [
    "We can open the individual `inference_result_testXX.tsv` file to see the detailed results."
   ]
  }
 ],
 "metadata": {
  "kernelspec": {
   "display_name": "Python 3",
   "language": "python",
   "name": "python3"
  },
  "language_info": {
   "codemirror_mode": {
    "name": "ipython",
    "version": 3
   },
   "file_extension": ".py",
   "mimetype": "text/x-python",
   "name": "python",
   "nbconvert_exporter": "python",
   "pygments_lexer": "ipython3",
   "version": "3.6.9"
  },
  "pycharm": {
   "stem_cell": {
    "cell_type": "raw",
    "metadata": {
     "collapsed": false
    },
    "source": []
   }
  }
 },
 "nbformat": 4,
 "nbformat_minor": 4
}
